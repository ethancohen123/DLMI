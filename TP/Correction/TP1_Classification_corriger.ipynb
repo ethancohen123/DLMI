{
  "nbformat": 4,
  "nbformat_minor": 0,
  "metadata": {
    "colab": {
      "name": "Diagnosis_classification_correction.ipynb",
      "provenance": [],
      "collapsed_sections": [],
      "toc_visible": true
    },
    "kernelspec": {
      "name": "python3",
      "display_name": "Python 3"
    },
    "accelerator": "GPU"
  },
  "cells": [
    {
      "cell_type": "markdown",
      "metadata": {
        "id": "OgplfJGysehS",
        "colab_type": "text"
      },
      "source": [
        "# Classification of Alzheimer's disease diagnosis\n",
        "\n",
        "The goal of this lab session is to train a network that will perform a binary classification between the control participants and patients that are affected by Alzheimer's disease. The input of the network is a neuroimaging modality: the T1 weighted MRI. In this project we use the [pytorch library](https://pytorch.org/).\n"
      ]
    },
    {
      "cell_type": "code",
      "metadata": {
        "id": "S1Q0mTbro-EW",
        "colab_type": "code",
        "colab": {}
      },
      "source": [
        "import torch\n",
        "import numpy as np\n",
        "import pandas as pd\n",
        "from torch import nn\n",
        "from time import time\n",
        "from os import path\n",
        "from torchvision import transforms\n",
        "import random\n",
        "from copy import deepcopy"
      ],
      "execution_count": 0,
      "outputs": []
    },
    {
      "cell_type": "markdown",
      "metadata": {
        "id": "2zUJS1UEsj6C",
        "colab_type": "text"
      },
      "source": [
        "## Database\n",
        "\n",
        "In this session we use the images from a public research project: [OASIS-1](https://www.oasis-brains.org/#data).\n",
        "Two labels exist in this dataset:\n",
        "- CN (Cognitively Normal) for healthy participants.\n",
        "- AD (Alzheimer's Disease) for patients affected by Alzheimer's disease.\n",
        "\n",
        "All the preprocessed images we use were put on github, run the following command to download them."
      ]
    },
    {
      "cell_type": "code",
      "metadata": {
        "id": "XJ9xFm1nt4ed",
        "colab_type": "code",
        "outputId": "23b5a07a-fc59-428a-a83d-32ba43373875",
        "colab": {
          "base_uri": "https://localhost:8080/",
          "height": 156
        }
      },
      "source": [
        "! git clone https://github.com/14thibea/OASIS-1_dataset.git"
      ],
      "execution_count": 0,
      "outputs": [
        {
          "output_type": "stream",
          "text": [
            "Cloning into 'OASIS-1_dataset'...\n",
            "remote: Enumerating objects: 30, done.\u001b[K\n",
            "remote: Counting objects:   3% (1/30)\u001b[K\rremote: Counting objects:   6% (2/30)\u001b[K\rremote: Counting objects:  10% (3/30)\u001b[K\rremote: Counting objects:  13% (4/30)\u001b[K\rremote: Counting objects:  16% (5/30)\u001b[K\rremote: Counting objects:  20% (6/30)\u001b[K\rremote: Counting objects:  23% (7/30)\u001b[K\rremote: Counting objects:  26% (8/30)\u001b[K\rremote: Counting objects:  30% (9/30)\u001b[K\rremote: Counting objects:  33% (10/30)\u001b[K\rremote: Counting objects:  36% (11/30)\u001b[K\rremote: Counting objects:  40% (12/30)\u001b[K\rremote: Counting objects:  43% (13/30)\u001b[K\rremote: Counting objects:  46% (14/30)\u001b[K\rremote: Counting objects:  50% (15/30)\u001b[K\rremote: Counting objects:  53% (16/30)\u001b[K\rremote: Counting objects:  56% (17/30)\u001b[K\rremote: Counting objects:  60% (18/30)\u001b[K\rremote: Counting objects:  63% (19/30)\u001b[K\rremote: Counting objects:  66% (20/30)\u001b[K\rremote: Counting objects:  70% (21/30)\u001b[K\rremote: Counting objects:  73% (22/30)\u001b[K\rremote: Counting objects:  76% (23/30)\u001b[K\rremote: Counting objects:  80% (24/30)\u001b[K\rremote: Counting objects:  83% (25/30)\u001b[K\rremote: Counting objects:  86% (26/30)\u001b[K\rremote: Counting objects:  90% (27/30)\u001b[K\rremote: Counting objects:  93% (28/30)\u001b[K\rremote: Counting objects:  96% (29/30)\u001b[K\rremote: Counting objects: 100% (30/30)\u001b[K\rremote: Counting objects: 100% (30/30), done.\u001b[K\n",
            "remote: Compressing objects: 100% (25/25), done.\u001b[K\n",
            "remote: Total 657 (delta 14), reused 18 (delta 5), pack-reused 627\u001b[K\n",
            "Receiving objects: 100% (657/657), 1.31 GiB | 49.88 MiB/s, done.\n",
            "Resolving deltas: 100% (445/445), done.\n",
            "Checking out files: 100% (574/574), done.\n"
          ],
          "name": "stdout"
        }
      ]
    },
    {
      "cell_type": "markdown",
      "metadata": {
        "id": "3fy5DVT7mtAs",
        "colab_type": "text"
      },
      "source": [
        "One crucial step before training a neural network is to check the dataset. Are the classes balanced ? Are there biases in the dataset that may differentiate the labels ?\n",
        "\n",
        "Here we will focus on the demographics (age, sex and level of education) and two cognitive scores:\n",
        "- The MMS (Mini Mental State), rated between 0 (no correct answer) to 30 (healthy subject)\n",
        "- The CDR (Clinical Dementia Rating), that is null if the participant is non-demented and of 0.5, 1, 2 and 3 for very mild, mild, moderate and severe dementia, respectively"
      ]
    },
    {
      "cell_type": "code",
      "metadata": {
        "id": "Moe2GRGkPyJJ",
        "colab_type": "code",
        "outputId": "9cb26ac8-9d81-4e45-e09e-c940414d191b",
        "colab": {
          "base_uri": "https://localhost:8080/",
          "height": 69
        }
      },
      "source": [
        "# Load the complete dataset\n",
        "OASIS_df = pd.read_csv('OASIS-1_dataset/tsv_files/OASIS_BIDS.tsv', sep='\\t')\n",
        "\n",
        "# Study the characteristics of the AD & CN populations (age, sex, MMS, cdr_global)\n",
        "def characteristics_table(df, merged_df):\n",
        "    \"\"\"Creates a DataFrame that summarizes the characteristics of the DataFrame df\"\"\"\n",
        "    diagnoses = np.unique(df.diagnosis.values)\n",
        "    population_df = pd.DataFrame(index=diagnoses,\n",
        "                                columns=['N', 'age', '%sexF', 'education',\n",
        "                                         'MMS', 'CDR=0', 'CDR=0.5', 'CDR=1', 'CDR=2'])\n",
        "    merged_df = merged_df.set_index(['participant_id', 'session_id'], drop=True)\n",
        "    df = df.set_index(['participant_id', 'session_id'], drop=True)\n",
        "    sub_merged_df = merged_df.loc[df.index]\n",
        "    \n",
        "    for diagnosis in population_df.index.values:\n",
        "        diagnosis_df = sub_merged_df[df.diagnosis == diagnosis]\n",
        "        population_df.loc[diagnosis, 'N'] = len(diagnosis_df)\n",
        "        # Age\n",
        "        mean_age = np.mean(diagnosis_df.age_bl)\n",
        "        std_age = np.std(diagnosis_df.age_bl)\n",
        "        population_df.loc[diagnosis, 'age'] = '%.1f ± %.1f' % (mean_age, std_age)\n",
        "        # Sex\n",
        "        population_df.loc[diagnosis, '%sexF'] = round((len(diagnosis_df[diagnosis_df.sex == 'F']) / len(diagnosis_df)) * 100, 1)\n",
        "        # Education level\n",
        "        mean_education_level = np.nanmean(diagnosis_df.education_level)\n",
        "        std_education_level = np.nanstd(diagnosis_df.education_level)\n",
        "        population_df.loc[diagnosis, 'education'] = '%.1f ± %.1f' % (mean_education_level, std_education_level)\n",
        "        # MMS\n",
        "        mean_MMS = np.mean(diagnosis_df.MMS)\n",
        "        std_MMS = np.std(diagnosis_df.MMS)\n",
        "        population_df.loc[diagnosis, 'MMS'] = '%.1f ± %.1f' % (mean_MMS, std_MMS)\n",
        "        # CDR\n",
        "        for value in ['0', '0.5', '1', '2']:\n",
        "          population_df.loc[diagnosis, 'CDR=%s' % value] = len(diagnosis_df[diagnosis_df.cdr_global == float(value)])\n",
        "\n",
        "    return population_df\n",
        "\n",
        "population_df = characteristics_table(OASIS_df, OASIS_df)\n",
        "print(population_df)"
      ],
      "execution_count": 0,
      "outputs": [
        {
          "output_type": "stream",
          "text": [
            "      N          age %sexF  education         MMS CDR=0 CDR=0.5 CDR=1 CDR=2\n",
            "AD   73   77.5 ± 7.4    63  2.7 ± 1.3  22.7 ± 3.6     0      45    26     2\n",
            "CN  304  44.0 ± 23.3  62.2  3.5 ± 1.2  29.7 ± 0.6   124       0     0     0\n"
          ],
          "name": "stdout"
        }
      ]
    },
    {
      "cell_type": "markdown",
      "metadata": {
        "id": "66NAk4C-spYh",
        "colab_type": "text"
      },
      "source": [
        "## Preprocessing\n",
        "\n",
        "Theoretically, the main advantage of deep learning methods is to be able to work without extensive data preprocessing. However, as we have only a few images to train the network in this lab session, the preprocessing here is very extensive. More specifically, the images encountered:\n",
        "1. Non-linear registration\n",
        "2. Segmentation of grey matter\n",
        "3. Conversion to tensor format (.pt)\n",
        "\n",
        "The preprocessed images all have the same size (121x145x121). You will find below a Dataset that allow to browse easily the database."
      ]
    },
    {
      "cell_type": "code",
      "metadata": {
        "id": "4j72nWXCrhjZ",
        "colab_type": "code",
        "colab": {}
      },
      "source": [
        "from torch.utils.data import Dataset, DataLoader, sampler\n",
        "from os import path\n",
        "\n",
        "class MRIDataset(Dataset):\n",
        "    \"\"\"This dataset include the preprocessed MRI of a list of subjects\"\"\"\n",
        "    \n",
        "    def __init__(self, img_dir, data_df, transform=None):\n",
        "        \"\"\"\n",
        "        Args:\n",
        "            img_dir: (str) path to the images directory.\n",
        "            data_df: (DataFrame) list of subjects / sessions used.\n",
        "            transform: Optional, transformations applied to the tensor \n",
        "        \"\"\"\n",
        "        self.img_dir = img_dir\n",
        "        self.transform = transform\n",
        "        self.data_df = data_df\n",
        "        self.label_code = {\"AD\":1, \"CN\":0}\n",
        "\n",
        "        self.size = self[0]['image'].shape\n",
        "        \n",
        "    def __len__(self):\n",
        "        return len(self.data_df)\n",
        "    \n",
        "    def __getitem__(self, idx):\n",
        "        \"\"\"\n",
        "        Args:\n",
        "            idx: (int) the index of the subject/session whom data is loaded.\n",
        "        Returns:\n",
        "            sample: (dict) corresponding data described by the following keys:\n",
        "                image: (Tensor) MR image\n",
        "                label: (int) the diagnosis code (0 for CN or 1 for AD)\n",
        "                participant_id: (str) ID of the participant (format sub-...)\n",
        "                session_id: (str) ID of the session (format ses-M...)\n",
        "        \"\"\"\n",
        "\n",
        "        diagnosis = self.data_df.loc[idx, 'diagnosis']\n",
        "        label = self.label_code[diagnosis]\n",
        "        \n",
        "        participant_id = self.data_df.loc[idx, 'participant_id']\n",
        "        session_id = self.data_df.loc[idx, 'session_id']\n",
        "        filename = participant_id + '_' + session_id + \\\n",
        "          '_T1w_segm-graymatter_space-Ixi549Space_modulated-off_probability.pt'\n",
        "\n",
        "        image = torch.load(path.join(self.img_dir, filename))\n",
        "\n",
        "        if self.transform:\n",
        "            image = self.transform(image)\n",
        "\n",
        "        sample = {'image': image, 'label': label,\n",
        "                  'participant_id': participant_id,\n",
        "                  'session_id': session_id}\n",
        "        return sample\n",
        "\n",
        "    def train(self):\n",
        "        \"\"\"Put all the transforms of the dataset in training mode\"\"\"\n",
        "        self.transform.train()\n",
        "\n",
        "    def eval(self):\n",
        "        \"\"\"Put all the transforms of the dataset in evaluation mode\"\"\"\n",
        "        self.transform.eval()"
      ],
      "execution_count": 0,
      "outputs": []
    },
    {
      "cell_type": "markdown",
      "metadata": {
        "id": "2dCAujRQmI8Q",
        "colab_type": "text"
      },
      "source": [
        "To facilitate the training and avoid overfitting due to the limited amount of data, the network won't use the full image but only a part of the image centered on a specific neuroanatomical region: the hippocampus (HC).\n",
        "This structure is known to be linked to memory, and is atrophied in the majority of cases of Alzheimer's disease patients.\n",
        "\n",
        "To improve the training and reduce overfitting, a random shift was added to the cropping function. This means that the bounding box around the hippocampus may be shifted by a limited amount of voxels in each of the three directions.\n",
        "\n",
        "By using a random shift, we generate several patches with one original MRI: this is called **data augmentation**. This can be very useful for training as it artificially increases the amount of data (though theses samples are very correlated of course). However this is not used during evaluation to obtain a deterministic result. This is why these functions have a training and an evaluation mode."
      ]
    },
    {
      "cell_type": "code",
      "metadata": {
        "id": "ypEhnqxVpRlY",
        "colab_type": "code",
        "colab": {}
      },
      "source": [
        "class CropLeftHC(object):\n",
        "    \"\"\"Crops the left hippocampus of a MRI non-linearly registered to MNI\"\"\"\n",
        "    def __init__(self, random_shift=0):\n",
        "        self.random_shift = random_shift\n",
        "        self.train_mode = True\n",
        "    def __call__(self, img):\n",
        "        if self.train_mode:\n",
        "            x = random.randint(-self.random_shift, self.random_shift)\n",
        "            y = random.randint(-self.random_shift, self.random_shift)\n",
        "            z = random.randint(-self.random_shift, self.random_shift)\n",
        "        else:\n",
        "            x, y, z = 0, 0, 0\n",
        "        return img[:, 25 + x:55 + x,\n",
        "                   50 + y:90 + y,\n",
        "                   27 + z:57 + z].clone()\n",
        "\n",
        "    def train(self):\n",
        "        self.train_mode = True\n",
        "\n",
        "    def eval(self):\n",
        "        self.train_mode = False\n",
        "\n",
        "class CropRightHC(object):\n",
        "    \"\"\"Crops the right hippocampus of a MRI non-linearly registered to MNI\"\"\"\n",
        "    def __init__(self, random_shift=0):\n",
        "        self.random_shift = random_shift\n",
        "        self.train_mode = True\n",
        "    def __call__(self, img):\n",
        "        if self.train_mode:\n",
        "            x = random.randint(-self.random_shift, self.random_shift)\n",
        "            y = random.randint(-self.random_shift, self.random_shift)\n",
        "            z = random.randint(-self.random_shift, self.random_shift)\n",
        "        else:\n",
        "            x, y, z = 0, 0, 0\n",
        "        return img[:, 65 + x:95 + x,\n",
        "                   50 + y:90 + y,\n",
        "                   27 + z:57 + z].clone()\n",
        "\n",
        "    def train(self):\n",
        "        self.train_mode = True\n",
        "\n",
        "    def eval(self):\n",
        "        self.train_mode = False"
      ],
      "execution_count": 0,
      "outputs": []
    },
    {
      "cell_type": "markdown",
      "metadata": {
        "id": "H3JoArkK9tIw",
        "colab_type": "text"
      },
      "source": [
        "## Visualization\n",
        "\n",
        "Here we visualize the raw, preprocessed and cropped data."
      ]
    },
    {
      "cell_type": "code",
      "metadata": {
        "id": "eFpB23ybfOWg",
        "colab_type": "code",
        "outputId": "994cd69a-5d43-43ff-9606-b4657c825c90",
        "colab": {
          "base_uri": "https://localhost:8080/",
          "height": 725
        }
      },
      "source": [
        "import matplotlib.pyplot as plt\n",
        "import nibabel as nib\n",
        "from scipy.ndimage import rotate\n",
        "\n",
        "subject = 'sub-OASIS10003'\n",
        "preprocessed_pt = torch.load('OASIS-1_dataset/preprocessed/%s_ses-M00_' % subject +\n",
        "                    'T1w_segm-graymatter_space-Ixi549Space_modulated-off_' +\n",
        "                    'probability.pt')\n",
        "raw_nii = nib.load('OASIS-1_dataset/raw/%s_ses-M00_T1w.nii.gz' % subject) # Nifti1Image (wrapper on a numpy array with metadata)\n",
        "raw_np = raw_nii.get_data() # Numpy array\n",
        "\n",
        "def show_slices(slices):\n",
        "    \"\"\" Function to display a row of image slices \"\"\"\n",
        "    fig, axes = plt.subplots(1, len(slices))\n",
        "    for i, slice in enumerate(slices):\n",
        "        axes[i].imshow(slice.T, cmap=\"gray\", origin=\"lower\")\n",
        "\n",
        "slice_0 = raw_np[80, :, :]\n",
        "slice_1 = raw_np[:, 130, :]\n",
        "slice_2 = raw_np[:, :, 60]\n",
        "show_slices([rotate(slice_0, 90), rotate(slice_1, 90), slice_2])\n",
        "plt.suptitle('Slice of raw image of subject %s' % subject)\n",
        "plt.show()\n",
        "\n",
        "slice_0 = preprocessed_pt[0, 60, :, :]\n",
        "slice_1 = preprocessed_pt[0, :, 72, :]\n",
        "slice_2 = preprocessed_pt[0, :, :, 60]\n",
        "show_slices([slice_0, slice_1, slice_2])\n",
        "plt.suptitle('Center slices of preprocessed image of subject %s' % subject)\n",
        "plt.show()\n",
        "\n",
        "leftHC_pt = CropLeftHC()(preprocessed_pt)\n",
        "slice_0 = leftHC_pt[0, 15, :, :]\n",
        "slice_1 = leftHC_pt[0, :, 20, :]\n",
        "slice_2 = leftHC_pt[0, :, :, 15]\n",
        "show_slices([slice_0, slice_1, slice_2])\n",
        "plt.suptitle('Center slices of left HC of subject %s' % subject)\n",
        "plt.show()"
      ],
      "execution_count": 0,
      "outputs": [
        {
          "output_type": "display_data",
          "data": {
            "image/png": "[encoded data removed]",
            "text/plain": [
              "<Figure size 432x288 with 3 Axes>"
            ]
          },
          "metadata": {
            "tags": []
          }
        },
        {
          "output_type": "display_data",
          "data": {
            "image/png": "[encoded data removed]",
            "text/plain": [
              "<Figure size 432x288 with 3 Axes>"
            ]
          },
          "metadata": {
            "tags": []
          }
        },
        {
          "output_type": "display_data",
          "data": {
            "image/png": "[encoded data removed]",
            "text/plain": [
              "<Figure size 432x288 with 3 Axes>"
            ]
          },
          "metadata": {
            "tags": []
          }
        }
      ]
    },
    {
      "cell_type": "markdown",
      "metadata": {
        "id": "aR78M-HyZPCX",
        "colab_type": "text"
      },
      "source": [
        "# Cross-validation\n",
        "\n",
        "In order to choose hyperparameters the set of images is divided into a training set (80%) and a validation set (20%). The data split was performed in order to ensure a similar distribution of diagnosis, age and sex between the subjects of the training set and the subjects of the validation set. Moreover the MMS distribution of each class is preserved."
      ]
    },
    {
      "cell_type": "code",
      "metadata": {
        "id": "2v9DDGoQcFy0",
        "colab_type": "code",
        "outputId": "285af3e2-cdbb-4e93-8805-27aafa547b40",
        "colab": {
          "base_uri": "https://localhost:8080/",
          "height": 173
        }
      },
      "source": [
        "train_df = pd.read_csv('OASIS-1_dataset/tsv_files/train.tsv', sep='\\t')\n",
        "valid_df = pd.read_csv('OASIS-1_dataset/tsv_files/validation.tsv', sep='\\t')\n",
        "\n",
        "train_population_df = characteristics_table(train_df, OASIS_df)\n",
        "valid_population_df = characteristics_table(valid_df, OASIS_df)\n",
        "print(\"Train\")\n",
        "print(train_population_df)\n",
        "print()\n",
        "print(\"Validation\")\n",
        "print(valid_population_df)"
      ],
      "execution_count": 0,
      "outputs": [
        {
          "output_type": "stream",
          "text": [
            "Train\n",
            "      N          age %sexF  education         MMS CDR=0 CDR=0.5 CDR=1 CDR=2\n",
            "AD   58   77.4 ± 7.5    69  2.8 ± 1.4  22.6 ± 3.6     0      37    19     2\n",
            "CN  242  43.4 ± 23.5    62  3.6 ± 1.2  29.8 ± 0.5    97       0     0     0\n",
            "\n",
            "Validation\n",
            "     N          age %sexF  education         MMS CDR=0 CDR=0.5 CDR=1 CDR=2\n",
            "AD  15   78.2 ± 6.6    40  2.5 ± 1.0  22.9 ± 3.6     0       8     7     0\n",
            "CN  62  46.3 ± 22.6  62.9  3.4 ± 1.3  29.6 ± 0.7    27       0     0     0\n"
          ],
          "name": "stdout"
        }
      ]
    },
    {
      "cell_type": "markdown",
      "metadata": {
        "id": "psLhdlUGQbuf",
        "colab_type": "text"
      },
      "source": [
        "We can observe that our dataset is biased: the AD and CN populations do not have the same age distributions at all! It becomes then very easy to differentiate them as the age regression between 20 and 95 years old is an easier task than AD vs CN classification.\n",
        "\n",
        "To avoid this bias, the youngest participants of OASIS are removed from the training and validation DataFrames. More precisely, to match the AD population in which the youngest participant is 62, all participants younger than 62 are removed."
      ]
    },
    {
      "cell_type": "code",
      "metadata": {
        "id": "gMetl7GRQazx",
        "colab_type": "code",
        "outputId": "cc41eb05-2d2d-49b9-b792-e48c00007e9e",
        "colab": {
          "base_uri": "https://localhost:8080/",
          "height": 173
        }
      },
      "source": [
        "train_df = train_df[['participant_id']].merge(OASIS_df, how='left', on='participant_id', sort=False)\n",
        "train_df = train_df[train_df.age_bl >= 62]\n",
        "valid_df = valid_df[['participant_id']].merge(OASIS_df, how='left', on='participant_id', sort=False)\n",
        "valid_df = valid_df[valid_df.age_bl >= 62]\n",
        "\n",
        "train_population_df = characteristics_table(train_df, OASIS_df)\n",
        "valid_population_df = characteristics_table(valid_df, OASIS_df)\n",
        "print(\"Train\")\n",
        "print(train_population_df)\n",
        "print()\n",
        "print(\"Validation\")\n",
        "print(valid_population_df)"
      ],
      "execution_count": 0,
      "outputs": [
        {
          "output_type": "stream",
          "text": [
            "Train\n",
            "     N         age %sexF  education         MMS CDR=0 CDR=0.5 CDR=1 CDR=2\n",
            "AD  58  77.4 ± 7.5    69  2.8 ± 1.4  22.6 ± 3.6     0      37    19     2\n",
            "CN  65  76.3 ± 8.6  73.8  3.3 ± 1.2  29.3 ± 0.7    65       0     0     0\n",
            "\n",
            "Validation\n",
            "     N         age %sexF  education         MMS CDR=0 CDR=0.5 CDR=1 CDR=2\n",
            "AD  15  78.2 ± 6.6    40  2.5 ± 1.0  22.9 ± 3.6     0       8     7     0\n",
            "CN  17  77.2 ± 6.4  76.5  3.4 ± 1.4  29.2 ± 0.7    17       0     0     0\n"
          ],
          "name": "stdout"
        }
      ]
    },
    {
      "cell_type": "markdown",
      "metadata": {
        "id": "Ini6UfC2SoEn",
        "colab_type": "text"
      },
      "source": [
        "# Model\n",
        "We propose here to design a convolutional neural network that takes for input a patch centered on the left hippocampus of size 30x40x30. The architecture of the network was found using a Random Search on architecture + optimization hyperparameters.\n"
      ]
    },
    {
      "cell_type": "markdown",
      "metadata": {
        "id": "484-30ZSd8CT",
        "colab_type": "text"
      },
      "source": [
        "## Reminder on CNN layers\n",
        "\n",
        "In a CNN everything is called a layer though the operations layers perform are very different. You will find below a summary of the different operations that may be performed in a CNN.\n"
      ]
    },
    {
      "cell_type": "markdown",
      "metadata": {
        "id": "Nt_5UpLIiTzM",
        "colab_type": "text"
      },
      "source": [
        "### Feature maps\n",
        "\n",
        "The outputs of the layers in a convolutional network are called feature maps. Their size is written with the format: \n",
        "\n",
        "> `n_channels @ dim1 x dim2 x dim3`\n",
        "\n",
        "For a 3D CNN the dimension of the feature maps is actually 5D as the first dimension is the batch size. This dimension is added by the `DataLoader` of pytorch which stacks the 4D tensors computed by a `Dataset`."
      ]
    },
    {
      "cell_type": "code",
      "metadata": {
        "id": "x1VVZU27iXCR",
        "colab_type": "code",
        "outputId": "7cb95f85-5e1f-4ace-ef32-13f3d940428c",
        "colab": {
          "base_uri": "https://localhost:8080/",
          "height": 104
        }
      },
      "source": [
        "img_dir = path.join('OASIS-1_dataset', 'preprocessed')\n",
        "batch_size=4\n",
        "\n",
        "example_dataset = MRIDataset(img_dir, OASIS_df, transform=CropLeftHC())\n",
        "example_dataloader = DataLoader(example_dataset, batch_size=batch_size, drop_last=True)\n",
        "for data in example_dataloader:\n",
        "    pass\n",
        "\n",
        "print(\"Shape of Dataset output\\n\", example_dataset[0]['image'].shape)\n",
        "print()\n",
        "print(\"Shape of DataLoader output\\n\", data['image'].shape)"
      ],
      "execution_count": 0,
      "outputs": [
        {
          "output_type": "stream",
          "text": [
            "Shape of Dataset output\n",
            " torch.Size([1, 30, 40, 30])\n",
            "\n",
            "Shape of DataLoader output\n",
            " torch.Size([4, 1, 30, 40, 30])\n"
          ],
          "name": "stdout"
        }
      ]
    },
    {
      "cell_type": "markdown",
      "metadata": {
        "id": "GK_IkxwliGve",
        "colab_type": "text"
      },
      "source": [
        "\n",
        "### Convolutions (`nn.Conv3d`)\n",
        "\n",
        "The main arguments of this layer are the input channels, the output channels (number of filters trained) and the size of the filter (or kernel). If an integer `k` is given the kernel will be a cube of size `k`. It is possible to construct rectangular kernels by entering a tuple (but this is very rare).\n",
        "\n",
        "You will find below an illustration of how a single filter produces its output feature map by parsing the one feature map. The size of the output feature map produced depends of the convolution parameters and can be computed with the following formula:\n",
        "\n",
        "> $O_i = \\frac{I_i-k+2P}{S} + 1$\n",
        "\n",
        "*   $O_i$ the size of the output along the ith dimension\n",
        "*   $I_i$ the size of the input along the ith dimension\n",
        "*   $k$ the size of the kernel\n",
        "*   $P$ the padding value\n",
        "*   $S$ the stride value\n",
        "\n",
        "In the following example $\\frac{5-3+2*0}{1}+1 = 3$\n",
        "\n",
        "![2D convolutional layer gif](https://drive.google.com/uc?id=166EuqiwIZkKPMOlVzA-v5WemJE2tDCES) \n",
        "\n",
        "To be able to parse all the feature maps of the input, one filter is actually a 4D tensor of size `(input_channels, k, k, k)`. The ensemble of all the filters included in one convolutional layer is then a 5D tensor stacking all the filters of size `(output_channels, input_channels, k, k, k)`.\n",
        "\n",
        "Each filter is also associated to one bias value that is a scalar added to all the feature maps it produces. Then the bias is a 1D vector of size `output_channels`."
      ]
    },
    {
      "cell_type": "code",
      "metadata": {
        "id": "ETjl7kp17-IM",
        "colab_type": "code",
        "outputId": "9de230c3-eb2c-412f-f418-0a14452ff99e",
        "colab": {
          "base_uri": "https://localhost:8080/",
          "height": 104
        }
      },
      "source": [
        "from torch import nn\n",
        "\n",
        "conv_layer = nn.Conv3d(8, 16, 3)\n",
        "print('Weights shape\\n', conv_layer.weight.shape)\n",
        "print()\n",
        "print('Bias shape\\n', conv_layer.bias.shape)"
      ],
      "execution_count": 0,
      "outputs": [
        {
          "output_type": "stream",
          "text": [
            "Weights shape\n",
            " torch.Size([16, 8, 3, 3, 3])\n",
            "\n",
            "Bias shape\n",
            " torch.Size([16])\n"
          ],
          "name": "stdout"
        }
      ]
    },
    {
      "cell_type": "markdown",
      "metadata": {
        "id": "hpcq2Ejb9Jj_",
        "colab_type": "text"
      },
      "source": [
        "### Batch Normalization (`nn.BatchNorm3d`)\n",
        "\n",
        "Learns to normalize feature maps according to [(Ioffe & Szegedy, 2015)](https://arxiv.org/abs/1502.03167). The following formula is applied on each feature map  $FM_i$:\n",
        "\n",
        "> $FM^{normalized}_i = \\frac{FM_i - mean(FM_i)}{\\sqrt{var(FM_i) + \\epsilon}} * \\gamma_i + \\beta_i$\n",
        "\n",
        "*   $\\epsilon$ is a hyperparameter of the layer (default=1e-05)\n",
        "*   $\\gamma_i$ is the value of the scale for the ith channel (learnable parameter)\n",
        "*   $\\beta_i$ is the value of the shift for the ith channel (learnable parameter)\n",
        "\n",
        "This layer does not have the same behaviour during training and evaluation, this is why it is needed to put the model in evaluation mode in the test function with the command `.eval()`"
      ]
    },
    {
      "cell_type": "code",
      "metadata": {
        "id": "8QPASZehDHjc",
        "colab_type": "code",
        "outputId": "a510871d-c220-4879-e1f1-315ca60a1ce2",
        "colab": {
          "base_uri": "https://localhost:8080/",
          "height": 104
        }
      },
      "source": [
        "batch_layer = nn.BatchNorm3d(16)\n",
        "print('Gamma value\\n', batch_layer.state_dict()['weight'].shape)\n",
        "print()\n",
        "print('Beta value\\n', batch_layer.state_dict()['bias'].shape)"
      ],
      "execution_count": 0,
      "outputs": [
        {
          "output_type": "stream",
          "text": [
            "Gamma value\n",
            " torch.Size([16])\n",
            "\n",
            "Beta value\n",
            " torch.Size([16])\n"
          ],
          "name": "stdout"
        }
      ]
    },
    {
      "cell_type": "markdown",
      "metadata": {
        "id": "m4TxeR3lEZeI",
        "colab_type": "text"
      },
      "source": [
        "### Activation function (`nn.LeakyReLU`)\n",
        "\n",
        "In order to introduce non-linearity in the model, an activation function is introduced after the convolutions. It is applied on all intensities independently.\n",
        "\n",
        "The graph of the Leaky ReLU is displayed below, $\\alpha$ being a hyperparameter of the layer (default=0.01):\n",
        "\n",
        "![Leaky ReLU graph](https://sefiks.com/wp-content/uploads/2018/02/prelu.jpg?w=600)"
      ]
    },
    {
      "cell_type": "markdown",
      "metadata": {
        "id": "O3Oflm0QGHHG",
        "colab_type": "text"
      },
      "source": [
        "### Pooling function (`PadMaxPool3d`)\n",
        "\n",
        "The structure of the pooling layer is very similar to the convolutional layer: a kernel is passing through the input with a defined size and stride. However there is no learnable parameters in this layer, the kernel outputing the maximum value of the part of the feature map it covers.\n",
        "\n",
        "Here is an example in 2D of the standard layer of pytorch `nn.MaxPool2d`:\n",
        "\n",
        "![nn.MaxPool2d behaviour](https://drive.google.com/uc?id=1qh9M9r9mfpZeSD1VjOGQAl8zWqBLmcKz)\n",
        "\n",
        "We can observe that the last column may not be used depending on the size of the kernel/input and stride value.\n",
        "\n",
        "This is why the custom module `PadMaxPool` was defined to pad the input in order to exploit information from the whole feature map.\n"
      ]
    },
    {
      "cell_type": "code",
      "metadata": {
        "id": "tRTnZ2KUtANd",
        "colab_type": "code",
        "colab": {}
      },
      "source": [
        "class PadMaxPool3d(nn.Module):\n",
        "    \"\"\"A MaxPooling module which deals with odd sizes with padding\"\"\"\n",
        "    def __init__(self, kernel_size, stride, return_indices=False, return_pad=False):\n",
        "        super(PadMaxPool3d, self).__init__()\n",
        "        self.kernel_size = kernel_size\n",
        "        self.stride = stride\n",
        "        self.pool = nn.MaxPool3d(kernel_size, stride, return_indices=return_indices)\n",
        "        self.pad = nn.ConstantPad3d(padding=0, value=0)\n",
        "        self.return_indices = return_indices\n",
        "        self.return_pad = return_pad\n",
        "\n",
        "    def set_new_return(self, return_indices=True, return_pad=True):\n",
        "        self.return_indices = return_indices\n",
        "        self.return_pad = return_pad\n",
        "        self.pool.return_indices = return_indices\n",
        "\n",
        "    def forward(self, f_maps):\n",
        "        coords = [self.stride - f_maps.size(i + 2) % self.stride for i in range(3)]\n",
        "        for i, coord in enumerate(coords):\n",
        "            if coord == self.stride:\n",
        "                coords[i] = 0\n",
        "\n",
        "        self.pad.padding = (coords[2], 0, coords[1], 0, coords[0], 0)\n",
        "\n",
        "        if self.return_indices:\n",
        "            output, indices = self.pool(self.pad(f_maps))\n",
        "\n",
        "            if self.return_pad:\n",
        "                return output, indices, (coords[2], 0, coords[1], 0, coords[0], 0)\n",
        "            else:\n",
        "                return output, indices\n",
        "\n",
        "        else:\n",
        "            output = self.pool(self.pad(f_maps))\n",
        "\n",
        "            if self.return_pad:\n",
        "                return output, (coords[2], 0, coords[1], 0, coords[0], 0)\n",
        "            else:\n",
        "                return output"
      ],
      "execution_count": 0,
      "outputs": []
    },
    {
      "cell_type": "markdown",
      "metadata": {
        "id": "V7iEpyGdLHyF",
        "colab_type": "text"
      },
      "source": [
        "Here is an illustration of `PadMaxPool` behaviour, a column is added to avoid losing data:\n",
        "\n",
        "![PadMaxPool behaviour](https://drive.google.com/uc?id=14R_LCTiV0N6ZXm-3wQCj_Gtc1LsXdQq_)\n",
        "\n",
        "Similarly, the formula to find the size of the output feature map is:\n",
        "\n",
        "> $O_i = ceil(\\frac{I_i-k+2P}{S}) + 1$"
      ]
    },
    {
      "cell_type": "markdown",
      "metadata": {
        "id": "p-65jRniEjr2",
        "colab_type": "text"
      },
      "source": [
        "### Dropout (`nn.Dropout`)\n",
        "\n",
        "The aim of a dropout layer is to replace a fixed proportion of the input values by 0 during training only.\n",
        "\n",
        "This layer does not have the same behaviour during training and evaluation, this is why it is needed to put the model in evaluation mode in the test function with the command `.eval()`"
      ]
    },
    {
      "cell_type": "code",
      "metadata": {
        "id": "-0O3cCR7HGge",
        "colab_type": "code",
        "outputId": "929e97f2-a0f5-4f99-a10b-37f6493e1676",
        "colab": {
          "base_uri": "https://localhost:8080/",
          "height": 139
        }
      },
      "source": [
        "dropout = nn.Dropout(0.5)\n",
        "input_tensor = torch.rand(10)\n",
        "output_tensor = dropout(input_tensor)\n",
        "print(\"Input \\n\", input_tensor)\n",
        "print()\n",
        "print(\"Output \\n\", output_tensor)"
      ],
      "execution_count": 0,
      "outputs": [
        {
          "output_type": "stream",
          "text": [
            "Input \n",
            " tensor([0.9982, 0.0816, 0.4966, 0.6763, 0.8764, 0.4221, 0.3053, 0.5733, 0.4904,\n",
            "        0.9873])\n",
            "\n",
            "Output \n",
            " tensor([1.9965, 0.0000, 0.0000, 1.3525, 0.0000, 0.0000, 0.6106, 1.1466, 0.9809,\n",
            "        0.0000])\n"
          ],
          "name": "stdout"
        }
      ]
    },
    {
      "cell_type": "markdown",
      "metadata": {
        "id": "2hL2TdAnE-jn",
        "colab_type": "text"
      },
      "source": [
        "### Fully-Connected Layers (`nn.Linear`)\n",
        "\n",
        "The fully connected layers take as input 2D vectors of size `(batch_size, N)`. They have two mandatory arguments, the number of values per batch of the input and the number of values per batch of the output.\n",
        "\n",
        "Each output neuron in a FC layer is a linear combination of the inputs + a bias."
      ]
    },
    {
      "cell_type": "code",
      "metadata": {
        "id": "um2OupjmGy94",
        "colab_type": "code",
        "outputId": "b1841d0e-fb0b-4320-e3aa-5b3f5948a671",
        "colab": {
          "base_uri": "https://localhost:8080/",
          "height": 104
        }
      },
      "source": [
        "fc = nn.Linear(16, 2)\n",
        "print(\"Weights shape \\n\", fc.weight.shape)\n",
        "print()\n",
        "print(\"Bias shape \\n\", fc.bias.shape)"
      ],
      "execution_count": 0,
      "outputs": [
        {
          "output_type": "stream",
          "text": [
            "Weights shape \n",
            " torch.Size([2, 16])\n",
            "\n",
            "Bias shape \n",
            " torch.Size([2])\n"
          ],
          "name": "stdout"
        }
      ]
    },
    {
      "cell_type": "markdown",
      "metadata": {
        "id": "lQ7jwdu6hBCz",
        "colab_type": "text"
      },
      "source": [
        "## TODO Network design\n",
        "Construct here the network corresponding to the scheme and the following description:\n",
        "\n",
        "![Scheme of the network](https://drive.google.com/uc?id=1Qi-ictqudBX4ToBXzqT5w57RHrkn3MPR)\n",
        "\n",
        "The network includes 3 convolutional blocks composed by a convolutional layer (kernel size = 3, padding = 1, stride = 1), a batch normalization, a LeakyReLU activation and a MaxPooling layer. The 3 successive layers include respectively 8, 16 and 32 filters.\n",
        "\n",
        "Then, the feature maps array is flattened in a 1D array to enter a fully-connected layer. Between the convolutional and the fully-connected layers, a dropout layer with a dropout rate of 0.5 is inserted.  "
      ]
    },
    {
      "cell_type": "code",
      "metadata": {
        "id": "lfUuXbUtg_W4",
        "colab_type": "code",
        "colab": {}
      },
      "source": [
        "class CustomNetwork(nn.Module):\n",
        "    \n",
        "    def __init__(self):\n",
        "        super(CustomNetwork, self).__init__()\n",
        "        self.convolutions = nn.Sequential(\n",
        "            nn.Conv3d(1, 8, 3, padding=1),\n",
        "            # Size 8@30x40x30\n",
        "            nn.BatchNorm3d(8),\n",
        "            nn.LeakyReLU(),\n",
        "            PadMaxPool3d(2, 2),\n",
        "            # Size 8@15x20x15\n",
        "            \n",
        "            nn.Conv3d(8, 16, 3, padding=1),\n",
        "            # Size 16@15x20x15\n",
        "            nn.BatchNorm3d(16),\n",
        "            nn.LeakyReLU(),\n",
        "            PadMaxPool3d(2, 2),\n",
        "            # Size 16@8x10x8)\n",
        "            \n",
        "            nn.Conv3d(16, 32, 3, padding=1),\n",
        "            # Size 32@8x10x8\n",
        "            nn.BatchNorm3d(32),\n",
        "            nn.LeakyReLU(),\n",
        "            PadMaxPool3d(2, 2),\n",
        "            # Size 32@4x5x4\n",
        "            \n",
        "        )\n",
        "        \n",
        "        self.linear = nn.Sequential(\n",
        "            nn.Dropout(p=0.5),\n",
        "            nn.Linear(32 * 4 * 5 * 4, 2)\n",
        "            \n",
        "        )\n",
        "        \n",
        "    def forward(self, x):\n",
        "        x = self.convolutions(x)\n",
        "        x = x.view(x.size(0), -1)\n",
        "        x = self.linear(x)\n",
        "        return x"
      ],
      "execution_count": 0,
      "outputs": []
    },
    {
      "cell_type": "markdown",
      "metadata": {
        "id": "W2SW0XToZTfK",
        "colab_type": "text"
      },
      "source": [
        "# Train & Test"
      ]
    },
    {
      "cell_type": "markdown",
      "metadata": {
        "id": "314vYQgsoZHb",
        "colab_type": "text"
      },
      "source": [
        "Complete here the `train` method in order to iteratively update the weights of the network.\n",
        "\n",
        "Here the model leading to the lowest loss on the training set is returned, however we could choose instead the model leading to the highest balanced accuracy, or the one obtained on the last iteration.\n",
        "\n",
        "In some frameworks a validation set is also used to know when the training should be stopped (early stopping) and / or to identify and keep the best model."
      ]
    },
    {
      "cell_type": "code",
      "metadata": {
        "id": "1yVfkO-QvzfM",
        "colab_type": "code",
        "colab": {}
      },
      "source": [
        "def train(model, train_loader, criterion, optimizer, n_epochs):\n",
        "    \"\"\"\n",
        "    Method used to train a CNN\n",
        "    \n",
        "    Args:\n",
        "        model: (nn.Module) the neural network\n",
        "        train_loader: (DataLoader) a DataLoader wrapping a MRIDataset\n",
        "        criterion: (nn.Module) a method to compute the loss of a mini-batch of images\n",
        "        optimizer: (torch.optim) an optimization algorithm\n",
        "        n_epochs: (int) number of epochs performed during training\n",
        "\n",
        "    Returns:\n",
        "        best_model: (nn.Module) the trained neural network\n",
        "    \"\"\"\n",
        "    best_model = deepcopy(model)\n",
        "    train_best_loss = np.inf\n",
        "\n",
        "    for epoch in range(n_epochs):\n",
        "        model.train()\n",
        "        train_loader.dataset.train()\n",
        "        for i, data in enumerate(train_loader, 0):\n",
        "            # Retrieve mini-batch and put data on GPU with .cuda()\n",
        "            images, labels = data['image'].cuda(), data['label'].cuda()\n",
        "            # Forward pass\n",
        "            outputs = model(images)\n",
        "            # Loss computation\n",
        "            loss = criterion(outputs, labels)\n",
        "            # Back-propagation (gradients computation)\n",
        "            loss.backward()\n",
        "            # Parameters update\n",
        "            optimizer.step()\n",
        "            # Erase previous gradients\n",
        "            optimizer.zero_grad()\n",
        "\n",
        "        _, train_metrics = test(model, train_loader, criterion)\n",
        "\n",
        "        print('Epoch %i: loss = %f, balanced accuracy = %f' \n",
        "              % (epoch, train_metrics['mean_loss'],\n",
        "                 train_metrics['balanced_accuracy']))\n",
        "\n",
        "        if train_metrics['mean_loss'] < train_best_loss:\n",
        "            best_model = deepcopy(model)\n",
        "            train_best_loss = train_metrics['mean_loss']\n",
        "    \n",
        "    return best_model\n",
        "\n",
        "def test(model, data_loader, criterion):\n",
        "    \"\"\"\n",
        "    Method used to test a CNN\n",
        "    \n",
        "    Args:\n",
        "        model: (nn.Module) the neural network\n",
        "        data_loader: (DataLoader) a DataLoader wrapping a MRIDataset\n",
        "        criterion: (nn.Module) a method to compute the loss of a mini-batch of images\n",
        "    \n",
        "    Returns:\n",
        "        results_df: (DataFrame) the label predicted for every subject\n",
        "        results_metrics: (dict) a set of metrics\n",
        "    \"\"\"\n",
        "    model.eval()\n",
        "    data_loader.dataset.eval()\n",
        "    columns = [\"participant_id\", \"proba0\", \"proba1\",\n",
        "               \"true_label\", \"predicted_label\"]\n",
        "    results_df = pd.DataFrame(columns=columns)\n",
        "    total_loss = 0\n",
        "    \n",
        "    with torch.no_grad():\n",
        "        for i, data in enumerate(data_loader, 0):\n",
        "            images, labels = data['image'].cuda(), data['label'].cuda()\n",
        "            outputs = model(images)\n",
        "            loss = criterion(outputs, labels)\n",
        "            total_loss += loss.item()\n",
        "            probs = nn.Softmax(dim=1)(outputs)\n",
        "            _, predicted = torch.max(outputs.data, 1)\n",
        "\n",
        "            for idx, sub in enumerate(data['participant_id']):\n",
        "                row = [sub,\n",
        "                       probs[idx, 0].item(), probs[idx, 1].item(),\n",
        "                       labels[idx].item(), predicted[idx].item()]\n",
        "                row_df = pd.DataFrame([row], columns=columns)\n",
        "                results_df = pd.concat([results_df, row_df])\n",
        "\n",
        "    results_metrics = compute_metrics(results_df.true_label.values, results_df.predicted_label.values)\n",
        "    results_df.reset_index(inplace=True, drop=True)\n",
        "    results_metrics['mean_loss'] = total_loss / len(data_loader.dataset)\n",
        "    \n",
        "    return results_df, results_metrics\n",
        "\n",
        "\n",
        "def compute_metrics(ground_truth, prediction):\n",
        "    \"\"\"Computes the accuracy, sensitivity, specificity and balanced accuracy\"\"\"\n",
        "    tp = np.sum((prediction == 1) & (ground_truth == 1))\n",
        "    tn = np.sum((prediction == 0) & (ground_truth == 0))\n",
        "    fp = np.sum((prediction == 1) & (ground_truth == 0))\n",
        "    fn = np.sum((prediction == 0) & (ground_truth == 1))\n",
        "    \n",
        "    metrics_dict = dict()\n",
        "    metrics_dict['accuracy'] = (tp + tn) / (tp + tn + fp + fn)\n",
        "    \n",
        "    # Sensitivity\n",
        "    if tp + fn != 0:\n",
        "        metrics_dict['sensitivity'] = tp / (tp + fn)\n",
        "    else:\n",
        "        metrics_dict['sensitivity'] = 0.0\n",
        "        \n",
        "    # Specificity\n",
        "    if fp + tn != 0:\n",
        "        metrics_dict['specificity'] = tn / (fp + tn)\n",
        "    else:\n",
        "        metrics_dict['specificity'] = 0.0\n",
        "        \n",
        "    metrics_dict['balanced_accuracy'] = (metrics_dict['sensitivity'] + metrics_dict['specificity']) / 2\n",
        "    \n",
        "    return metrics_dict\n"
      ],
      "execution_count": 0,
      "outputs": []
    },
    {
      "cell_type": "markdown",
      "metadata": {
        "id": "spF8eq2pcGC_",
        "colab_type": "text"
      },
      "source": [
        "## Train Classification with Left HC\n",
        "Here we will train a first network that will learn the binary classification AD vs CN on a cropped image around the hippocampus.\n",
        "\n",
        "All hyperparameters may have an influence, but one of the most influent is the learning rate that can lead to a poor convergence if it is too high or low. Try different learning rate between $10 ^{-5}$ and $10 ^{-3}$ and observe the differences of loss variations during training.\n",
        "\n",
        "To increase the training speed you can also increase the batch size. But be careful, if the batch size becomes a non-negligible amount of the training set it may have a negative impact on loss convergence [(Keskar et al, 2016)](https://arxiv.org/abs/1609.04836). "
      ]
    },
    {
      "cell_type": "code",
      "metadata": {
        "id": "v8m28OMgrlLG",
        "colab_type": "code",
        "colab": {}
      },
      "source": [
        "# Construction of dataset objects\n",
        "img_dir = path.join('OASIS-1_dataset', 'preprocessed')\n",
        "transform = CropLeftHC(2)\n",
        "\n",
        "train_datasetLeftHC = MRIDataset(img_dir, train_df, transform=transform)\n",
        "valid_datasetLeftHC = MRIDataset(img_dir, valid_df, transform=transform)"
      ],
      "execution_count": 0,
      "outputs": []
    },
    {
      "cell_type": "code",
      "metadata": {
        "id": "29ATYIrqBA-S",
        "colab_type": "code",
        "outputId": "2a32d589-d6c7-4fb5-fc40-751116d62719",
        "colab": {
          "base_uri": "https://localhost:8080/",
          "height": 538
        }
      },
      "source": [
        "learning_rate = 10**-4\n",
        "n_epochs = 30\n",
        "batch_size = 4\n",
        "\n",
        "# Put the network on GPU\n",
        "modelLeftHC = CustomNetwork().cuda()\n",
        "train_loaderLeftHC = DataLoader(train_datasetLeftHC, batch_size=batch_size, shuffle=True, num_workers=8, pin_memory=True)\n",
        "# A high batch size improves test speed\n",
        "valid_loaderLeftHC = DataLoader(valid_datasetLeftHC, batch_size=32, shuffle=False, num_workers=8, pin_memory=True)\n",
        "criterion = nn.CrossEntropyLoss(reduction='sum')\n",
        "optimizer = torch.optim.Adam(modelLeftHC.parameters(), learning_rate)\n",
        "\n",
        "best_modelLeftHC = train(modelLeftHC, train_loaderLeftHC, criterion, optimizer, n_epochs)"
      ],
      "execution_count": 0,
      "outputs": [
        {
          "output_type": "stream",
          "text": [
            "Epoch 0: loss = 0.757522, balanced accuracy = 0.500000\n",
            "Epoch 1: loss = 0.636519, balanced accuracy = 0.622546\n",
            "Epoch 2: loss = 0.645125, balanced accuracy = 0.606764\n",
            "Epoch 3: loss = 0.605535, balanced accuracy = 0.692573\n",
            "Epoch 4: loss = 0.582580, balanced accuracy = 0.671618\n",
            "Epoch 5: loss = 0.555392, balanced accuracy = 0.709416\n",
            "Epoch 6: loss = 0.603687, balanced accuracy = 0.667507\n",
            "Epoch 7: loss = 0.566206, balanced accuracy = 0.669363\n",
            "Epoch 8: loss = 0.546880, balanced accuracy = 0.670690\n",
            "Epoch 9: loss = 0.567666, balanced accuracy = 0.709814\n",
            "Epoch 10: loss = 0.541519, balanced accuracy = 0.697480\n",
            "Epoch 11: loss = 0.579635, balanced accuracy = 0.676127\n",
            "Epoch 12: loss = 0.522992, balanced accuracy = 0.707560\n",
            "Epoch 13: loss = 0.595861, balanced accuracy = 0.691512\n",
            "Epoch 14: loss = 0.581911, balanced accuracy = 0.668435\n",
            "Epoch 15: loss = 0.509748, balanced accuracy = 0.724801\n",
            "Epoch 16: loss = 0.547892, balanced accuracy = 0.719363\n",
            "Epoch 17: loss = 0.539161, balanced accuracy = 0.685676\n",
            "Epoch 18: loss = 0.492604, balanced accuracy = 0.733422\n",
            "Epoch 19: loss = 0.486863, balanced accuracy = 0.712202\n",
            "Epoch 20: loss = 0.521262, balanced accuracy = 0.740584\n",
            "Epoch 21: loss = 0.486190, balanced accuracy = 0.720822\n",
            "Epoch 22: loss = 0.498002, balanced accuracy = 0.723873\n",
            "Epoch 23: loss = 0.481488, balanced accuracy = 0.724801\n",
            "Epoch 24: loss = 0.481204, balanced accuracy = 0.724801\n",
            "Epoch 25: loss = 0.518708, balanced accuracy = 0.702918\n",
            "Epoch 26: loss = 0.574192, balanced accuracy = 0.728912\n",
            "Epoch 27: loss = 0.463907, balanced accuracy = 0.742971\n",
            "Epoch 28: loss = 0.576567, balanced accuracy = 0.737533\n",
            "Epoch 29: loss = 0.475063, balanced accuracy = 0.745491\n"
          ],
          "name": "stdout"
        }
      ]
    },
    {
      "cell_type": "code",
      "metadata": {
        "id": "QSUNvljvEqV6",
        "colab_type": "code",
        "outputId": "8e832df9-d069-4130-9949-b6945ab0b178",
        "colab": {
          "base_uri": "https://localhost:8080/",
          "height": 72
        }
      },
      "source": [
        "valid_resultsLeftHC_df, valid_metricsLeftHC = test(best_modelLeftHC, valid_loaderLeftHC, criterion)\n",
        "train_resultsLeftHC_df, train_metricsLeftHC = test(best_modelLeftHC, train_loaderLeftHC, criterion)\n",
        "print(valid_metricsLeftHC)\n",
        "print(train_metricsLeftHC)"
      ],
      "execution_count": 0,
      "outputs": [
        {
          "output_type": "stream",
          "text": [
            "{'accuracy': 0.6875, 'sensitivity': 0.6, 'specificity': 0.7647058823529411, 'balanced_accuracy': 0.6823529411764706, 'mean_loss': 0.6480038166046143}\n",
            "{'accuracy': 0.7479674796747967, 'sensitivity': 0.6551724137931034, 'specificity': 0.8307692307692308, 'balanced_accuracy': 0.7429708222811671, 'mean_loss': 0.4639066641892844}\n"
          ],
          "name": "stdout"
        }
      ]
    },
    {
      "cell_type": "markdown",
      "metadata": {
        "id": "GDt9nsFD7n8g",
        "colab_type": "text"
      },
      "source": [
        "If you obtained about 0.85 or more of balanced accuracy, there may be something wrong... Are you absolutely sure that your dataset is unbiased?\n",
        "\n",
        "If you didn't remove the youngest subjects of OASIS, your dataset is biased as the AD and CN participants do not have the same age distribution.\n",
        "In practice people who come to the hospital for a diagnosis of Alzheimer's disease all have about the same age (50 - 90). No one has Alzheimer's disease at 20 ! Then you should check that the performance of the network is still good for the old population only."
      ]
    },
    {
      "cell_type": "markdown",
      "metadata": {
        "id": "ph3Lc8iVbzjk",
        "colab_type": "text"
      },
      "source": [
        "## Train Classification with Right HC\n",
        "\n",
        "Another network can be trained on a cropped image around the right HC network. The same hyperparameters as before may be reused."
      ]
    },
    {
      "cell_type": "code",
      "metadata": {
        "id": "Q-OQfVOKbLv5",
        "colab_type": "code",
        "colab": {}
      },
      "source": [
        "# Construction of dataset objects\n",
        "\n",
        "transform = CropRightHC(2)\n",
        "\n",
        "train_datasetRightHC = MRIDataset(img_dir, train_df, transform=transform)\n",
        "valid_datasetRightHC = MRIDataset(img_dir, valid_df, transform=transform)"
      ],
      "execution_count": 0,
      "outputs": []
    },
    {
      "cell_type": "code",
      "metadata": {
        "id": "wtdlN9mVc14I",
        "colab_type": "code",
        "outputId": "f957859e-c145-4071-df5f-9c4c4908b651",
        "colab": {
          "base_uri": "https://localhost:8080/",
          "height": 538
        }
      },
      "source": [
        "learning_rate = 10**-4\n",
        "n_epochs = 30\n",
        "batch_size = 4\n",
        "\n",
        "modelRightHC = CustomNetwork().cuda()\n",
        "train_loaderRightHC = DataLoader(train_datasetRightHC, batch_size=batch_size, shuffle=True, num_workers=8, pin_memory=True)\n",
        "valid_loaderRightHC = DataLoader(valid_datasetRightHC, batch_size=32, shuffle=False, num_workers=8, pin_memory=True)\n",
        "criterion = nn.CrossEntropyLoss(reduction='sum')\n",
        "optimizer = torch.optim.Adam(modelRightHC.parameters(), learning_rate)\n",
        "\n",
        "best_modelRightHC = train(modelRightHC, train_loaderRightHC, criterion, optimizer, n_epochs)"
      ],
      "execution_count": 0,
      "outputs": [
        {
          "output_type": "stream",
          "text": [
            "Epoch 0: loss = 0.701383, balanced accuracy = 0.500000\n",
            "Epoch 1: loss = 0.609902, balanced accuracy = 0.609947\n",
            "Epoch 2: loss = 0.573243, balanced accuracy = 0.691247\n",
            "Epoch 3: loss = 0.583746, balanced accuracy = 0.703979\n",
            "Epoch 4: loss = 0.544238, balanced accuracy = 0.709416\n",
            "Epoch 5: loss = 0.667032, balanced accuracy = 0.630769\n",
            "Epoch 6: loss = 0.525644, balanced accuracy = 0.769761\n",
            "Epoch 7: loss = 0.517417, balanced accuracy = 0.751592\n",
            "Epoch 8: loss = 0.524304, balanced accuracy = 0.704775\n",
            "Epoch 9: loss = 0.505494, balanced accuracy = 0.761141\n",
            "Epoch 10: loss = 0.508696, balanced accuracy = 0.785809\n",
            "Epoch 11: loss = 0.567350, balanced accuracy = 0.734748\n",
            "Epoch 12: loss = 0.526798, balanced accuracy = 0.756897\n",
            "Epoch 13: loss = 0.536370, balanced accuracy = 0.712467\n",
            "Epoch 14: loss = 0.491547, balanced accuracy = 0.731565\n",
            "Epoch 15: loss = 0.485845, balanced accuracy = 0.756233\n",
            "Epoch 16: loss = 0.513525, balanced accuracy = 0.771353\n",
            "Epoch 17: loss = 0.696773, balanced accuracy = 0.684615\n",
            "Epoch 18: loss = 0.475922, balanced accuracy = 0.743899\n",
            "Epoch 19: loss = 0.465273, balanced accuracy = 0.769761\n",
            "Epoch 20: loss = 0.465374, balanced accuracy = 0.768833\n",
            "Epoch 21: loss = 0.477588, balanced accuracy = 0.722944\n",
            "Epoch 22: loss = 0.472650, balanced accuracy = 0.740186\n",
            "Epoch 23: loss = 0.455902, balanced accuracy = 0.791910\n",
            "Epoch 24: loss = 0.451527, balanced accuracy = 0.781167\n",
            "Epoch 25: loss = 0.460258, balanced accuracy = 0.794430\n",
            "Epoch 26: loss = 0.516677, balanced accuracy = 0.750133\n",
            "Epoch 27: loss = 0.444063, balanced accuracy = 0.793767\n",
            "Epoch 28: loss = 0.475099, balanced accuracy = 0.722016\n",
            "Epoch 29: loss = 0.498597, balanced accuracy = 0.728780\n"
          ],
          "name": "stdout"
        }
      ]
    },
    {
      "cell_type": "code",
      "metadata": {
        "id": "FDgEniPndCfB",
        "colab_type": "code",
        "outputId": "694cb3cd-df83-4cb3-eb09-9733fccd4ee8",
        "colab": {
          "base_uri": "https://localhost:8080/",
          "height": 72
        }
      },
      "source": [
        "valid_resultsRightHC_df, valid_metricsRightHC = test(best_modelRightHC, valid_loaderRightHC, criterion)\n",
        "train_resultsRightHC_df, train_metricsRightHC = test(best_modelRightHC, train_loaderRightHC, criterion)\n",
        "print(valid_metricsRightHC)\n",
        "print(train_metricsRightHC)"
      ],
      "execution_count": 0,
      "outputs": [
        {
          "output_type": "stream",
          "text": [
            "{'accuracy': 0.75, 'sensitivity': 0.6, 'specificity': 0.8823529411764706, 'balanced_accuracy': 0.7411764705882353, 'mean_loss': 0.5146188735961914}\n",
            "{'accuracy': 0.7967479674796748, 'sensitivity': 0.7413793103448276, 'specificity': 0.8461538461538461, 'balanced_accuracy': 0.7937665782493368, 'mean_loss': 0.4440626909093159}\n"
          ],
          "name": "stdout"
        }
      ]
    },
    {
      "cell_type": "markdown",
      "metadata": {
        "id": "4DrQZBkufKM-",
        "colab_type": "text"
      },
      "source": [
        "## Soft voting\n",
        "To increase the accuracy of our system the results of the two networks can be combined. Here we can give both hippocampi the same weight."
      ]
    },
    {
      "cell_type": "code",
      "metadata": {
        "id": "MgXu-qrUg-aq",
        "colab_type": "code",
        "colab": {}
      },
      "source": [
        "def softvoting(df1, df2):\n",
        "    df1 = df1.set_index('participant_id', drop=True)\n",
        "    df2 = df2.set_index('participant_id', drop=True)\n",
        "    results_df = pd.DataFrame(index=df1.index.values,\n",
        "                              columns=['true_label', 'predicted_label', 'proba1'])\n",
        "    results_df.true_label = df1.true_label\n",
        "    results_df.predicted_label = (0.5 * df1.proba1 + 0.5 * df2.proba1 > 0.5).astype(int)\n",
        "    results_df.proba1 = 0.5 * df1.proba1 + 0.5 * df2.proba1\n",
        "\n",
        "    return results_df"
      ],
      "execution_count": 0,
      "outputs": []
    },
    {
      "cell_type": "code",
      "metadata": {
        "id": "d3hEzAKMe0pe",
        "colab_type": "code",
        "outputId": "783aa8a0-65a1-4e80-ddaa-a61a6900070a",
        "colab": {
          "base_uri": "https://localhost:8080/",
          "height": 34
        }
      },
      "source": [
        "valid_results = softvoting(valid_resultsLeftHC_df, valid_resultsRightHC_df)\n",
        "valid_metrics = compute_metrics(valid_results.true_label, valid_results.predicted_label)\n",
        "print(valid_metrics)"
      ],
      "execution_count": 0,
      "outputs": [
        {
          "output_type": "stream",
          "text": [
            "{'accuracy': 0.71875, 'sensitivity': 0.6, 'specificity': 0.8235294117647058, 'balanced_accuracy': 0.7117647058823529}\n"
          ],
          "name": "stdout"
        }
      ]
    },
    {
      "cell_type": "markdown",
      "metadata": {
        "id": "ucoIR5icuhj9",
        "colab_type": "text"
      },
      "source": [
        "Keep in mind that as you used the validation set was used to set the hyperparameters, the validation metrics are biased. To have unbiased results the entire framework should be evaluated when all the hyperparameters are set on an independent set (test set)."
      ]
    },
    {
      "cell_type": "markdown",
      "metadata": {
        "id": "hjpxuDese-HZ",
        "colab_type": "text"
      },
      "source": [
        "# Clustering on AD & CN populations"
      ]
    },
    {
      "cell_type": "markdown",
      "metadata": {
        "id": "nY7Nd_Uuwa2j",
        "colab_type": "text"
      },
      "source": [
        "The classification results above were obtained in a supervised way: neurologists examine the participants of OASIS and gave a diagnosis depending on their clinical symptoms.\n",
        "\n",
        "However, this label is often inaccurate (Beach et al, 2012).\n",
        "Then an unsupervised framework can be interesting to check what can be found in data without being biased by a noisy label."
      ]
    },
    {
      "cell_type": "markdown",
      "metadata": {
        "id": "bQu1bMukTBPF",
        "colab_type": "text"
      },
      "source": [
        "## Model"
      ]
    },
    {
      "cell_type": "markdown",
      "metadata": {
        "id": "vqBAm-rZ8MaK",
        "colab_type": "text"
      },
      "source": [
        "A convenient architecture to extract features from an image with deep learning is the autoencoder (AE). This architecture is made of two parts:\n",
        "- the **encoder** which learns to compress the image in a smaller vector, the **code**. *It is composed of the same kind of operations than the convolutional part of the CNN seen before.*\n",
        "- the **decoder** which learns to reconstruct the original image from the code learnt by the encoder. *It is composed of the transposed version of the operations used in the encoder.*"
      ]
    },
    {
      "cell_type": "markdown",
      "metadata": {
        "id": "y0t6brjD8Rna",
        "colab_type": "text"
      },
      "source": [
        "You will find below `CropMaxUnpool3d` the transposed version of `PadMaxPool3d`."
      ]
    },
    {
      "cell_type": "code",
      "metadata": {
        "id": "mid9oL35Pe_0",
        "colab_type": "code",
        "colab": {}
      },
      "source": [
        "class CropMaxUnpool3d(nn.Module):\n",
        "    def __init__(self, kernel_size, stride):\n",
        "        super(CropMaxUnpool3d, self).__init__()\n",
        "        self.unpool = nn.MaxUnpool3d(kernel_size, stride)\n",
        "\n",
        "    def forward(self, f_maps, indices, padding=None):\n",
        "        output = self.unpool(f_maps, indices)\n",
        "        if padding is not None:\n",
        "            x1 = padding[4]\n",
        "            y1 = padding[2]\n",
        "            z1 = padding[0]\n",
        "            output = output[:, :, x1::, y1::, z1::]\n",
        "\n",
        "        return output"
      ],
      "execution_count": 0,
      "outputs": []
    },
    {
      "cell_type": "markdown",
      "metadata": {
        "id": "PGp1fp078WCS",
        "colab_type": "text"
      },
      "source": [
        "To facilitate the reconstruction process, the pooling layers in the encoder return the position of the values that were the maximum. Hence the unpooling layer can replace the maximum values at the right place in the 2x2x2 sub-cube of the feature map. They also indicate if some zero padding was applied to the feature map so that the unpooling layer can correctly crop their output feature map.  "
      ]
    },
    {
      "cell_type": "code",
      "metadata": {
        "id": "txunPzZtfHHM",
        "colab_type": "code",
        "colab": {}
      },
      "source": [
        "class AutoEncoder(nn.Module):\n",
        "    \n",
        "    def __init__(self):\n",
        "        super(AutoEncoder, self).__init__()\n",
        "        self.encoder = nn.Sequential(\n",
        "            nn.Conv3d(1, 8, 3, padding=1),\n",
        "            nn.BatchNorm3d(8),\n",
        "            nn.LeakyReLU(),\n",
        "            PadMaxPool3d(2, 2, return_indices=True, return_pad=True),\n",
        "            # Size (15, 20, 15)\n",
        "            \n",
        "            nn.Conv3d(8, 16, 3, padding=1),\n",
        "            nn.BatchNorm3d(16),\n",
        "            nn.LeakyReLU(),\n",
        "            PadMaxPool3d(2, 2, return_indices=True, return_pad=True),\n",
        "            # Size (8, 10, 8)\n",
        "            \n",
        "            nn.Conv3d(16, 32, 3, padding=1),\n",
        "            nn.BatchNorm3d(32),\n",
        "            nn.LeakyReLU(),\n",
        "            PadMaxPool3d(2, 2, return_indices=True, return_pad=True),\n",
        "            # Size (4, 5, 4)\n",
        "\n",
        "            nn.Conv3d(32, 1, 1),\n",
        "            # Size (4, 5, 4)\n",
        "        )\n",
        "        \n",
        "        self.decoder = nn.Sequential(\n",
        "            nn.ConvTranspose3d(1, 32, 1),\n",
        "\n",
        "            CropMaxUnpool3d(2, 2),\n",
        "            nn.ConvTranspose3d(32, 16, 3, padding=1),\n",
        "            nn.BatchNorm3d(16),\n",
        "            nn.LeakyReLU(),\n",
        "\n",
        "            CropMaxUnpool3d(2, 2),\n",
        "            nn.ConvTranspose3d(16, 8, 3, padding=1),\n",
        "            nn.BatchNorm3d(8),\n",
        "            nn.LeakyReLU(),\n",
        "\n",
        "            CropMaxUnpool3d(2, 2),\n",
        "            nn.ConvTranspose3d(8, 1, 3, padding=1),\n",
        "            nn.BatchNorm3d(1),\n",
        "            nn.Sigmoid()\n",
        "        )\n",
        "        \n",
        "    def forward(self, x):\n",
        "        indices_list = []\n",
        "        pad_list = []\n",
        "        for layer in self.encoder:\n",
        "            if isinstance(layer, PadMaxPool3d):\n",
        "                x, indices, pad = layer(x)\n",
        "                indices_list.append(indices)\n",
        "                pad_list.append(pad)\n",
        "            elif isinstance(layer, nn.MaxPool3d):\n",
        "                x, indices = layer(x)\n",
        "                indices_list.append(indices)\n",
        "            else:\n",
        "                x = layer(x)\n",
        "\n",
        "        code = x.view(x.size(0), -1)\n",
        "        for layer in self.decoder:\n",
        "            if isinstance(layer, CropMaxUnpool3d):\n",
        "                x = layer(x, indices_list.pop(), pad_list.pop())\n",
        "            elif isinstance(layer, nn.MaxUnpool3d):\n",
        "                x = layer(x, indices_list.pop())\n",
        "            else:\n",
        "                x = layer(x)\n",
        "\n",
        "        return code, x"
      ],
      "execution_count": 0,
      "outputs": []
    },
    {
      "cell_type": "markdown",
      "metadata": {
        "id": "g8J2aq7SS5qr",
        "colab_type": "text"
      },
      "source": [
        "## Train Autoencoder"
      ]
    },
    {
      "cell_type": "markdown",
      "metadata": {
        "id": "MrJ8A4gH8bFC",
        "colab_type": "text"
      },
      "source": [
        "The training function of the autoencoder is very similar to the training function of the CNN. The main difference is that the loss is not computed by comparing the output with the diagnosis values using the cross-entropy loss, but with the original image using for example the Mean Squared Error (MSE) loss."
      ]
    },
    {
      "cell_type": "code",
      "metadata": {
        "id": "6NEklXXGWpiF",
        "colab_type": "code",
        "colab": {}
      },
      "source": [
        "def trainAE(model, train_loader, criterion, optimizer, n_epochs):\n",
        "    \"\"\"\n",
        "    Method used to train an AutoEncoder\n",
        "    \n",
        "    Args:\n",
        "        model: (nn.Module) the neural network\n",
        "        train_loader: (DataLoader) a DataLoader wrapping a MRIDataset\n",
        "        criterion: (nn.Module) a method to compute the loss of a mini-batch of images\n",
        "        optimizer: (torch.optim) an optimization algorithm\n",
        "        n_epochs: (int) number of epochs performed during training\n",
        "    \"\"\"\n",
        "    best_model = deepcopy(model)\n",
        "    train_best_loss = np.inf\n",
        "\n",
        "    for epoch in range(n_epochs):\n",
        "        model.train()\n",
        "        train_loader.dataset.train()\n",
        "        for i, data in enumerate(train_loader, 0):\n",
        "            # Retrieve mini-batch\n",
        "            images, labels = data['image'].cuda(), data['label'].cuda()\n",
        "            # Forward pass + loss computation\n",
        "            _, outputs = model((images))\n",
        "            loss = criterion(outputs, images)\n",
        "            # Back-propagation\n",
        "            loss.backward()\n",
        "            # Parameters update\n",
        "            optimizer.step()\n",
        "            # Erase previous gradients\n",
        "            optimizer.zero_grad()\n",
        "\n",
        "        mean_loss = testAE(model, train_loader, criterion)\n",
        "\n",
        "        print('Epoch %i: loss = %f' % (epoch, mean_loss))\n",
        "\n",
        "        if mean_loss < train_best_loss:\n",
        "            best_model = deepcopy(model)\n",
        "            train_best_loss = mean_loss\n",
        "    \n",
        "    return best_model\n",
        "\n",
        "def testAE(model, data_loader, criterion):\n",
        "    \"\"\"\n",
        "    Method used to test an AutoEncoder\n",
        "    \n",
        "    Args:\n",
        "        model: (nn.Module) the neural network\n",
        "        data_loader: (DataLoader) a DataLoader wrapping a MRIDataset\n",
        "        criterion: (nn.Module) a method to compute the loss of a mini-batch of images\n",
        "    \n",
        "    Returns:\n",
        "        results_df: (DataFrame) the label predicted for every subject\n",
        "        results_metrics: (dict) a set of metrics\n",
        "    \"\"\"\n",
        "    model.eval()\n",
        "    data_loader.dataset.eval()\n",
        "    columns = [\"participant_id\", \"proba0\", \"proba1\",\n",
        "               \"true_label\", \"predicted_label\"]\n",
        "    results_df = pd.DataFrame(columns=columns)\n",
        "    total_loss = 0\n",
        "    \n",
        "    with torch.no_grad():\n",
        "        for i, data in enumerate(data_loader, 0):\n",
        "            images, labels = data['image'].cuda(), data['label'].cuda()\n",
        "            _, outputs = model((images))\n",
        "            loss = criterion(outputs, images)\n",
        "            total_loss += loss.item()\n",
        "    \n",
        "    return total_loss / len(data_loader.dataset) / np.product(data_loader.dataset.size)"
      ],
      "execution_count": 0,
      "outputs": []
    },
    {
      "cell_type": "code",
      "metadata": {
        "id": "MZC8PW47S-P0",
        "colab_type": "code",
        "outputId": "4ec6d780-1b39-4b47-e366-ed70112d1677",
        "colab": {
          "base_uri": "https://localhost:8080/",
          "height": 538
        }
      },
      "source": [
        "learning_rate = 10**-2\n",
        "n_epochs = 30\n",
        "batch_size = 4\n",
        "\n",
        "AELeftHC = AutoEncoder().cuda()\n",
        "criterion = nn.MSELoss(reduction='sum')\n",
        "optimizer = torch.optim.Adam(AELeftHC.parameters(), learning_rate)\n",
        "\n",
        "best_AELeftHC = trainAE(AELeftHC, train_loaderLeftHC, criterion, optimizer, n_epochs)"
      ],
      "execution_count": 0,
      "outputs": [
        {
          "output_type": "stream",
          "text": [
            "Epoch 0: loss = 0.102441\n",
            "Epoch 1: loss = 0.047978\n",
            "Epoch 2: loss = 0.037751\n",
            "Epoch 3: loss = 0.030519\n",
            "Epoch 4: loss = 0.025038\n",
            "Epoch 5: loss = 0.021216\n",
            "Epoch 6: loss = 0.020862\n",
            "Epoch 7: loss = 0.019817\n",
            "Epoch 8: loss = 0.018437\n",
            "Epoch 9: loss = 0.018496\n",
            "Epoch 10: loss = 0.017466\n",
            "Epoch 11: loss = 0.017510\n",
            "Epoch 12: loss = 0.017012\n",
            "Epoch 13: loss = 0.017463\n",
            "Epoch 14: loss = 0.018579\n",
            "Epoch 15: loss = 0.017496\n",
            "Epoch 16: loss = 0.016408\n",
            "Epoch 17: loss = 0.016468\n",
            "Epoch 18: loss = 0.015994\n",
            "Epoch 19: loss = 0.016083\n",
            "Epoch 20: loss = 0.016309\n",
            "Epoch 21: loss = 0.016978\n",
            "Epoch 22: loss = 0.016286\n",
            "Epoch 23: loss = 0.016349\n",
            "Epoch 24: loss = 0.015831\n",
            "Epoch 25: loss = 0.018177\n",
            "Epoch 26: loss = 0.015246\n",
            "Epoch 27: loss = 0.017602\n",
            "Epoch 28: loss = 0.015099\n",
            "Epoch 29: loss = 0.015100\n"
          ],
          "name": "stdout"
        }
      ]
    },
    {
      "cell_type": "markdown",
      "metadata": {
        "id": "GKaoKKSqZt4K",
        "colab_type": "text"
      },
      "source": [
        "## Visualization"
      ]
    },
    {
      "cell_type": "markdown",
      "metadata": {
        "id": "c702IW468hlx",
        "colab_type": "text"
      },
      "source": [
        "The simplest way to check if the AE training went well is to visualize the output and compare it to the original image seen by the autoencoder."
      ]
    },
    {
      "cell_type": "code",
      "metadata": {
        "id": "DnoXZtBJZv2d",
        "colab_type": "code",
        "outputId": "a7a5e308-0d59-4c46-dc81-869e8c4b82d0",
        "colab": {
          "base_uri": "https://localhost:8080/",
          "height": 485
        }
      },
      "source": [
        "import matplotlib.pyplot as plt\n",
        "import nibabel as nib\n",
        "from scipy.ndimage import rotate\n",
        "\n",
        "subject = 'sub-OASIS10003'\n",
        "preprocessed_pt = torch.load('OASIS-1_dataset/preprocessed/%s_ses-M00_' % subject +\n",
        "                    'T1w_segm-graymatter_space-Ixi549Space_modulated-off_' +\n",
        "                    'probability.pt')\n",
        "input_pt = CropLeftHC()(preprocessed_pt).unsqueeze(0).cuda()\n",
        "_, output_pt = best_AELeftHC(input_pt)\n",
        "\n",
        "\n",
        "slice_0 = input_pt[0, 0, 15, :, :].cpu()\n",
        "slice_1 = input_pt[0, 0, :, 20, :].cpu()\n",
        "slice_2 = input_pt[0, 0, :, :, 15].cpu()\n",
        "show_slices([slice_0, slice_1, slice_2])\n",
        "plt.suptitle('Center slices of the input image of subject %s' % subject)\n",
        "plt.show()\n",
        "\n",
        "slice_0 = output_pt[0, 0, 15, :, :].cpu().detach()\n",
        "slice_1 = output_pt[0, 0, :, 20, :].cpu().detach()\n",
        "slice_2 = output_pt[0, 0, :, :, 15].cpu().detach()\n",
        "show_slices([slice_0, slice_1, slice_2])\n",
        "plt.suptitle('Center slices of the output image of subject %s' % subject)\n",
        "plt.show()"
      ],
      "execution_count": 0,
      "outputs": [
        {
          "output_type": "display_data",
          "data": {
            "image/png": "[encoded data removed]",
            "text/plain": [
              "<Figure size 432x288 with 3 Axes>"
            ]
          },
          "metadata": {
            "tags": []
          }
        },
        {
          "output_type": "display_data",
          "data": {
            "image/png": "[encoded data removed]",
            "text/plain": [
              "<Figure size 432x288 with 3 Axes>"
            ]
          },
          "metadata": {
            "tags": []
          }
        }
      ]
    },
    {
      "cell_type": "markdown",
      "metadata": {
        "id": "mnotBg6y8k72",
        "colab_type": "text"
      },
      "source": [
        "## Clustering\n",
        "\n",
        "Now that the AE extracted the most salient parts of the image in a smaller vector, the features obtained can be used for clustering.\n",
        "\n",
        "Here we give an example with the Gaussian Mixture Model (GMM) of scikit-learn. To use it we first need to concat the features and the labels of all the subjects in two matrices *X* and *Y*. This is what is done in `compute_dataset_features` method."
      ]
    },
    {
      "cell_type": "code",
      "metadata": {
        "id": "nBev2V1keICt",
        "colab_type": "code",
        "colab": {}
      },
      "source": [
        "def compute_dataset_features(data_loader, model):\n",
        "\n",
        "    concat_codes = torch.Tensor().cuda()\n",
        "    concat_labels = torch.LongTensor()\n",
        "    concat_names = []\n",
        "\n",
        "    for data in data_loader:\n",
        "      image = data['image'].cuda()\n",
        "      labels = data['label']\n",
        "      names = data['participant_id']\n",
        "\n",
        "      code, _ = model(image)\n",
        "      concat_codes = torch.cat([concat_codes, code.squeeze(1)], 0)\n",
        "      concat_labels = torch.cat([concat_labels, labels])\n",
        "      concat_names = concat_names + names\n",
        "\n",
        "    concat_codes_np = concat_codes.cpu().detach().numpy()\n",
        "    concat_labels_np = concat_labels.numpy()\n",
        "    concat_names = np.array(concat_names)[:, np.newaxis]\n",
        "\n",
        "    return concat_codes_np, concat_labels_np, concat_names"
      ],
      "execution_count": 0,
      "outputs": []
    },
    {
      "cell_type": "code",
      "metadata": {
        "id": "e9u4efqmf45U",
        "colab_type": "code",
        "colab": {}
      },
      "source": [
        "train_codes, train_labels, names = compute_dataset_features(train_loaderLeftHC, best_AELeftHC)"
      ],
      "execution_count": 0,
      "outputs": []
    },
    {
      "cell_type": "markdown",
      "metadata": {
        "id": "AF9RKoqn83MX",
        "colab_type": "text"
      },
      "source": [
        "Then the model will fit the training codes and build two clusters. The labels found in this unsupervised way can be compared to the true labels."
      ]
    },
    {
      "cell_type": "code",
      "metadata": {
        "id": "VTg2vKuDZwb4",
        "colab_type": "code",
        "outputId": "6eb61f02-9299-48dd-a824-a3fb6c12fa61",
        "colab": {
          "base_uri": "https://localhost:8080/",
          "height": 34
        }
      },
      "source": [
        "from sklearn import mixture\n",
        "\n",
        "\n",
        "n_components = 2\n",
        "model = mixture.GaussianMixture(n_components)\n",
        "model.fit(train_codes)\n",
        "train_predict = model.predict(train_codes)\n",
        "\n",
        "metrics = compute_metrics(train_labels, train_predict)\n",
        "print(metrics)"
      ],
      "execution_count": 0,
      "outputs": [
        {
          "output_type": "stream",
          "text": [
            "{'accuracy': 0.35772357723577236, 'sensitivity': 0.4827586206896552, 'specificity': 0.24615384615384617, 'balanced_accuracy': 0.3644562334217507}\n"
          ],
          "name": "stdout"
        }
      ]
    },
    {
      "cell_type": "markdown",
      "metadata": {
        "id": "z2xD0pob8-7G",
        "colab_type": "text"
      },
      "source": [
        "The accuracy may not be very good, this could mean that the framework classified another characteristic that the one you tried to target. Remember that if your (balanced) accuracy is below 0.5, this is because the clustering algorithm does not know that the first label (0) correponds to CN and the second one (1) to AD. Compute (1 - your value) to obtain the real one.\n",
        "\n",
        "What is actually expected is that the clustering differenciation is made on the level of atrophy, which is mostly correlated to the age but also to the disease stage (we can model it with the MMS score)."
      ]
    },
    {
      "cell_type": "code",
      "metadata": {
        "id": "gVkHZCb67qub",
        "colab_type": "code",
        "outputId": "7caccb34-1184-4072-c580-a2887e3da778",
        "colab": {
          "base_uri": "https://localhost:8080/",
          "height": 295
        }
      },
      "source": [
        "data_np = np.concatenate([names, train_codes,\n",
        "                          train_labels[:, np.newaxis],\n",
        "                          train_predict[:, np.newaxis]], axis=1)\n",
        "columns = ['feature %i' % i for i in range(train_codes.shape[1])]\n",
        "columns = ['participant_id'] + columns + ['true_label', 'predicted_label']\n",
        "data_df = pd.DataFrame(data_np, columns=columns).set_index('participant_id')\n",
        "\n",
        "merged_df = data_df.merge(OASIS_df.set_index('participant_id'), how='inner', on='participant_id')\n",
        "\n",
        "plt.title('Clustering values according to age and MMS score')\n",
        "for component in range(n_components):\n",
        "    predict_df = merged_df[merged_df.predicted_label == str(component)]\n",
        "    plt.plot(predict_df['age_bl'], predict_df['MMS'], 'o', label=\"cluster %i\" % component)\n",
        "plt.legend()\n",
        "plt.xlabel('age')\n",
        "plt.ylabel('MMS')\n",
        "plt.show()"
      ],
      "execution_count": 0,
      "outputs": [
        {
          "output_type": "display_data",
          "data": {
            "image/png": "[encoded data removed]",
            "text/plain": [
              "<Figure size 432x288 with 1 Axes>"
            ]
          },
          "metadata": {
            "tags": []
          }
        }
      ]
    },
    {
      "cell_type": "markdown",
      "metadata": {
        "id": "KBSa4_jJ9FPI",
        "colab_type": "text"
      },
      "source": [
        "You can try to improve this clustering by adding the codes obtained on the right hippocampus, perform further dimension reduction or remove age effect like in [(Moradi et al, 2015)](https://www.researchgate.net/publication/266374876_Machine_learning_framework_for_early_MRI-based_Alzheimer%27s_conversion_prediction_in_MCI_subjects)..."
      ]
    }
  ]
}