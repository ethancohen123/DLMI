{
  "nbformat": 4,
  "nbformat_minor": 0,
  "metadata": {
    "kernelspec": {
      "name": "python3",
      "display_name": "Python 3"
    },
    "language_info": {
      "codemirror_mode": {
        "name": "ipython",
        "version": 3
      },
      "file_extension": ".py",
      "mimetype": "text/x-python",
      "name": "python",
      "nbconvert_exporter": "python",
      "pygments_lexer": "ipython3",
      "version": "3.7.2"
    },
    "colab": {
      "name": "TP - Validation (student version).ipynb",
      "provenance": [],
      "collapsed_sections": []
    },
    "accelerator": "GPU",
    "widgets": {
      "application/vnd.jupyter.widget-state+json": {
        "5fbbf7e9a6534c36a9bbfe2f772f99fd": {
          "model_module": "@jupyter-widgets/controls",
          "model_name": "HBoxModel",
          "state": {
            "_view_name": "HBoxView",
            "_dom_classes": [],
            "_model_name": "HBoxModel",
            "_view_module": "@jupyter-widgets/controls",
            "_model_module_version": "1.5.0",
            "_view_count": null,
            "_view_module_version": "1.5.0",
            "box_style": "",
            "layout": "IPY_MODEL_cd67d3c1ea0047879ed2caa240b3c918",
            "_model_module": "@jupyter-widgets/controls",
            "children": [
              "IPY_MODEL_7c6fb668dfe44a5ca6157204b9aa844d",
              "IPY_MODEL_cefc0c77714d4cdf960badb437de39bc"
            ]
          }
        },
        "cd67d3c1ea0047879ed2caa240b3c918": {
          "model_module": "@jupyter-widgets/base",
          "model_name": "LayoutModel",
          "state": {
            "_view_name": "LayoutView",
            "grid_template_rows": null,
            "right": null,
            "justify_content": null,
            "_view_module": "@jupyter-widgets/base",
            "overflow": null,
            "_model_module_version": "1.2.0",
            "_view_count": null,
            "flex_flow": null,
            "width": null,
            "min_width": null,
            "border": null,
            "align_items": null,
            "bottom": null,
            "_model_module": "@jupyter-widgets/base",
            "top": null,
            "grid_column": null,
            "overflow_y": null,
            "overflow_x": null,
            "grid_auto_flow": null,
            "grid_area": null,
            "grid_template_columns": null,
            "flex": null,
            "_model_name": "LayoutModel",
            "justify_items": null,
            "grid_row": null,
            "max_height": null,
            "align_content": null,
            "visibility": null,
            "align_self": null,
            "height": null,
            "min_height": null,
            "padding": null,
            "grid_auto_rows": null,
            "grid_gap": null,
            "max_width": null,
            "order": null,
            "_view_module_version": "1.2.0",
            "grid_template_areas": null,
            "object_position": null,
            "object_fit": null,
            "grid_auto_columns": null,
            "margin": null,
            "display": null,
            "left": null
          }
        },
        "7c6fb668dfe44a5ca6157204b9aa844d": {
          "model_module": "@jupyter-widgets/controls",
          "model_name": "IntProgressModel",
          "state": {
            "_view_name": "ProgressView",
            "style": "IPY_MODEL_055c04789d6a48ef8114ccc4375e5262",
            "_dom_classes": [],
            "description": "",
            "_model_name": "IntProgressModel",
            "bar_style": "success",
            "max": 46827520,
            "_view_module": "@jupyter-widgets/controls",
            "_model_module_version": "1.5.0",
            "value": 46827520,
            "_view_count": null,
            "_view_module_version": "1.5.0",
            "orientation": "horizontal",
            "min": 0,
            "description_tooltip": null,
            "_model_module": "@jupyter-widgets/controls",
            "layout": "IPY_MODEL_fa9d1a32f19047b68b6e2b582aa0c317"
          }
        },
        "cefc0c77714d4cdf960badb437de39bc": {
          "model_module": "@jupyter-widgets/controls",
          "model_name": "HTMLModel",
          "state": {
            "_view_name": "HTMLView",
            "style": "IPY_MODEL_e44e20d2b1e44c48af33cd0975829a87",
            "_dom_classes": [],
            "description": "",
            "_model_name": "HTMLModel",
            "placeholder": "​",
            "_view_module": "@jupyter-widgets/controls",
            "_model_module_version": "1.5.0",
            "value": "100% 44.7M/44.7M [00:00&lt;00:00, 199MB/s]",
            "_view_count": null,
            "_view_module_version": "1.5.0",
            "description_tooltip": null,
            "_model_module": "@jupyter-widgets/controls",
            "layout": "IPY_MODEL_77e0caf09435417898c0a30a68f87ba9"
          }
        },
        "055c04789d6a48ef8114ccc4375e5262": {
          "model_module": "@jupyter-widgets/controls",
          "model_name": "ProgressStyleModel",
          "state": {
            "_view_name": "StyleView",
            "_model_name": "ProgressStyleModel",
            "description_width": "",
            "_view_module": "@jupyter-widgets/base",
            "_model_module_version": "1.5.0",
            "_view_count": null,
            "_view_module_version": "1.2.0",
            "bar_color": null,
            "_model_module": "@jupyter-widgets/controls"
          }
        },
        "fa9d1a32f19047b68b6e2b582aa0c317": {
          "model_module": "@jupyter-widgets/base",
          "model_name": "LayoutModel",
          "state": {
            "_view_name": "LayoutView",
            "grid_template_rows": null,
            "right": null,
            "justify_content": null,
            "_view_module": "@jupyter-widgets/base",
            "overflow": null,
            "_model_module_version": "1.2.0",
            "_view_count": null,
            "flex_flow": null,
            "width": null,
            "min_width": null,
            "border": null,
            "align_items": null,
            "bottom": null,
            "_model_module": "@jupyter-widgets/base",
            "top": null,
            "grid_column": null,
            "overflow_y": null,
            "overflow_x": null,
            "grid_auto_flow": null,
            "grid_area": null,
            "grid_template_columns": null,
            "flex": null,
            "_model_name": "LayoutModel",
            "justify_items": null,
            "grid_row": null,
            "max_height": null,
            "align_content": null,
            "visibility": null,
            "align_self": null,
            "height": null,
            "min_height": null,
            "padding": null,
            "grid_auto_rows": null,
            "grid_gap": null,
            "max_width": null,
            "order": null,
            "_view_module_version": "1.2.0",
            "grid_template_areas": null,
            "object_position": null,
            "object_fit": null,
            "grid_auto_columns": null,
            "margin": null,
            "display": null,
            "left": null
          }
        },
        "e44e20d2b1e44c48af33cd0975829a87": {
          "model_module": "@jupyter-widgets/controls",
          "model_name": "DescriptionStyleModel",
          "state": {
            "_view_name": "StyleView",
            "_model_name": "DescriptionStyleModel",
            "description_width": "",
            "_view_module": "@jupyter-widgets/base",
            "_model_module_version": "1.5.0",
            "_view_count": null,
            "_view_module_version": "1.2.0",
            "_model_module": "@jupyter-widgets/controls"
          }
        },
        "77e0caf09435417898c0a30a68f87ba9": {
          "model_module": "@jupyter-widgets/base",
          "model_name": "LayoutModel",
          "state": {
            "_view_name": "LayoutView",
            "grid_template_rows": null,
            "right": null,
            "justify_content": null,
            "_view_module": "@jupyter-widgets/base",
            "overflow": null,
            "_model_module_version": "1.2.0",
            "_view_count": null,
            "flex_flow": null,
            "width": null,
            "min_width": null,
            "border": null,
            "align_items": null,
            "bottom": null,
            "_model_module": "@jupyter-widgets/base",
            "top": null,
            "grid_column": null,
            "overflow_y": null,
            "overflow_x": null,
            "grid_auto_flow": null,
            "grid_area": null,
            "grid_template_columns": null,
            "flex": null,
            "_model_name": "LayoutModel",
            "justify_items": null,
            "grid_row": null,
            "max_height": null,
            "align_content": null,
            "visibility": null,
            "align_self": null,
            "height": null,
            "min_height": null,
            "padding": null,
            "grid_auto_rows": null,
            "grid_gap": null,
            "max_width": null,
            "order": null,
            "_view_module_version": "1.2.0",
            "grid_template_areas": null,
            "object_position": null,
            "object_fit": null,
            "grid_auto_columns": null,
            "margin": null,
            "display": null,
            "left": null
          }
        }
      }
    }
  },
  "cells": [
    {
      "cell_type": "markdown",
      "metadata": {
        "id": "p2ZXVRz2U_iA",
        "colab_type": "text"
      },
      "source": [
        "In this lab we will cover the three themes that you saw during the course: **Validation, Reproducibility and Interpretability**.\n",
        "\n",
        "The outline of this notebook is:\n",
        "1. **Validation: general rules using the digits dataset**: In this section we will illustrate the main concepts of validation: performing cross-validation, choose relevant metrics and making sure our code is reproducible.\n",
        "2. **Validation: specific rules to medical applications**: In this section, we will highlight cross-validation rules that are specific to medical applications.\n",
        "3. **Interpretability**: In this section we provide some basic tools to interpret a model and external resources for in-depth information.\n",
        "4. **[Optional]: Making your own functions/classes for cross-validation**: If you have some spare time, we strongly encourage you to implement yourself cross-validation schemes. We provide templates for several schemes and tests to check your implementations.\n",
        "\n",
        "In this lab we will mostly use non-deep-learning algorithms to make the training phase faster and because the tools provided by scikit-learn to perform\n",
        "cross validation are also often used when using deep learning algorithms. What you will learn is valid for machine learning in general, whether it is deep learning or not."
      ]
    },
    {
      "cell_type": "markdown",
      "metadata": {
        "id": "668Qfo1NU_iD",
        "colab_type": "text"
      },
      "source": [
        "# 1. Validation: general rules using the digits dataset"
      ]
    },
    {
      "cell_type": "markdown",
      "metadata": {
        "id": "Xa7n_bKAU_iF",
        "colab_type": "text"
      },
      "source": [
        "In this section we will work on the [digits dataset](https://archive.ics.uci.edu/ml/datasets/Optical+Recognition+of+Handwritten+Digits), which is quite similar to the famous MNIST but the images are smaller and the number of images is also smaller. Let's load it and have a look at some images."
      ]
    },
    {
      "cell_type": "code",
      "metadata": {
        "id": "WKjzn28yU_iG",
        "colab_type": "code",
        "outputId": "e36eae93-d921-4495-9a27-650a2e019c38",
        "colab": {
          "base_uri": "https://localhost:8080/",
          "height": 298
        }
      },
      "source": [
        "import numpy as np\n",
        "from sklearn.datasets import load_digits\n",
        "import matplotlib.pyplot as plt\n",
        "%matplotlib inline\n",
        "\n",
        "# Load the digits dataset\n",
        "X, y = load_digits(return_X_y=True)\n",
        "\n",
        "# Plot the first image for each class\n",
        "plt.figure(figsize=(12, 5))\n",
        "for i in range(10):\n",
        "    plt.subplot(2, 5, i + 1)\n",
        "    plt.imshow(X[y == i][0].reshape(8, 8), cmap='gray')\n",
        "    plt.xticks([])\n",
        "    plt.yticks([])"
      ],
      "execution_count": 0,
      "outputs": [
        {
          "output_type": "display_data",
          "data": {
            "image/png": "[encoded data removed]",
            "text/plain": [
              "<Figure size 864x360 with 10 Axes>"
            ]
          },
          "metadata": {
            "tags": []
          }
        }
      ]
    },
    {
      "cell_type": "markdown",
      "metadata": {
        "id": "Od22F69HU_iN",
        "colab_type": "text"
      },
      "source": [
        "## 1.1 Multiclass classification"
      ]
    },
    {
      "cell_type": "markdown",
      "metadata": {
        "id": "ypNdS-6gU_iO",
        "colab_type": "text"
      },
      "source": [
        "First we will work on the 10-class classification task, that is predicting the digit given the image."
      ]
    },
    {
      "cell_type": "code",
      "metadata": {
        "id": "3qXeUxSiWiql",
        "colab_type": "code",
        "cellView": "form",
        "outputId": "840a06fd-8650-4d8f-fffa-37510ae640c7",
        "colab": {
          "base_uri": "https://localhost:8080/",
          "height": 74
        }
      },
      "source": [
        "#@title\n",
        "%%html\n",
        "<div style='background-color:rgba(80,255,80,0.4); padding:20px'>\n",
        "  <b>Exercise</b>: Are the classes balanced? Compute the frequencies of each class.\n",
        "  You can use <a href=\"https://docs.scipy.org/doc/numpy/reference/generated/numpy.unique.html\">numpy.unique</a>\n",
        "  or <a href=\"https://docs.scipy.org/doc/numpy/reference/generated/numpy.bincount.html\">numpy.bincount</a>.\n",
        "  Is the <i>accuracy</i> a relevant metric for this use case?\n",
        "</div>"
      ],
      "execution_count": 0,
      "outputs": [
        {
          "output_type": "display_data",
          "data": {
            "text/html": [
              "<div style='background-color:rgba(80,255,80,0.4); padding:20px'>\n",
              "  <b>Exercise</b>: Are the classes balanced? Compute the frequencies of each class.\n",
              "  You can use <a href=\"https://docs.scipy.org/doc/numpy/reference/generated/numpy.unique.html\">numpy.unique</a>\n",
              "  or <a href=\"https://docs.scipy.org/doc/numpy/reference/generated/numpy.bincount.html\">numpy.bincount</a>.\n",
              "  Is the <i>accuracy</i> a relevant metric for this use case?\n",
              "</div>"
            ],
            "text/plain": [
              "<IPython.core.display.HTML object>"
            ]
          },
          "metadata": {
            "tags": []
          }
        }
      ]
    },
    {
      "cell_type": "code",
      "metadata": {
        "id": "694sAp-JF5uI",
        "colab_type": "code",
        "outputId": "ccf02ac3-dc3e-4f9b-ec3b-53d4f85df384",
        "colab": {
          "base_uri": "https://localhost:8080/",
          "height": 52
        }
      },
      "source": [
        "np.bincount(y) / len(y)"
      ],
      "execution_count": 0,
      "outputs": [
        {
          "output_type": "execute_result",
          "data": {
            "text/plain": [
              "array([0.09905398, 0.10127991, 0.0984975 , 0.10183639, 0.10072343,\n",
              "       0.10127991, 0.10072343, 0.09961046, 0.09682805, 0.10016694])"
            ]
          },
          "metadata": {
            "tags": []
          },
          "execution_count": 3
        }
      ]
    },
    {
      "cell_type": "code",
      "metadata": {
        "id": "j8Z6Dq4Hcdup",
        "colab_type": "code",
        "cellView": "form",
        "outputId": "2a256b53-121a-47cd-ebbc-d45442f33c13",
        "colab": {
          "base_uri": "https://localhost:8080/",
          "height": 92
        }
      },
      "source": [
        "#@title\n",
        "%%html\n",
        "<div style='background-color:rgba(80,255,80,0.4); padding:20px'>\n",
        "  <b>Exercise</b>: Fit a classifier and evaluate its performance.\n",
        "  If you are not familiar with <code>scikit-learn</code>, have\n",
        "  a look at the <a href=\"https://scikit-learn.org/stable/modules/classes.html\">API Reference</a> to choose a classifier,\n",
        "  then at the documentation of this classifier to know how to use it.\n",
        "</div>"
      ],
      "execution_count": 0,
      "outputs": [
        {
          "output_type": "display_data",
          "data": {
            "text/html": [
              "<div style='background-color:rgba(80,255,80,0.4); padding:20px'>\n",
              "  <b>Exercise</b>: Fit a classifier and evaluate its performance.\n",
              "  If you are not familiar with <code>scikit-learn</code>, have\n",
              "  a look at the <a href=\"https://scikit-learn.org/stable/modules/classes.html\">API Reference</a> to choose a classifier,\n",
              "  then at the documentation of this classifier to know how to use it.\n",
              "</div>"
            ],
            "text/plain": [
              "<IPython.core.display.HTML object>"
            ]
          },
          "metadata": {
            "tags": []
          }
        }
      ]
    },
    {
      "cell_type": "markdown",
      "metadata": {
        "id": "xmKk8MGOoGjG",
        "colab_type": "text"
      },
      "source": [
        "Here is a quick example in case that you are not familiar with ``scikit-learn``:\n",
        "\n",
        "```\n",
        "from sklearn.svm import SVC  # Import the class defining the type of classifier\n",
        "from sklearn.metrics import accuracy_score  # Import the function defining the metric used\n",
        "clf = SVC()  # Define an instance of the class\n",
        "clf.fit(X, y)  # Fit the classifier\n",
        "y_pred = clf.predict(X)  # Get the predictions of the classifier for the given input data\n",
        "clf.score(X, y)  # Compute directly the accuracy score for the given input data\n",
        "accuracy_score(y, y_pred)  # Compute the accuracy score for the given predictions\n",
        "```\n",
        "\n"
      ]
    },
    {
      "cell_type": "code",
      "metadata": {
        "id": "oHwqsTehF_fV",
        "colab_type": "code",
        "outputId": "b2b0a419-3c5a-450b-967b-ac063a7184f9",
        "colab": {
          "base_uri": "https://localhost:8080/",
          "height": 34
        }
      },
      "source": [
        "from sklearn.svm import SVC  # Import the class defining the type of classifier\n",
        "from sklearn.metrics import accuracy_score  # Import the function defining the metric used\n",
        "clf = SVC()  # Define an instance of the class\n",
        "clf.fit(X, y)  # Fit the classifier\n",
        "y_pred = clf.predict(X)  # Get the predictions of the classifier for the given input data\n",
        "clf.score(X, y)  # Compute directly the accuracy score for the given input data\n",
        "accuracy_score(y, y_pred)"
      ],
      "execution_count": 0,
      "outputs": [
        {
          "output_type": "execute_result",
          "data": {
            "text/plain": [
              "0.996661101836394"
            ]
          },
          "metadata": {
            "tags": []
          },
          "execution_count": 4
        }
      ]
    },
    {
      "cell_type": "markdown",
      "metadata": {
        "id": "vvAea9ZBU_iW",
        "colab_type": "text"
      },
      "source": [
        "If you have a classifier that returns perfect predictions, you probably did not use cross-validation...\n",
        "\n",
        "When you take an exam, are the questions the same as the ones from the exam of the previous year? You would love to, but it is not the case, **because the teacher wants to know what you learned, not if you are able to copy-paste**."
      ]
    },
    {
      "cell_type": "code",
      "metadata": {
        "id": "L_RARPVBcr8d",
        "colab_type": "code",
        "cellView": "form",
        "outputId": "fab58332-3689-4e89-8bae-f74001f0fb08",
        "colab": {
          "base_uri": "https://localhost:8080/",
          "height": 92
        }
      },
      "source": [
        "#@title\n",
        "%%html\n",
        "<div style='background-color:rgba(80,255,80,0.4); padding:20px'>\n",
        "  <b>Exercise</b>: Fit your model on a training set and evaluate its performance on the training set and the test set.\n",
        "  You can use <a href=\"https://scikit-learn.org/stable/modules/generated/sklearn.model_selection.train_test_split.html\">sklearn.model_selection.train_test_split</a>\n",
        "  to split your dataset into a training set and a test set.\n",
        "</div>"
      ],
      "execution_count": 0,
      "outputs": [
        {
          "output_type": "display_data",
          "data": {
            "text/html": [
              "<div style='background-color:rgba(80,255,80,0.4); padding:20px'>\n",
              "  <b>Exercise</b>: Fit your model on a training set and evaluate its performance on the training set and the test set.\n",
              "  You can use <a href=\"https://scikit-learn.org/stable/modules/generated/sklearn.model_selection.train_test_split.html\">sklearn.model_selection.train_test_split</a>\n",
              "  to split your dataset into a training set and a test set.\n",
              "</div>"
            ],
            "text/plain": [
              "<IPython.core.display.HTML object>"
            ]
          },
          "metadata": {
            "tags": []
          }
        }
      ]
    },
    {
      "cell_type": "code",
      "metadata": {
        "id": "8J9XByf3GAsN",
        "colab_type": "code",
        "outputId": "b69d507f-a0b5-48eb-87d9-66a2cecfd1cc",
        "colab": {
          "base_uri": "https://localhost:8080/",
          "height": 52
        }
      },
      "source": [
        "from sklearn.model_selection import train_test_split\n",
        "\n",
        "train_data, test_data, train_label, test_label = train_test_split(X, y)\n",
        "clf = SVC()  # Define an instance of the class\n",
        "clf.fit(train_data, train_label)  # Fit the classifier\n",
        "y_pred = clf.predict(test_data)  # Get the predictions of the classifier for the given input data\n",
        "clf.score(X, y)  # Compute directly the accuracy score for the given input data\n",
        "print('Train', clf.score(train_data, train_label) )\n",
        "print('Test', accuracy_score(test_label, y_pred))"
      ],
      "execution_count": 0,
      "outputs": [
        {
          "output_type": "stream",
          "text": [
            "Train 0.9970304380103935\n",
            "Test 0.9866666666666667\n"
          ],
          "name": "stdout"
        }
      ]
    },
    {
      "cell_type": "markdown",
      "metadata": {
        "id": "KzotbOnEU_iZ",
        "colab_type": "text"
      },
      "source": [
        "Compare both scores:\n",
        "* Does your model have a higher score on the training set than on the test set? Your model is over-fitting.\n",
        "* Does your model have a unexpected low score on the training and test sets? Your model is under-fitting.\n",
        "* Does your model have similar scores on both sets? Your model is fitting well.\n",
        "\n",
        "**Note**: Small over-fitting (performance slightly better on the training set than on the test set) is common for deep learning and might not be a bad thing. However large over-fitting is usually bad (you could probably have better results on the test set)."
      ]
    },
    {
      "cell_type": "code",
      "metadata": {
        "id": "lGE3WXwRdBZW",
        "colab_type": "code",
        "cellView": "form",
        "outputId": "7311756e-e18c-4a0d-b77b-ebcae865c8c4",
        "colab": {
          "base_uri": "https://localhost:8080/",
          "height": 92
        }
      },
      "source": [
        "#@title\n",
        "%%html\n",
        "<div style='background-color:rgba(80,255,80,0.4); padding:20px'>\n",
        "  <b>Exercise</b>: Run the previous code cell several times. Do you get the same results everytime?\n",
        "  Whatever your answer, look at your code and see if there is any kind of randomness.\n",
        "  If there is randomness, find how to fix it by looking at the documentation of the relevant functions and classes.\n",
        "</div>"
      ],
      "execution_count": 0,
      "outputs": [
        {
          "output_type": "display_data",
          "data": {
            "text/html": [
              "<div style='background-color:rgba(80,255,80,0.4); padding:20px'>\n",
              "  <b>Exercise</b>: Run the previous code cell several times. Do you get the same results everytime?\n",
              "  Whatever your answer, look at your code and see if there is any kind of randomness.\n",
              "  If there is randomness, find how to fix it by looking at the documentation of the relevant functions and classes.\n",
              "</div>"
            ],
            "text/plain": [
              "<IPython.core.display.HTML object>"
            ]
          },
          "metadata": {
            "tags": []
          }
        }
      ]
    },
    {
      "cell_type": "code",
      "metadata": {
        "id": "gZ-kooKqGFCe",
        "colab_type": "code",
        "outputId": "2c488cb3-91a7-49f1-ad9c-e656cb09b240",
        "colab": {
          "base_uri": "https://localhost:8080/",
          "height": 52
        }
      },
      "source": [
        "from sklearn.model_selection import train_test_split\n",
        "\n",
        "train_data, test_data, train_label, test_label = train_test_split(X, y, random_state=42)\n",
        "clf = SVC(random_state=42)  # Define an instance of the class\n",
        "clf.fit(train_data, train_label)  # Fit the classifier\n",
        "y_pred = clf.predict(test_data)  # Get the predictions of the classifier for the given input data\n",
        "clf.score(X, y)  # Compute directly the accuracy score for the given input data\n",
        "print('Train', clf.score(train_data, train_label) )\n",
        "print('Test', accuracy_score(test_label, y_pred))"
      ],
      "execution_count": 0,
      "outputs": [
        {
          "output_type": "stream",
          "text": [
            "Train 0.9962880475129918\n",
            "Test 0.9866666666666667\n"
          ],
          "name": "stdout"
        }
      ]
    },
    {
      "cell_type": "markdown",
      "metadata": {
        "id": "lxPsEapeU_id",
        "colab_type": "text"
      },
      "source": [
        "For the moment, we used a classifier with only one combination of hyper-parameters (probably the default values). However, these values may not be optimal. **It is important not to use the test set to find the optimal values! You must only use the training set to find them. Do the teacher assistants, who has access to the exam, tell you know which chapters you must focus on and which chapters you can skip? Of course they don't!**"
      ]
    },
    {
      "cell_type": "code",
      "metadata": {
        "id": "kAWxOyWIdT_Z",
        "colab_type": "code",
        "cellView": "form",
        "outputId": "e86e8799-5bb4-43fd-9607-80f72051ed3b",
        "colab": {
          "base_uri": "https://localhost:8080/",
          "height": 91
        }
      },
      "source": [
        "#@title\n",
        "%%html\n",
        "<div style='background-color:rgba(80,255,80,0.4); padding:20px'>\n",
        "  <b>Exercise</b>: Find relevant hyper-parameters for the classifier that you chose and try out several values for each of them.\n",
        "  You can have a look at\n",
        "  <a href=\"https://scikit-learn.org/stable/modules/grid_search.html\">Tuning the hyper-parameters of an estimator </a>\n",
        "  from <code>scikit-learn</code> documentation.\n",
        "</div>"
      ],
      "execution_count": 0,
      "outputs": [
        {
          "output_type": "display_data",
          "data": {
            "text/html": [
              "<div style='background-color:rgba(80,255,80,0.4); padding:20px'>\n",
              "  <b>Exercise</b>: Find relevant hyper-parameters for the classifier that you chose and try out several values for each of them.\n",
              "  You can have a look at\n",
              "  <a href=\"https://scikit-learn.org/stable/modules/grid_search.html\">Tuning the hyper-parameters of an estimator </a>\n",
              "  from <code>scikit-learn</code> documentation.\n",
              "</div>"
            ],
            "text/plain": [
              "<IPython.core.display.HTML object>"
            ]
          },
          "metadata": {
            "tags": []
          }
        }
      ]
    },
    {
      "cell_type": "markdown",
      "metadata": {
        "id": "LMYYwNDUrM0F",
        "colab_type": "text"
      },
      "source": [
        "The main idea is to provide a dictionary for <code> param_grid </code>\n",
        "if you use <code>GridSearchCV</code> or <code>param_distributions</code>\n",
        "if you use <code>RandomizedSearchCV</code>,\n",
        "where the keys correspond to the parameters and the values correspond to the\n",
        "values for each parameter (an iterable for each parameter if using a grid search,\n",
        "a distribution for each parameter if using a randomized search).\n",
        "\n",
        "```\n",
        "from sklearn.svm import SVC\n",
        "from sklearn.model_selection import GridSearchCV\n",
        "\n",
        "# Define a grid with a single parameter, C, and the values tested are 1, 10, 100\n",
        "clf = GridSearchCV(SVC(), param_grid={'C': (1, 10, 100)})\n",
        "\n",
        "# Fit the classifier (it will automatically performe cross-validation)\n",
        "clf.fit(X, y)\n",
        "```"
      ]
    },
    {
      "cell_type": "code",
      "metadata": {
        "id": "1X9xDzwIGHKB",
        "colab_type": "code",
        "outputId": "c1756fe6-2c3f-47de-dbfa-821b7ff51729",
        "colab": {
          "base_uri": "https://localhost:8080/",
          "height": 69
        }
      },
      "source": [
        "from sklearn.svm import SVC\n",
        "from sklearn.model_selection import GridSearchCV\n",
        "\n",
        "train_data, test_data, train_label, test_label = train_test_split(X, y, random_state=42)\n",
        "\n",
        "# Define a grid with a single parameter, C, and the values tested are 1, 10, 100\n",
        "clf = GridSearchCV(SVC(random_state=42), param_grid={'C': (1, 10, 100)})\n",
        " \n",
        "# Fit the classifier (it will automatically performe cross-validation)\n",
        "clf.fit(train_data, train_label)\n",
        "print('Best parameters', clf.best_params_)\n",
        "print('Train', clf.score(train_data, train_label) )\n",
        "print('Test', clf.score(test_data, test_label))"
      ],
      "execution_count": 0,
      "outputs": [
        {
          "output_type": "stream",
          "text": [
            "Best parameters {'C': 10}\n",
            "Train 1.0\n",
            "Test 0.9888888888888889\n"
          ],
          "name": "stdout"
        }
      ]
    },
    {
      "cell_type": "markdown",
      "metadata": {
        "id": "N5mgMH96U_ig",
        "colab_type": "text"
      },
      "source": [
        "So far we split the dataset into a training set and a test set only once. This might not be ideal, especially if the dataset is small, because we estimate the predictive performance with only one sample, and the variance may be high. To tackle this issue, we can split dataset into a training set and a test set several times, in order to have an estimation of this variance. This is referred to as **outer cross-validation**.\n",
        "\n",
        "Here is an example:\n",
        "* with an **outer** 5-fold cross-validation, to split the dataset into a training set and a test set\n",
        "* with an **inner** 2-fold cross-validation, to split the training set into a new training set and a validation set.\n",
        "\n"
      ]
    },
    {
      "cell_type": "markdown",
      "metadata": {
        "id": "zwbrJoZEU_ig",
        "colab_type": "text"
      },
      "source": [
        "<a>\n",
        "    <img style=\"float: left\" alt=\"Nested CV algo\" src=\"https://user-images.githubusercontent.com/1993919/28838574-bb42085e-76be-11e7-9470-66894b126354.png\" width=\"600\">\n",
        "</a>"
      ]
    },
    {
      "cell_type": "code",
      "metadata": {
        "id": "CqiFcw1jdWLN",
        "colab_type": "code",
        "cellView": "form",
        "outputId": "187253d9-a494-4e88-9ee0-ebc42f123d9b",
        "colab": {
          "base_uri": "https://localhost:8080/",
          "height": 185
        }
      },
      "source": [
        "#@title\n",
        "%%html\n",
        "<div style='background-color:rgba(80,255,80,0.4); padding:20px'>\n",
        "  <b>Exercise</b>: Perform nested cross-validation with the following steps:\n",
        "  <ul>\n",
        "    <li> outer cross-validation: 3 stratified shuffle splits with a 80/20 proportion\n",
        "      (see <a href=\"https://scikit-learn.org/stable/modules/generated/sklearn.model_selection.StratifiedShuffleSplit.html\">StratifiedShuffleSplit</a>); </li>\n",
        "    <li> inner cross-validation: 5-fold cross-validation. </li>\n",
        "  </ul>\n",
        "  If you perform hyper-parameter tuning with \n",
        "  <a href=\"https://scikit-learn.org/stable/modules/generated/sklearn.model_selection.GridSearchCV.html\">GridSearchCV</a> or\n",
        "  <a href=\"https://scikit-learn.org/stable/modules/generated/sklearn.model_selection.RandomizedSearchCV.html\">RandomizedSearchCV</a>:\n",
        "  <ul>\n",
        "    <li> Both estimators provide a cv parameter to define the cross-validation procedure; </li>\n",
        "    <li> Look at the selected values for the hyper-parameters and see if they differ for different splits. </li>\n",
        "  </ul>\n",
        "</div>"
      ],
      "execution_count": 0,
      "outputs": [
        {
          "output_type": "display_data",
          "data": {
            "text/html": [
              "<div style='background-color:rgba(80,255,80,0.4); padding:20px'>\n",
              "  <b>Exercise</b>: Perform nested cross-validation with the following steps:\n",
              "  <ul>\n",
              "    <li> outer cross-validation: 3 stratified shuffle splits with a 80/20 proportion\n",
              "      (see <a href=\"https://scikit-learn.org/stable/modules/generated/sklearn.model_selection.StratifiedShuffleSplit.html\">StratifiedShuffleSplit</a>); </li>\n",
              "    <li> inner cross-validation: 5-fold cross-validation. </li>\n",
              "  </ul>\n",
              "  If you perform hyper-parameter tuning with \n",
              "  <a href=\"https://scikit-learn.org/stable/modules/generated/sklearn.model_selection.GridSearchCV.html\">GridSearchCV</a> or\n",
              "  <a href=\"https://scikit-learn.org/stable/modules/generated/sklearn.model_selection.RandomizedSearchCV.html\">RandomizedSearchCV</a>:\n",
              "  <ul>\n",
              "    <li> Both estimators provide a cv parameter to define the cross-validation procedure; </li>\n",
              "    <li> Look at the selected values for the hyper-parameters and see if they differ for different splits. </li>\n",
              "  </ul>\n",
              "</div>"
            ],
            "text/plain": [
              "<IPython.core.display.HTML object>"
            ]
          },
          "metadata": {
            "tags": []
          }
        }
      ]
    },
    {
      "cell_type": "code",
      "metadata": {
        "id": "O84MZAkqGIpC",
        "colab_type": "code",
        "outputId": "bb875de7-86c1-40f0-f9f1-56c2af9923c2",
        "colab": {
          "base_uri": "https://localhost:8080/",
          "height": 173
        }
      },
      "source": [
        "from sklearn.model_selection import StratifiedShuffleSplit, GridSearchCV\n",
        "\n",
        "sss = StratifiedShuffleSplit(3, 0.2, random_state=42)\n",
        "for train_indices, test_indices in sss.split(X, y):\n",
        "    train_data = X[train_indices]\n",
        "    test_data = X[test_indices]\n",
        "    train_label = y[train_indices]\n",
        "    test_label = y[test_indices]\n",
        "    # Define a grid with a single parameter, C, and the values tested are 1, 10, 100\n",
        "    clf = GridSearchCV(SVC(random_state=42), param_grid={'C': (1, 10, 100)})\n",
        " \n",
        "    # Fit the classifier (it will automatically performe cross-validation)\n",
        "    clf.fit(train_data, train_label)\n",
        "    print('Best parameters', clf.best_params_)\n",
        "    print('Train', clf.score(train_data, train_label) )\n",
        "    print('Test', clf.score(test_data, test_label))"
      ],
      "execution_count": 0,
      "outputs": [
        {
          "output_type": "stream",
          "text": [
            "Best parameters {'C': 10}\n",
            "Train 1.0\n",
            "Test 0.9944444444444445\n",
            "Best parameters {'C': 10}\n",
            "Train 1.0\n",
            "Test 0.9888888888888889\n",
            "Best parameters {'C': 10}\n",
            "Train 1.0\n",
            "Test 0.9972222222222222\n"
          ],
          "name": "stdout"
        }
      ]
    },
    {
      "cell_type": "markdown",
      "metadata": {
        "id": "-_Cabmk-U_ij",
        "colab_type": "text"
      },
      "source": [
        "## 1.2 Binary classification"
      ]
    },
    {
      "cell_type": "markdown",
      "metadata": {
        "id": "ZFUjgYbdU_ij",
        "colab_type": "text"
      },
      "source": [
        "Now we will work on a binary classification task: predicting if the digit is one of {3, 6} or not:\n",
        "$$ \\tilde{y} = \\begin{cases} 1 & \\text{if } y \\in \\{3, 6\\} \\\\ 0 & \\text{otherwsie} \\\\ \\end{cases} $$"
      ]
    },
    {
      "cell_type": "code",
      "metadata": {
        "id": "y2UJROmQdZJI",
        "colab_type": "code",
        "cellView": "form",
        "outputId": "aa720019-4fa7-47ed-88a0-1c7b4b82077a",
        "colab": {
          "base_uri": "https://localhost:8080/",
          "height": 74
        }
      },
      "source": [
        "#@title\n",
        "%%html\n",
        "<div style='background-color:rgba(80,255,80,0.4); padding:20px'>\n",
        "  <b>Exercise</b>: Define the new target vector <code>y_binary</code>.\n",
        "  You can use the <a href=\"https://docs.scipy.org/doc/numpy/reference/generated/numpy.isin.html\">numpy.isin</a> function and the \n",
        "  <a href=\"https://docs.scipy.org/doc/numpy/reference/generated/numpy.ndarray.astype.html\">astype</a> method.\n",
        "</div>"
      ],
      "execution_count": 0,
      "outputs": [
        {
          "output_type": "display_data",
          "data": {
            "text/html": [
              "<div style='background-color:rgba(80,255,80,0.4); padding:20px'>\n",
              "  <b>Exercise</b>: Define the new target vector <code>y_binary</code>.\n",
              "  You can use the <a href=\"https://docs.scipy.org/doc/numpy/reference/generated/numpy.isin.html\">numpy.isin</a> function and the \n",
              "  <a href=\"https://docs.scipy.org/doc/numpy/reference/generated/numpy.ndarray.astype.html\">astype</a> method.\n",
              "</div>"
            ],
            "text/plain": [
              "<IPython.core.display.HTML object>"
            ]
          },
          "metadata": {
            "tags": []
          }
        }
      ]
    },
    {
      "cell_type": "code",
      "metadata": {
        "id": "a_Pz6h48GLFn",
        "colab_type": "code",
        "colab": {}
      },
      "source": [
        "y_binary = np.isin(y, [3, 6]).astype(int)"
      ],
      "execution_count": 0,
      "outputs": []
    },
    {
      "cell_type": "code",
      "metadata": {
        "id": "7p4bMdZUdaGY",
        "colab_type": "code",
        "cellView": "form",
        "outputId": "36b2f45f-f195-4336-d10d-0933b88a5f5e",
        "colab": {
          "base_uri": "https://localhost:8080/",
          "height": 74
        }
      },
      "source": [
        "#@title\n",
        "%%html\n",
        "<div style='background-color:rgba(80,255,80,0.4); padding:20px'>\n",
        "  <b>Exercise</b>: Are the classes balanced? Find a relevant metric for this use case.\n",
        "  You can have a look at the \n",
        "  <a href=\"https://scikit-learn.org/stable/modules/classes.html#classification-metrics\">Classification metrics</a>\n",
        "  section in the API documentation of <code>scikit-learn</code>.\n",
        "</div>"
      ],
      "execution_count": 0,
      "outputs": [
        {
          "output_type": "display_data",
          "data": {
            "text/html": [
              "<div style='background-color:rgba(80,255,80,0.4); padding:20px'>\n",
              "  <b>Exercise</b>: Are the classes balanced? Find a relevant metric for this use case.\n",
              "  You can have a look at the \n",
              "  <a href=\"https://scikit-learn.org/stable/modules/classes.html#classification-metrics\">Classification metrics</a>\n",
              "  section in the API documentation of <code>scikit-learn</code>.\n",
              "</div>"
            ],
            "text/plain": [
              "<IPython.core.display.HTML object>"
            ]
          },
          "metadata": {
            "tags": []
          }
        }
      ]
    },
    {
      "cell_type": "code",
      "metadata": {
        "id": "m2vcXxsLGMa4",
        "colab_type": "code",
        "outputId": "fdc88c29-32d0-42f6-f241-33d72d47db28",
        "colab": {
          "base_uri": "https://localhost:8080/",
          "height": 34
        }
      },
      "source": [
        "np.bincount(y_binary) / len(y_binary)"
      ],
      "execution_count": 0,
      "outputs": [
        {
          "output_type": "execute_result",
          "data": {
            "text/plain": [
              "array([0.79744018, 0.20255982])"
            ]
          },
          "metadata": {
            "tags": []
          },
          "execution_count": 36
        }
      ]
    },
    {
      "cell_type": "code",
      "metadata": {
        "id": "M35EgB-kdbS0",
        "colab_type": "code",
        "cellView": "form",
        "outputId": "f3b04fb1-f59a-4111-d1e5-f76a6ed09c3a",
        "colab": {
          "base_uri": "https://localhost:8080/",
          "height": 91
        }
      },
      "source": [
        "#@title\n",
        "%%html\n",
        "<div style='background-color:rgba(80,255,80,0.4); padding:20px'>\n",
        "  <b>Exercise</b>: Fit a classifier. Do you get good results?\n",
        "  If not, look at the predictions made by your classifier.\n",
        "  Compare your performance to a dummy classifier like \n",
        "  <a href=\"https://scikit-learn.org/stable/modules/generated/sklearn.dummy.DummyClassifier.html\">sklearn.dummy.DummyClassifier</a>\n",
        "  or to random predictions using <a href=\"https://docs.scipy.org/doc/numpy-1.15.0/reference/generated/numpy.random.choice.html\">\n",
        "  numpy.random.choice </a>.\n",
        "</div>"
      ],
      "execution_count": 0,
      "outputs": [
        {
          "output_type": "display_data",
          "data": {
            "text/html": [
              "<div style='background-color:rgba(80,255,80,0.4); padding:20px'>\n",
              "  <b>Exercise</b>: Fit a classifier. Do you get good results?\n",
              "  If not, look at the predictions made by your classifier.\n",
              "  Compare your performance to a dummy classifier like \n",
              "  <a href=\"https://scikit-learn.org/stable/modules/generated/sklearn.dummy.DummyClassifier.html\">sklearn.dummy.DummyClassifier</a>\n",
              "  or to random predictions using <a href=\"https://docs.scipy.org/doc/numpy-1.15.0/reference/generated/numpy.random.choice.html\">\n",
              "  numpy.random.choice </a>.\n",
              "</div>"
            ],
            "text/plain": [
              "<IPython.core.display.HTML object>"
            ]
          },
          "metadata": {
            "tags": []
          }
        }
      ]
    },
    {
      "cell_type": "code",
      "metadata": {
        "id": "-vCLSzH0GQMA",
        "colab_type": "code",
        "outputId": "fe9533db-fa62-4a9f-9546-6b1b13edb2a4",
        "colab": {
          "base_uri": "https://localhost:8080/",
          "height": 243
        }
      },
      "source": [
        "from sklearn.metrics import balanced_accuracy_score, classification_report\n",
        "\n",
        "train_data, test_data, train_label, test_label = train_test_split(X, y_binary, random_state=42)\n",
        "# Define a grid with a single parameter, C, and the values tested are 1, 10, 100\n",
        "clf = SVC(random_state=42)\n",
        " \n",
        "# Fit the classifier (it will automatically performe cross-validation)\n",
        "clf.fit(train_data, train_label)\n",
        "print('Train', clf.score(train_data, train_label) )\n",
        "print('Test', clf.score(test_data, test_label))\n",
        "\n",
        "print('Balanced accuracy on the training set = {:.4f}'.format(\n",
        "    balanced_accuracy_score(train_label, clf.predict(train_data))))\n",
        "print('Balanced accuracy on the test set = {:.4f}'.format(\n",
        "    balanced_accuracy_score(test_label, clf.predict(test_data))))"
      ],
      "execution_count": 0,
      "outputs": [
        {
          "output_type": "stream",
          "text": [
            "Train 0.991833704528582\n",
            "Test 0.9866666666666667\n",
            "Balanced accuracy on the training set = 0.9799\n",
            "Balanced accuracy on the test set = 0.9711\n",
            "              precision    recall  f1-score   support\n",
            "\n",
            "           0       0.99      1.00      0.99       359\n",
            "           1       0.99      0.95      0.97        91\n",
            "\n",
            "    accuracy                           0.99       450\n",
            "   macro avg       0.99      0.97      0.98       450\n",
            "weighted avg       0.99      0.99      0.99       450\n",
            "\n"
          ],
          "name": "stdout"
        }
      ]
    },
    {
      "cell_type": "markdown",
      "metadata": {
        "id": "1Or53Or2VuSy",
        "colab_type": "text"
      },
      "source": [
        "**If you have already been spent more than one hour on this section, we advise you to skip the next subsections and to jump to Section 2.**"
      ]
    },
    {
      "cell_type": "markdown",
      "metadata": {
        "id": "zkn7tq9EU_iq",
        "colab_type": "text"
      },
      "source": [
        "It is possible that your classifier predicts too many zeros, which is the majority class. Many algorithms consist in minimizing a loss function:\n",
        "$$ L(X, Y) = \\frac{1}{n} \\sum_{i=1}^n \\ell\\big(y_i, f(x_i; \\theta)\\big) + \\lambda \\text{ Reg}(\\theta) $$\n",
        "\n",
        "When the classes are imbalanced, the algorithm can get a good (i.e. small) loss by always predicting the majority class. Such a classifier is not useful, as the accuracy is not a good metric.\n",
        "\n",
        "Two popular approaches to tackle imbalanced datasets are:\n",
        "* **Resampling**: resampling the dataset can lead to a more robust and fair decision boundary. There are several resampling strategies:\n",
        "    * Over-sampling: Over-sampling the minority classes by creating new samples\n",
        "    * Under-sampling: Under-sampling the majority classes\n",
        "    * Combination of over- and under-sampling\n",
        "  \n",
        "* **Cost-sensitive learning**: Cost-sensitive learning consists in giving different weights to different samples based on their classes. In the case of minimizing a loss function, it looks like this:\n",
        "$$ L(X, Y) = \\sum_{i=1}^n {\\color{red} {w_i}} \\ell\\big(y_i, f(x_i; \\theta)\\big) + \\lambda \\text{ Reg}(\\theta) $$\n",
        "where\n",
        "$$ w_i = \\begin{cases} w_{1} & \\text{if } y_i = 1 \\\\ w_{0} & \\text{if } y_i = 0 \\\\ \\end{cases} $$\n",
        "with $ w_{1} > w_{0} $. Cost-sensitive learning can be performed using the `class_weight` parameter for a `scikit-learn` classifier. It is also possible to provide the `sample_weight` parameter in the `fit` method\n",
        "\n",
        "External resources:\n",
        "* [class_weight](https://scikit-learn.org/stable/glossary.html#term-class-weight) entry in `scikit-learn` glossary.\n",
        "* [sample_weight](https://scikit-learn.org/stable/glossary.html#term-sample-weight) entry in `scikit-learn` glossary.\n",
        "* Python package [imbalanced-learn](https://github.com/scikit-learn-contrib/imbalanced-learn)."
      ]
    },
    {
      "cell_type": "code",
      "metadata": {
        "id": "Br3UXHyKdfwc",
        "colab_type": "code",
        "cellView": "form",
        "outputId": "c96ccb5a-9358-4a57-c83b-d81d39c5ece6",
        "colab": {
          "base_uri": "https://localhost:8080/",
          "height": 74
        }
      },
      "source": [
        "#@title\n",
        "%%html\n",
        "<div style='background-color:rgba(80,255,80,0.4); padding:20px'>\n",
        "  <b>Exercise</b>: Try one approach to tackle the class imbalance and see if you get better results.\n",
        "</div>"
      ],
      "execution_count": 0,
      "outputs": [
        {
          "output_type": "display_data",
          "data": {
            "text/html": [
              "<div style='background-color:rgba(80,255,80,0.4); padding:20px'>\n",
              "  <b>Exercise</b>: Try one approach to tackle the class imbalance and see if you get better results.\n",
              "</div>"
            ],
            "text/plain": [
              "<IPython.core.display.HTML object>"
            ]
          },
          "metadata": {
            "tags": []
          }
        }
      ]
    },
    {
      "cell_type": "code",
      "metadata": {
        "id": "v6fmt2ugGRZc",
        "colab_type": "code",
        "outputId": "564f064b-537b-46ab-b284-463f55db60ed",
        "colab": {
          "base_uri": "https://localhost:8080/",
          "height": 52
        }
      },
      "source": [
        "X_train, X_test, y_binary_train, y_binary_test = train_test_split(X, y_binary, random_state=42)\n",
        "\n",
        "sample_weight = (np.bincount(y_binary_train) * 2 / y_binary_train.size)[y_binary_train]\n",
        "clf = SVC(random_state=42)\n",
        "clf.fit(X_train, y_binary_train, sample_weight=sample_weight)\n",
        "\n",
        "print('Balanced accuracy on the training set = {:.4f}'.format(\n",
        "    balanced_accuracy_score(y_binary_train, clf.predict(X_train))))\n",
        "print('Balanced accuracy on the test set = {:.4f}'.format(\n",
        "    balanced_accuracy_score(y_binary_test, clf.predict(X_test))))"
      ],
      "execution_count": 0,
      "outputs": [
        {
          "output_type": "stream",
          "text": [
            "Balanced accuracy on the training set = 0.9505\n",
            "Balanced accuracy on the test set = 0.9615\n"
          ],
          "name": "stdout"
        }
      ]
    },
    {
      "cell_type": "markdown",
      "metadata": {
        "id": "Z_3xQoCfU_is",
        "colab_type": "text"
      },
      "source": [
        "If you used over-sampling and get much better results, are you sure that you did not perform any kind of data leakage? \n",
        "\n",
        "More information on this in the next section!"
      ]
    },
    {
      "cell_type": "markdown",
      "metadata": {
        "id": "u0a5fM5uU_it",
        "colab_type": "text"
      },
      "source": [
        "## 1.3 Preprocessing"
      ]
    },
    {
      "cell_type": "markdown",
      "metadata": {
        "id": "4jdv4QSyU_iu",
        "colab_type": "text"
      },
      "source": [
        "Preprocessing your dataset is (almost always) a necessary step in machine learning. Preprocessing includes imputing missing values, standardizing or scaling your features, performing feature selection. All the information that must be computed on the training set:\n",
        "* **Imputing missing values**: If you want to compute statistics such as means, median or most frequent values, you must compute them using the training set only.\n",
        "* **Scaling features**: If you want to standardize/scale features, you must compute the corresponding statistics (mean, standard deviation, min, max, etc.) using the training set only.\n",
        "* **Selecting feature**: If you want to select features using a criterion (let's say a univariate statistical test), you must compute the statistics/p-values using the training set only.\n",
        "* **Resampling**: If you want to resample your data set, you must do it only on the training set.\n",
        "\n",
        "Pipelines are a great and not-so-well known tool from `scikit-learn`. A [sklearn.pipeline.Pipeline](https://scikit-learn.org/stable/modules/generated/sklearn.pipeline.Pipeline.html#sklearn.pipeline.Pipeline) can be used to chain multiple estimators into one. Pipelines serve multiple purposes:\n",
        "\n",
        "* **Convenience and encapsulation**: You only have to call fit and predict once on your data to fit a whole sequence of estimators.\n",
        "* **Joint parameter selection**: You can grid search over parameters of all estimators in the pipeline at once.\n",
        "* **Safety**: Pipelines help avoid leaking statistics from your test data into the trained model in cross-validation, by ensuring that the same samples are used to train the transformers and predictors."
      ]
    },
    {
      "cell_type": "code",
      "metadata": {
        "id": "YwKFDntBdiYi",
        "colab_type": "code",
        "cellView": "form",
        "outputId": "296c9aef-2114-4c48-ffd5-f40b94b61b9d",
        "colab": {
          "base_uri": "https://localhost:8080/",
          "height": 137
        }
      },
      "source": [
        "#@title\n",
        "%%html\n",
        "<div style='background-color:rgba(80,255,80,0.4); padding:20px'>\n",
        "  <b>Exercise</b>: Perform over-sampling using \n",
        "  <a href=\"https://imbalanced-learn.org/stable/generated/imblearn.over_sampling.SMOTE.html\">imblearn.over_sampling.SMOTE</a>.\n",
        "  Do it in two different ways:\n",
        "  <ul>\n",
        "    <li> First, perform over-sampling using the whole data set and estimate the predictive performance on the test set;</li> \n",
        "    <li> Then, perform over-sampling using only the training set by using a\n",
        "      <a href=\"https://imbalanced-learn.org/stable/generated/imblearn.pipeline.Pipeline.html\">imblearn.pipeline.Pipeline</a>\n",
        "      and estimate the predictive performance on the test set.</li> \n",
        "  </ul>\n",
        "  Compare both scores.\n",
        "</div>"
      ],
      "execution_count": 0,
      "outputs": [
        {
          "output_type": "display_data",
          "data": {
            "text/html": [
              "<div style='background-color:rgba(80,255,80,0.4); padding:20px'>\n",
              "  <b>Exercise</b>: Perform over-sampling using \n",
              "  <a href=\"https://imbalanced-learn.org/stable/generated/imblearn.over_sampling.SMOTE.html\">imblearn.over_sampling.SMOTE</a>.\n",
              "  Do it in two different ways:\n",
              "  <ul>\n",
              "    <li> First, perform over-sampling using the whole data set and estimate the predictive performance on the test set;</li> \n",
              "    <li> Then, perform over-sampling using only the training set by using a\n",
              "      <a href=\"https://imbalanced-learn.org/stable/generated/imblearn.pipeline.Pipeline.html\">imblearn.pipeline.Pipeline</a>\n",
              "      and estimate the predictive performance on the test set.</li> \n",
              "  </ul>\n",
              "  Compare both scores.\n",
              "</div>"
            ],
            "text/plain": [
              "<IPython.core.display.HTML object>"
            ]
          },
          "metadata": {
            "tags": []
          }
        }
      ]
    },
    {
      "cell_type": "code",
      "metadata": {
        "id": "o1i0C2OmU_iv",
        "colab_type": "code",
        "outputId": "e5b2f907-506e-411f-f473-66ae1e2b7e60",
        "colab": {
          "base_uri": "https://localhost:8080/",
          "height": 104
        }
      },
      "source": [
        "!pip install imbalanced-learn"
      ],
      "execution_count": 0,
      "outputs": [
        {
          "output_type": "stream",
          "text": [
            "Requirement already satisfied: imbalanced-learn in /usr/local/lib/python3.6/dist-packages (0.4.3)\n",
            "Requirement already satisfied: scipy>=0.13.3 in /usr/local/lib/python3.6/dist-packages (from imbalanced-learn) (1.4.1)\n",
            "Requirement already satisfied: numpy>=1.8.2 in /usr/local/lib/python3.6/dist-packages (from imbalanced-learn) (1.17.5)\n",
            "Requirement already satisfied: scikit-learn>=0.20 in /usr/local/lib/python3.6/dist-packages (from imbalanced-learn) (0.22.1)\n",
            "Requirement already satisfied: joblib>=0.11 in /usr/local/lib/python3.6/dist-packages (from scikit-learn>=0.20->imbalanced-learn) (0.14.1)\n"
          ],
          "name": "stdout"
        }
      ]
    },
    {
      "cell_type": "code",
      "metadata": {
        "id": "zvVs06GtGUAM",
        "colab_type": "code",
        "colab": {}
      },
      "source": [
        "# TODO"
      ],
      "execution_count": 0,
      "outputs": []
    },
    {
      "cell_type": "code",
      "metadata": {
        "id": "tPvIGV67dkq4",
        "colab_type": "code",
        "cellView": "form",
        "outputId": "59139513-e7ea-47ae-ff8f-395b2cd5d410",
        "colab": {
          "base_uri": "https://localhost:8080/",
          "height": 74
        }
      },
      "source": [
        "#@title\n",
        "%%html\n",
        "<div style='background-color:rgba(255,80,80,0.4); padding:20px'>\n",
        "  <b>Take-home message: If you want to perform any kind of preprocessing,\n",
        "    you must fit the corresponding estimators on the training set only.</b>\n",
        "</div>"
      ],
      "execution_count": 0,
      "outputs": [
        {
          "output_type": "display_data",
          "data": {
            "text/html": [
              "<div style='background-color:rgba(255,80,80,0.4); padding:20px'>\n",
              "  <b>Take-home message: If you want to perform any kind of preprocessing,\n",
              "    you must fit the corresponding estimators on the training set only.</b>\n",
              "</div>"
            ],
            "text/plain": [
              "<IPython.core.display.HTML object>"
            ]
          },
          "metadata": {
            "tags": []
          }
        }
      ]
    },
    {
      "cell_type": "markdown",
      "metadata": {
        "id": "XJAHV3zyU_i1",
        "colab_type": "text"
      },
      "source": [
        "# 2. Validation: specific rules to medical applications"
      ]
    },
    {
      "cell_type": "markdown",
      "metadata": {
        "id": "zY9ro52HU_i1",
        "colab_type": "text"
      },
      "source": [
        "In the previous section we highlighted rules for cross-validation that address the most common situations. However, for some medical applications, the datasets can be slightly different and more care is needed. We will illustrate this with a 2D CNN trained on slices extracted from a MRI volume."
      ]
    },
    {
      "cell_type": "code",
      "metadata": {
        "id": "nozmxG0L-S_B",
        "colab_type": "code",
        "colab": {}
      },
      "source": [
        "import torch\n",
        "from torch.utils.data import Dataset, DataLoader\n",
        "from torch import nn\n",
        "from os import path\n",
        "import pandas as pd\n",
        "from copy import deepcopy\n",
        "import numpy as np\n",
        "from time import time"
      ],
      "execution_count": 0,
      "outputs": []
    },
    {
      "cell_type": "markdown",
      "metadata": {
        "id": "NWjRH2-3U_i2",
        "colab_type": "text"
      },
      "source": [
        "## 2.1 MRI Dataset "
      ]
    },
    {
      "cell_type": "markdown",
      "metadata": {
        "id": "LT6BkM6Dr5kS",
        "colab_type": "text"
      },
      "source": [
        "We use the same MR images as in the first lab. Run the following command to download them."
      ]
    },
    {
      "cell_type": "code",
      "metadata": {
        "id": "bDIYb0OpU_i2",
        "colab_type": "code",
        "outputId": "c8530d10-5dbe-4a13-b619-7042c769cf9c",
        "colab": {
          "base_uri": "https://localhost:8080/",
          "height": 156
        }
      },
      "source": [
        "! git clone https://github.com/14thibea/OASIS-1_dataset.git"
      ],
      "execution_count": 0,
      "outputs": [
        {
          "output_type": "stream",
          "text": [
            "Cloning into 'OASIS-1_dataset'...\n",
            "remote: Enumerating objects: 48, done.\u001b[K\n",
            "remote: Counting objects:   2% (1/48)\u001b[K\rremote: Counting objects:   4% (2/48)\u001b[K\rremote: Counting objects:   6% (3/48)\u001b[K\rremote: Counting objects:   8% (4/48)\u001b[K\rremote: Counting objects:  10% (5/48)\u001b[K\rremote: Counting objects:  12% (6/48)\u001b[K\rremote: Counting objects:  14% (7/48)\u001b[K\rremote: Counting objects:  16% (8/48)\u001b[K\rremote: Counting objects:  18% (9/48)\u001b[K\rremote: Counting objects:  20% (10/48)\u001b[K\rremote: Counting objects:  22% (11/48)\u001b[K\rremote: Counting objects:  25% (12/48)\u001b[K\rremote: Counting objects:  27% (13/48)\u001b[K\rremote: Counting objects:  29% (14/48)\u001b[K\rremote: Counting objects:  31% (15/48)\u001b[K\rremote: Counting objects:  33% (16/48)\u001b[K\rremote: Counting objects:  35% (17/48)\u001b[K\rremote: Counting objects:  37% (18/48)\u001b[K\rremote: Counting objects:  39% (19/48)\u001b[K\rremote: Counting objects:  41% (20/48)\u001b[K\rremote: Counting objects:  43% (21/48)\u001b[K\rremote: Counting objects:  45% (22/48)\u001b[K\rremote: Counting objects:  47% (23/48)\u001b[K\rremote: Counting objects:  50% (24/48)\u001b[K\rremote: Counting objects:  52% (25/48)\u001b[K\rremote: Counting objects:  54% (26/48)\u001b[K\rremote: Counting objects:  56% (27/48)\u001b[K\rremote: Counting objects:  58% (28/48)\u001b[K\rremote: Counting objects:  60% (29/48)\u001b[K\rremote: Counting objects:  62% (30/48)\u001b[K\rremote: Counting objects:  64% (31/48)\u001b[K\rremote: Counting objects:  66% (32/48)\u001b[K\rremote: Counting objects:  68% (33/48)\u001b[K\rremote: Counting objects:  70% (34/48)\u001b[K\rremote: Counting objects:  72% (35/48)\u001b[K\rremote: Counting objects:  75% (36/48)\u001b[K\rremote: Counting objects:  77% (37/48)\u001b[K\rremote: Counting objects:  79% (38/48)\u001b[K\rremote: Counting objects:  81% (39/48)\u001b[K\rremote: Counting objects:  83% (40/48)\u001b[K\rremote: Counting objects:  85% (41/48)\u001b[K\rremote: Counting objects:  87% (42/48)\u001b[K\rremote: Counting objects:  89% (43/48)\u001b[K\rremote: Counting objects:  91% (44/48)\u001b[K\rremote: Counting objects:  93% (45/48)\u001b[K\rremote: Counting objects:  95% (46/48)\u001b[K\rremote: Counting objects:  97% (47/48)\u001b[K\rremote: Counting objects: 100% (48/48)\u001b[K\rremote: Counting objects: 100% (48/48), done.\u001b[K\n",
            "remote: Compressing objects: 100% (41/41), done.\u001b[K\n",
            "remote: Total 675 (delta 21), reused 31 (delta 7), pack-reused 627\u001b[K\n",
            "Receiving objects: 100% (675/675), 1.31 GiB | 46.63 MiB/s, done.\n",
            "Resolving deltas: 100% (452/452), done.\n",
            "Checking out files: 100% (576/576), done.\n"
          ],
          "name": "stdout"
        }
      ]
    },
    {
      "cell_type": "markdown",
      "metadata": {
        "id": "BW0gXHvgr9re",
        "colab_type": "text"
      },
      "source": [
        "A Dataset object is used to extract slices from the preprocessed data. Please refer to the [previous lab](https://colab.research.google.com/drive/1Wb8sNyK6hRnxNZRInGC9URTElYWtJQZ4#scrollTo=66NAk4C-spYh) for more information on the preprocessing steps. "
      ]
    },
    {
      "cell_type": "code",
      "metadata": {
        "id": "pTAg6LLHr9O0",
        "colab_type": "code",
        "colab": {}
      },
      "source": [
        "class MRIDataset(Dataset):\n",
        "    \"\"\"A dataset that will extract slices from MRI volumes depending on their \n",
        "    indices\"\"\"\n",
        "    \n",
        "    def __init__(self, img_dir, data_df):\n",
        "        \"\"\"\n",
        "        Args:\n",
        "          img_dir: (str) path to the directory containing the images.\n",
        "          data_df: (DataFrame) list of subjects and slice indices.\n",
        "          Mandatory columns are participant_id, session_id, diagnosis and slice_id.\n",
        "        \"\"\"\n",
        "        self.img_dir = img_dir\n",
        "        self.data_df = data_df.reset_index()\n",
        "        self.label_code = {\"AD\":1, \"CN\":0}\n",
        "\n",
        "        mandatory_columns = {'participant_id', 'session_id', 'diagnosis', 'slice_id'}\n",
        "        if not isinstance(data_df, pd.DataFrame):\n",
        "            raise TypeError(\"data_df must be a DataFrame\")\n",
        "        elif not mandatory_columns.issubset(data_df.columns.values):\n",
        "            raise ValueError(\"data_df must include mandatory columns that are \" +\n",
        "                             str(mandatory_columns))\n",
        "        self.size = self[0]['image'].shape\n",
        "        \n",
        "    def __len__(self):\n",
        "        return len(self.data_df)\n",
        "    \n",
        "    def __getitem__(self, idx):\n",
        "        diagnosis = self.data_df.loc[idx, 'diagnosis']\n",
        "        label = self.label_code[diagnosis]\n",
        "\n",
        "        participant_id = self.data_df.loc[idx, 'participant_id']\n",
        "        session_id = self.data_df.loc[idx, 'session_id']\n",
        "        filename = participant_id + '_' + session_id + \\\n",
        "          '_T1w_segm-graymatter_space-Ixi549Space_modulated-off_probability.pt'\n",
        "\n",
        "        image = torch.load(path.join(self.img_dir, filename))\n",
        "\n",
        "        # Slice extraction\n",
        "        slice_id = self.data_df.loc[idx, 'slice_id']\n",
        "        image = image[:, :, slice_id, :].clone().repeat(3, 1, 1)\n",
        "\n",
        "        sample = {'image': image, 'label': label,\n",
        "                  'participant_id': participant_id,\n",
        "                  'session_id': session_id,\n",
        "                  'slice_id': slice_id}\n",
        "        return sample"
      ],
      "execution_count": 0,
      "outputs": []
    },
    {
      "cell_type": "markdown",
      "metadata": {
        "id": "dipgXDlViUYT",
        "colab_type": "text"
      },
      "source": [
        "30 slices are extracted from the coronal plane for each subject.\n",
        "The slices of one subject are displayed below."
      ]
    },
    {
      "cell_type": "code",
      "metadata": {
        "id": "hI0IYRrSi2b5",
        "colab_type": "code",
        "outputId": "dc5d7989-cabd-4784-94ca-64697aaa20aa",
        "colab": {
          "base_uri": "https://localhost:8080/",
          "height": 206
        }
      },
      "source": [
        "import matplotlib.pyplot as plt\n",
        "import nibabel as nib\n",
        "from scipy.ndimage import rotate\n",
        "\n",
        "subject = 'sub-OASIS10003'\n",
        "preprocessed_pt = torch.load('OASIS-1_dataset/preprocessed/%s_ses-M00_' % subject +\n",
        "                    'T1w_segm-graymatter_space-Ixi549Space_modulated-off_' +\n",
        "                    'probability.pt')\n",
        "\n",
        "def show_slices(slices, subject):\n",
        "    \"\"\" Function to display a row of image slices \"\"\"\n",
        "    fig, axes = plt.subplots(1, len(slices), figsize=(3 * len(slices), 3))\n",
        "    fig.suptitle('Slices extracted by MRIDataset for subject %s' % subject,\n",
        "                 fontsize=16)\n",
        "    for i, slice in enumerate(slices):\n",
        "        axes[i].imshow(slice.T, cmap=\"gray\", origin=\"lower\")\n",
        "        axes[i].axis(\"off\")\n",
        "\n",
        "slice_0 = preprocessed_pt[0, :, 45, :]\n",
        "slice_1 = preprocessed_pt[0, :, 52, :]\n",
        "slice_2 = preprocessed_pt[0, :, 60, :]\n",
        "slice_3 = preprocessed_pt[0, :, 67, :]\n",
        "slice_4 = preprocessed_pt[0, :, 74, :]\n",
        "show_slices([slice_0, slice_1, slice_2, slice_3, slice_4], subject)\n",
        "plt.show()"
      ],
      "execution_count": 0,
      "outputs": [
        {
          "output_type": "display_data",
          "data": {
            "image/png": "[encoded data removed]",
            "text/plain": [
              "<Figure size 1080x216 with 5 Axes>"
            ]
          },
          "metadata": {
            "tags": []
          }
        }
      ]
    },
    {
      "cell_type": "markdown",
      "metadata": {
        "id": "pKMOBfskU_i3",
        "colab_type": "text"
      },
      "source": [
        "## 2.2 Train and test functions"
      ]
    },
    {
      "cell_type": "markdown",
      "metadata": {
        "id": "WjPPBSHfJ9zv",
        "colab_type": "text"
      },
      "source": [
        "Main difference with previous lab, the training loss is estimated from batch seen during the epochs instead of testing the whole dataset at the end of the epoch."
      ]
    },
    {
      "cell_type": "code",
      "metadata": {
        "id": "5Pn0Xh0Avf7Y",
        "colab_type": "code",
        "colab": {}
      },
      "source": [
        "def train(model, train_loader, criterion, optimizer, n_epochs):\n",
        "    \"\"\"\n",
        "    Method used to train a CNN\n",
        "    \n",
        "    Args:\n",
        "        model: (nn.Module) the neural network\n",
        "        train_loader: (DataLoader) a DataLoader wrapping a MRIDataset\n",
        "        criterion: (nn.Module) a method to compute the loss of a mini-batch of images\n",
        "        optimizer: (torch.optim) an optimization algorithm\n",
        "        n_epochs: (int) number of epochs performed during training\n",
        "\n",
        "    Returns:\n",
        "        best_model: (nn.Module) the trained neural network\n",
        "    \"\"\"\n",
        "    best_model = deepcopy(model)\n",
        "    train_best_loss = np.inf\n",
        "\n",
        "    for epoch in range(n_epochs):\n",
        "        model.train()\n",
        "        total_loss = 0\n",
        "        t0 = time()\n",
        "        for i, data in enumerate(train_loader, 0):\n",
        "            images, labels = data['image'].cuda(), data['label'].cuda()\n",
        "            outputs = model(images)\n",
        "            loss = criterion(outputs, labels)\n",
        "            loss.backward()\n",
        "            total_loss += loss.item()\n",
        "            optimizer.step()\n",
        "            optimizer.zero_grad()\n",
        "\n",
        "        mean_loss = total_loss / len(train_loader.dataset)\n",
        "        print('Epoch %i: loss = %f' % (epoch, mean_loss))\n",
        "\n",
        "        if mean_loss < train_best_loss:\n",
        "            best_model = deepcopy(model)\n",
        "            train_best_loss = mean_loss\n",
        "    \n",
        "    return best_model\n",
        "\n",
        "def test(model, data_loader, criterion):\n",
        "    \"\"\"\n",
        "    Method used to test a CNN\n",
        "    \n",
        "    Args:\n",
        "        model: (nn.Module) the neural network\n",
        "        data_loader: (DataLoader) a DataLoader wrapping a MRIDataset\n",
        "        criterion: (nn.Module) a method to compute the loss of a mini-batch of images\n",
        "    \n",
        "    Returns:\n",
        "        results_df: (DataFrame) the label predicted for on the slice level.\n",
        "        results_metrics: (dict) a set of metrics\n",
        "    \"\"\"\n",
        "    model.eval()\n",
        "    columns = [\"participant_id\", \"slice_id\", \"proba0\", \"proba1\",\n",
        "               \"true_label\", \"predicted_label\"]\n",
        "    results_df = pd.DataFrame(columns=columns)\n",
        "    total_loss = 0\n",
        "    \n",
        "    with torch.no_grad():\n",
        "        for i, data in enumerate(data_loader, 0):\n",
        "            images, labels = data['image'].cuda(), data['label'].cuda()\n",
        "            outputs = model(images)\n",
        "            loss = criterion(outputs, labels)\n",
        "            total_loss += loss.item()\n",
        "            probs = nn.Softmax(dim=1)(outputs)\n",
        "            _, predicted = torch.max(outputs.data, 1)\n",
        "\n",
        "            for idx, sub in enumerate(data['participant_id']):\n",
        "                row = [sub, data['slice_id'][idx], \n",
        "                       probs[idx, 0].item(), probs[idx, 1].item(),\n",
        "                       labels[idx].item(), predicted[idx].item()]\n",
        "                row_df = pd.DataFrame([row], columns=columns)\n",
        "                results_df = pd.concat([results_df, row_df])\n",
        "\n",
        "    results_metrics = compute_metrics(results_df.true_label.values, results_df.predicted_label.values)\n",
        "    results_df.reset_index(inplace=True, drop=True)\n",
        "    results_metrics['mean_loss'] = total_loss / len(data_loader.dataset)\n",
        "    \n",
        "    return results_df, results_metrics\n",
        "\n",
        "\n",
        "def compute_metrics(ground_truth, prediction):\n",
        "    \"\"\"Computes the accuracy, sensitivity, specificity and balanced accuracy\"\"\"\n",
        "    tp = np.sum((prediction == 1) & (ground_truth == 1))\n",
        "    tn = np.sum((prediction == 0) & (ground_truth == 0))\n",
        "    fp = np.sum((prediction == 1) & (ground_truth == 0))\n",
        "    fn = np.sum((prediction == 0) & (ground_truth == 1))\n",
        "    \n",
        "    metrics_dict = dict()\n",
        "    metrics_dict['accuracy'] = (tp + tn) / (tp + tn + fp + fn)\n",
        "    \n",
        "    # Sensitivity\n",
        "    if tp + fn != 0:\n",
        "        metrics_dict['sensitivity'] = tp / (tp + fn)\n",
        "    else:\n",
        "        metrics_dict['sensitivity'] = 0.0\n",
        "        \n",
        "    # Specificity\n",
        "    if fp + tn != 0:\n",
        "        metrics_dict['specificity'] = tn / (fp + tn)\n",
        "    else:\n",
        "        metrics_dict['specificity'] = 0.0\n",
        "        \n",
        "    metrics_dict['balanced_accuracy'] = (metrics_dict['sensitivity'] + metrics_dict['specificity']) / 2\n",
        "    \n",
        "    return metrics_dict"
      ],
      "execution_count": 0,
      "outputs": []
    },
    {
      "cell_type": "markdown",
      "metadata": {
        "id": "f616H2EEyGlV",
        "colab_type": "text"
      },
      "source": [
        "## 2.3 Model"
      ]
    },
    {
      "cell_type": "markdown",
      "metadata": {
        "id": "x48N4ZAJXiFY",
        "colab_type": "text"
      },
      "source": [
        "As we are working with 2D inputs, we can use networks that have been pretrained on natural images. The last fully-connected layer is replaced to perform a binary classification (indeed the number of classes in the natural images dataset ImageNet is 1,000)."
      ]
    },
    {
      "cell_type": "code",
      "metadata": {
        "id": "h5DEMtnnQ2c9",
        "colab_type": "code",
        "colab": {}
      },
      "source": [
        "import torchvision.models as models\n",
        "\n",
        "def create_model():\n",
        "    resnet18 = models.resnet18(pretrained=True)\n",
        "    resnet18.fc = nn.Linear(512, 2)\n",
        "    return resnet18"
      ],
      "execution_count": 0,
      "outputs": []
    },
    {
      "cell_type": "markdown",
      "metadata": {
        "id": "PjTCNOpwwPCi",
        "colab_type": "text"
      },
      "source": [
        "## 2.4 Training binary classification (AD vs CN)"
      ]
    },
    {
      "cell_type": "markdown",
      "metadata": {
        "id": "4D16PBfnwbPL",
        "colab_type": "text"
      },
      "source": [
        "As in the previous lab, the goal will be to separate AD patients from CN participants using a CNN. This time its inputs will be slices instead of patches centered on the hippocampus."
      ]
    },
    {
      "cell_type": "code",
      "metadata": {
        "id": "dDYzLbl757tQ",
        "colab_type": "code",
        "cellView": "form",
        "outputId": "f52eab28-8ef6-4249-c331-05fa79e52c0b",
        "colab": {
          "base_uri": "https://localhost:8080/",
          "height": 109
        }
      },
      "source": [
        "#@title\n",
        "%%html\n",
        "<div style='background-color:rgba(255,80,80,0.4); padding:20px'>\n",
        "    <b>In this lab we don't perform a cross-validation to reduce computational time. \n",
        "      However it is highly recommended to do it as deep learning methods are not deterministic and \n",
        "      give highly variable results. In this way a cross-validation procedure can help to better \n",
        "      estimate the performance and make better choices of hyperparameters.</b>\n",
        "</div>"
      ],
      "execution_count": 0,
      "outputs": [
        {
          "output_type": "display_data",
          "data": {
            "text/html": [
              "<div style='background-color:rgba(255,80,80,0.4); padding:20px'>\n",
              "    <b>In this lab we don't perform a cross-validation to reduce computational time. \n",
              "      However it is highly recommended to do it as deep learning methods are not deterministic and \n",
              "      give highly variable results. In this way a cross-validation procedure can help to better \n",
              "      estimate the performance and make better choices of hyperparameters.</b>\n",
              "</div>"
            ],
            "text/plain": [
              "<IPython.core.display.HTML object>"
            ]
          },
          "metadata": {
            "tags": []
          }
        }
      ]
    },
    {
      "cell_type": "markdown",
      "metadata": {
        "id": "Mo7QTACk0eON",
        "colab_type": "text"
      },
      "source": [
        "### 2.4.1 Slice-level split"
      ]
    },
    {
      "cell_type": "code",
      "metadata": {
        "id": "6iFtxPcqwaiv",
        "colab_type": "code",
        "cellView": "form",
        "outputId": "8775acbc-58d0-44e0-922a-dcf661dacd88",
        "colab": {
          "base_uri": "https://localhost:8080/",
          "height": 109
        }
      },
      "source": [
        "#@title\n",
        "%%html\n",
        "<div style='background-color:rgba(80,255,80,0.4); padding:20px'>\n",
        "  <b>Exercise</b>: Split your data on the slice level and create two DataFrames\n",
        "  <code>train_df</code> and <code>valid_df</code>.\n",
        "  You can use <a href=\"https://scikit-learn.org/stable/modules/generated/sklearn.model_selection.train_test_split.html\">sklearn.model_selection.train_test_split</a>\n",
        "  to split your dataset into a training set and a validation set.<br>\n",
        "  The dataframe comprising all training data was added on github under the path\n",
        "  <code>tsv_files/lab_2/train_valid.tsv</code>.\n",
        "</div>"
      ],
      "execution_count": 0,
      "outputs": [
        {
          "output_type": "display_data",
          "data": {
            "text/html": [
              "<div style='background-color:rgba(80,255,80,0.4); padding:20px'>\n",
              "  <b>Exercise</b>: Split your data on the slice level and create two DataFrames\n",
              "  <code>train_df</code> and <code>valid_df</code>.\n",
              "  You can use <a href=\"https://scikit-learn.org/stable/modules/generated/sklearn.model_selection.train_test_split.html\">sklearn.model_selection.train_test_split</a>\n",
              "  to split your dataset into a training set and a validation set.<br>\n",
              "  The dataframe comprising all training data was added on github under the path\n",
              "  <code>tsv_files/lab_2/train_valid.tsv</code>.\n",
              "</div>"
            ],
            "text/plain": [
              "<IPython.core.display.HTML object>"
            ]
          },
          "metadata": {
            "tags": []
          }
        }
      ]
    },
    {
      "cell_type": "code",
      "metadata": {
        "id": "cX4n25Y21bE4",
        "colab_type": "code",
        "colab": {}
      },
      "source": [
        "from sklearn.model_selection import train_test_split\n",
        "\n",
        "train_valid_df = pd.read_csv('OASIS-1_dataset/tsv_files/lab_2/train_valid.tsv', sep='\\t')\n",
        "\n",
        "indices_train, indices_valid = train_test_split(train_valid_df.index.values, random_state=42)\n",
        "train_df = train_valid_df.loc[indices_train]\n",
        "valid_df = train_valid_df.loc[indices_valid]"
      ],
      "execution_count": 0,
      "outputs": []
    },
    {
      "cell_type": "code",
      "metadata": {
        "id": "98YXoBuu08xm",
        "colab_type": "code",
        "cellView": "form",
        "outputId": "24b280a3-2c5e-4015-df8e-7dbd139da679",
        "colab": {
          "base_uri": "https://localhost:8080/",
          "height": 74
        }
      },
      "source": [
        "#@title\n",
        "%%html\n",
        "<div style='background-color:rgba(80,255,80,0.4); padding:20px'>\n",
        "  <b>Exercise</b>: Train the 2D CNN and evaluate its performance on the training and validation set. You can reuse code from\n",
        "  <a href=\"https://colab.research.google.com/drive/1EUB_m9_0i7d1dAr0_ElbJjCXx4W4JqiF#scrollTo=spF8eq2pcGC_\">the previous lab</a>.\n",
        "</div>"
      ],
      "execution_count": 0,
      "outputs": [
        {
          "output_type": "display_data",
          "data": {
            "text/html": [
              "<div style='background-color:rgba(80,255,80,0.4); padding:20px'>\n",
              "  <b>Exercise</b>: Train the 2D CNN and evaluate its performance on the training and validation set. You can reuse code from\n",
              "  <a href=\"https://colab.research.google.com/drive/1EUB_m9_0i7d1dAr0_ElbJjCXx4W4JqiF#scrollTo=spF8eq2pcGC_\">the previous lab</a>.\n",
              "</div>"
            ],
            "text/plain": [
              "<IPython.core.display.HTML object>"
            ]
          },
          "metadata": {
            "tags": []
          }
        }
      ]
    },
    {
      "cell_type": "code",
      "metadata": {
        "id": "rGByDiWUIsoF",
        "colab_type": "code",
        "outputId": "448631e4-5284-4875-f901-81da9e74cf15",
        "colab": {
          "base_uri": "https://localhost:8080/",
          "height": 622,
          "referenced_widgets": [
            "5fbbf7e9a6534c36a9bbfe2f772f99fd",
            "cd67d3c1ea0047879ed2caa240b3c918",
            "7c6fb668dfe44a5ca6157204b9aa844d",
            "cefc0c77714d4cdf960badb437de39bc",
            "055c04789d6a48ef8114ccc4375e5262",
            "fa9d1a32f19047b68b6e2b582aa0c317",
            "e44e20d2b1e44c48af33cd0975829a87",
            "77e0caf09435417898c0a30a68f87ba9"
          ]
        }
      },
      "source": [
        "from time import time\n",
        "\n",
        "# Construction of dataset objects\n",
        "img_dir = path.join('OASIS-1_dataset', 'preprocessed')\n",
        "train_dataset = MRIDataset(img_dir, train_df)\n",
        "valid_dataset = MRIDataset(img_dir, valid_df)\n",
        "\n",
        "# Try different learning rates\n",
        "learning_rate = 10**-4\n",
        "n_epochs = 30\n",
        "batch_size = 32\n",
        "\n",
        "# Put the network on GPU\n",
        "model = create_model().cuda()\n",
        "train_loader = DataLoader(train_dataset, batch_size=batch_size, shuffle=True, num_workers=8, pin_memory=True)\n",
        "valid_loader = DataLoader(valid_dataset, batch_size=batch_size, shuffle=False, num_workers=8, pin_memory=True)\n",
        "criterion = nn.CrossEntropyLoss(reduction='sum')\n",
        "optimizer = torch.optim.Adam(model.parameters(), learning_rate)\n",
        "\n",
        "t= time()\n",
        "best_model = train(model, train_loader, criterion, optimizer, n_epochs)\n",
        "print('Execution time', time() - t)"
      ],
      "execution_count": 0,
      "outputs": [
        {
          "output_type": "stream",
          "text": [
            "Downloading: \"https://download.pytorch.org/models/resnet18-5c106cde.pth\" to /root/.cache/torch/checkpoints/resnet18-5c106cde.pth\n"
          ],
          "name": "stderr"
        },
        {
          "output_type": "display_data",
          "data": {
            "application/vnd.jupyter.widget-view+json": {
              "model_id": "5fbbf7e9a6534c36a9bbfe2f772f99fd",
              "version_minor": 0,
              "version_major": 2
            },
            "text/plain": [
              "HBox(children=(IntProgress(value=0, max=46827520), HTML(value='')))"
            ]
          },
          "metadata": {
            "tags": []
          }
        },
        {
          "output_type": "stream",
          "text": [
            "\n",
            "Epoch 0: loss = 0.602100\n",
            "Epoch 1: loss = 0.223857\n",
            "Epoch 2: loss = 0.100696\n",
            "Epoch 3: loss = 0.080611\n",
            "Epoch 4: loss = 0.043855\n",
            "Epoch 5: loss = 0.033362\n",
            "Epoch 6: loss = 0.048903\n",
            "Epoch 7: loss = 0.077016\n",
            "Epoch 8: loss = 0.028058\n",
            "Epoch 9: loss = 0.017720\n",
            "Epoch 10: loss = 0.012655\n",
            "Epoch 11: loss = 0.031071\n",
            "Epoch 12: loss = 0.013761\n",
            "Epoch 13: loss = 0.041895\n",
            "Epoch 14: loss = 0.033481\n",
            "Epoch 15: loss = 0.019159\n",
            "Epoch 16: loss = 0.010930\n",
            "Epoch 17: loss = 0.006540\n",
            "Epoch 18: loss = 0.010505\n",
            "Epoch 19: loss = 0.004507\n",
            "Epoch 20: loss = 0.033564\n",
            "Epoch 21: loss = 0.007634\n",
            "Epoch 22: loss = 0.016407\n",
            "Epoch 23: loss = 0.012216\n",
            "Epoch 24: loss = 0.013841\n",
            "Epoch 25: loss = 0.018170\n",
            "Epoch 26: loss = 0.023467\n",
            "Epoch 27: loss = 0.005697\n",
            "Epoch 28: loss = 0.022993\n",
            "Epoch 29: loss = 0.025224\n",
            "Execution time 250.3473584651947\n"
          ],
          "name": "stdout"
        }
      ]
    },
    {
      "cell_type": "markdown",
      "metadata": {
        "id": "UT3e-C__4MUN",
        "colab_type": "text"
      },
      "source": [
        "The results seem quite good! We can now evaluate the generalization capacity of the network on an independent test set. This set contains subjects that have never been seen during training."
      ]
    },
    {
      "cell_type": "code",
      "metadata": {
        "id": "gzg9faRE3xpI",
        "colab_type": "code",
        "cellView": "form",
        "outputId": "d6be4034-851c-4ec8-f27a-521ff00b6815",
        "colab": {
          "base_uri": "https://localhost:8080/",
          "height": 74
        }
      },
      "source": [
        "#@title\n",
        "%%html\n",
        "<div style='background-color:rgba(80,255,80,0.4); padding:20px'>\n",
        "  <b>Exercise</b>: Evaluate the network on the test set. \n",
        "  Compare with the scores obtained on the validation set.\n",
        "  Can you explain the difference?\n",
        "</div>"
      ],
      "execution_count": 0,
      "outputs": [
        {
          "output_type": "display_data",
          "data": {
            "text/html": [
              "<div style='background-color:rgba(80,255,80,0.4); padding:20px'>\n",
              "  <b>Exercise</b>: Evaluate the network on the test set. \n",
              "  Compare with the scores obtained on the validation set.\n",
              "  Can you explain the difference?\n",
              "</div>"
            ],
            "text/plain": [
              "<IPython.core.display.HTML object>"
            ]
          },
          "metadata": {
            "tags": []
          }
        }
      ]
    },
    {
      "cell_type": "code",
      "metadata": {
        "id": "IBa-12k4IukO",
        "colab_type": "code",
        "colab": {}
      },
      "source": [
        "test_df = pd.read_csv(\"OASIS-1_dataset/tsv_files/lab_2/test.tsv\", sep=\"\\t\")"
      ],
      "execution_count": 0,
      "outputs": []
    },
    {
      "cell_type": "markdown",
      "metadata": {
        "id": "CiYG88ic5BFX",
        "colab_type": "text"
      },
      "source": [
        "### 2.4.2 Subject-level split"
      ]
    },
    {
      "cell_type": "code",
      "metadata": {
        "id": "FZJiBcOO5s7l",
        "colab_type": "code",
        "cellView": "form",
        "outputId": "c374e5fe-be39-483b-f9d9-a87ac556c26b",
        "colab": {
          "base_uri": "https://localhost:8080/",
          "height": 74
        }
      },
      "source": [
        "#@title\n",
        "%%html\n",
        "<div style='background-color:rgba(80,255,80,0.4); padding:20px'>\n",
        "  <b>Exercise</b>: Split your data on the <b>subject level</b> and create two DataFrames\n",
        "  <code>train_df</code> and <code>valid_df</code>.\n",
        "</div>"
      ],
      "execution_count": 0,
      "outputs": [
        {
          "output_type": "display_data",
          "data": {
            "text/html": [
              "<div style='background-color:rgba(80,255,80,0.4); padding:20px'>\n",
              "  <b>Exercise</b>: Split your data on the <b>subject level</b> and create two DataFrames\n",
              "  <code>train_df</code> and <code>valid_df</code>.\n",
              "</div>"
            ],
            "text/plain": [
              "<IPython.core.display.HTML object>"
            ]
          },
          "metadata": {
            "tags": []
          }
        }
      ]
    },
    {
      "cell_type": "code",
      "metadata": {
        "id": "JR5_nV3VIyF1",
        "colab_type": "code",
        "colab": {}
      },
      "source": [
        "# TODO"
      ],
      "execution_count": 0,
      "outputs": []
    },
    {
      "cell_type": "code",
      "metadata": {
        "id": "BQbmJyQ16GWg",
        "colab_type": "code",
        "cellView": "form",
        "outputId": "e98e917a-d109-445c-8f19-504ce1f223e0",
        "colab": {
          "base_uri": "https://localhost:8080/",
          "height": 74
        }
      },
      "source": [
        "#@title\n",
        "%%html\n",
        "<div style='background-color:rgba(80,255,80,0.4); padding:20px'>\n",
        "  <b>Exercise</b>: Repeat the training and testing steps with the subject-level split.\n",
        "</div>"
      ],
      "execution_count": 0,
      "outputs": [
        {
          "output_type": "display_data",
          "data": {
            "text/html": [
              "<div style='background-color:rgba(80,255,80,0.4); padding:20px'>\n",
              "  <b>Exercise</b>: Repeat the training and testing steps with the subject-level split.\n",
              "</div>"
            ],
            "text/plain": [
              "<IPython.core.display.HTML object>"
            ]
          },
          "metadata": {
            "tags": []
          }
        }
      ]
    },
    {
      "cell_type": "code",
      "metadata": {
        "id": "oYFFCzjZIy5d",
        "colab_type": "code",
        "colab": {}
      },
      "source": [
        "# TODO"
      ],
      "execution_count": 0,
      "outputs": []
    },
    {
      "cell_type": "markdown",
      "metadata": {
        "id": "fwayrWI6wn0V",
        "colab_type": "text"
      },
      "source": [
        "## 2.5 Longitudinal dataset\n",
        "\n",
        "In longitudinal studies, patients have several visits. The dataset could look like this:"
      ]
    },
    {
      "cell_type": "code",
      "metadata": {
        "id": "T9YHAOfVwt6F",
        "colab_type": "code",
        "outputId": "4928b044-f99f-4d79-c34b-1ff38d0a3282",
        "colab": {
          "base_uri": "https://localhost:8080/",
          "height": 450
        }
      },
      "source": [
        "import numpy as np\n",
        "import pandas as pd\n",
        "\n",
        "# Create a mock longitudinal dataset\n",
        "n_patients = 50\n",
        "n_visits = 4\n",
        "n_features = 7\n",
        "patients = ['Patient {}'.format(i + 1) for i in range(n_patients)]\n",
        "visits = ['Visit {}'.format(i + 1) for i in range(n_visits)]\n",
        "index = pd.MultiIndex.from_product([patients, visits],\n",
        "                                   names=['Patient', 'Visit'])\n",
        "columns = ['Feature {}'.format(i + 1) for i in range(n_features)]\n",
        "df = pd.DataFrame(data=np.random.randn(len(index), n_features),\n",
        "                  index=index, columns=columns)\n",
        "df"
      ],
      "execution_count": 0,
      "outputs": [
        {
          "output_type": "execute_result",
          "data": {
            "text/html": [
              "<div>\n",
              "<style scoped>\n",
              "    .dataframe tbody tr th:only-of-type {\n",
              "        vertical-align: middle;\n",
              "    }\n",
              "\n",
              "    .dataframe tbody tr th {\n",
              "        vertical-align: top;\n",
              "    }\n",
              "\n",
              "    .dataframe thead th {\n",
              "        text-align: right;\n",
              "    }\n",
              "</style>\n",
              "<table border=\"1\" class=\"dataframe\">\n",
              "  <thead>\n",
              "    <tr style=\"text-align: right;\">\n",
              "      <th></th>\n",
              "      <th></th>\n",
              "      <th>Feature 1</th>\n",
              "      <th>Feature 2</th>\n",
              "      <th>Feature 3</th>\n",
              "      <th>Feature 4</th>\n",
              "      <th>Feature 5</th>\n",
              "      <th>Feature 6</th>\n",
              "      <th>Feature 7</th>\n",
              "    </tr>\n",
              "    <tr>\n",
              "      <th>Patient</th>\n",
              "      <th>Visit</th>\n",
              "      <th></th>\n",
              "      <th></th>\n",
              "      <th></th>\n",
              "      <th></th>\n",
              "      <th></th>\n",
              "      <th></th>\n",
              "      <th></th>\n",
              "    </tr>\n",
              "  </thead>\n",
              "  <tbody>\n",
              "    <tr>\n",
              "      <th rowspan=\"4\" valign=\"top\">Patient 1</th>\n",
              "      <th>Visit 1</th>\n",
              "      <td>1.414233</td>\n",
              "      <td>1.206849</td>\n",
              "      <td>-0.013514</td>\n",
              "      <td>-2.646099</td>\n",
              "      <td>0.909851</td>\n",
              "      <td>0.210629</td>\n",
              "      <td>0.364885</td>\n",
              "    </tr>\n",
              "    <tr>\n",
              "      <th>Visit 2</th>\n",
              "      <td>1.432548</td>\n",
              "      <td>-1.412059</td>\n",
              "      <td>-0.210736</td>\n",
              "      <td>0.430105</td>\n",
              "      <td>-1.737816</td>\n",
              "      <td>0.117327</td>\n",
              "      <td>0.656583</td>\n",
              "    </tr>\n",
              "    <tr>\n",
              "      <th>Visit 3</th>\n",
              "      <td>-1.035589</td>\n",
              "      <td>0.667195</td>\n",
              "      <td>0.018555</td>\n",
              "      <td>0.152141</td>\n",
              "      <td>-0.645920</td>\n",
              "      <td>-0.865418</td>\n",
              "      <td>-1.054529</td>\n",
              "    </tr>\n",
              "    <tr>\n",
              "      <th>Visit 4</th>\n",
              "      <td>0.136789</td>\n",
              "      <td>-2.031230</td>\n",
              "      <td>1.156291</td>\n",
              "      <td>0.099535</td>\n",
              "      <td>-1.099053</td>\n",
              "      <td>1.225170</td>\n",
              "      <td>0.000267</td>\n",
              "    </tr>\n",
              "    <tr>\n",
              "      <th>Patient 2</th>\n",
              "      <th>Visit 1</th>\n",
              "      <td>2.103491</td>\n",
              "      <td>0.896090</td>\n",
              "      <td>-1.470052</td>\n",
              "      <td>-0.891333</td>\n",
              "      <td>-0.283230</td>\n",
              "      <td>-0.727043</td>\n",
              "      <td>-0.580906</td>\n",
              "    </tr>\n",
              "    <tr>\n",
              "      <th>...</th>\n",
              "      <th>...</th>\n",
              "      <td>...</td>\n",
              "      <td>...</td>\n",
              "      <td>...</td>\n",
              "      <td>...</td>\n",
              "      <td>...</td>\n",
              "      <td>...</td>\n",
              "      <td>...</td>\n",
              "    </tr>\n",
              "    <tr>\n",
              "      <th>Patient 49</th>\n",
              "      <th>Visit 4</th>\n",
              "      <td>-1.430616</td>\n",
              "      <td>0.011135</td>\n",
              "      <td>-0.539369</td>\n",
              "      <td>-1.475663</td>\n",
              "      <td>1.185008</td>\n",
              "      <td>1.531468</td>\n",
              "      <td>0.264129</td>\n",
              "    </tr>\n",
              "    <tr>\n",
              "      <th rowspan=\"4\" valign=\"top\">Patient 50</th>\n",
              "      <th>Visit 1</th>\n",
              "      <td>-0.208637</td>\n",
              "      <td>-0.127974</td>\n",
              "      <td>2.961510</td>\n",
              "      <td>-0.525828</td>\n",
              "      <td>-0.854884</td>\n",
              "      <td>-0.889356</td>\n",
              "      <td>0.160558</td>\n",
              "    </tr>\n",
              "    <tr>\n",
              "      <th>Visit 2</th>\n",
              "      <td>-1.009742</td>\n",
              "      <td>-0.777867</td>\n",
              "      <td>0.678883</td>\n",
              "      <td>-0.706866</td>\n",
              "      <td>1.414276</td>\n",
              "      <td>1.433321</td>\n",
              "      <td>0.915264</td>\n",
              "    </tr>\n",
              "    <tr>\n",
              "      <th>Visit 3</th>\n",
              "      <td>-1.077750</td>\n",
              "      <td>0.547783</td>\n",
              "      <td>-0.872210</td>\n",
              "      <td>0.185318</td>\n",
              "      <td>0.012206</td>\n",
              "      <td>-0.913671</td>\n",
              "      <td>-0.181098</td>\n",
              "    </tr>\n",
              "    <tr>\n",
              "      <th>Visit 4</th>\n",
              "      <td>-1.118015</td>\n",
              "      <td>-1.645561</td>\n",
              "      <td>-0.426507</td>\n",
              "      <td>0.418667</td>\n",
              "      <td>1.055558</td>\n",
              "      <td>-0.641026</td>\n",
              "      <td>1.008873</td>\n",
              "    </tr>\n",
              "  </tbody>\n",
              "</table>\n",
              "<p>200 rows × 7 columns</p>\n",
              "</div>"
            ],
            "text/plain": [
              "                    Feature 1  Feature 2  ...  Feature 6  Feature 7\n",
              "Patient    Visit                          ...                      \n",
              "Patient 1  Visit 1   1.414233   1.206849  ...   0.210629   0.364885\n",
              "           Visit 2   1.432548  -1.412059  ...   0.117327   0.656583\n",
              "           Visit 3  -1.035589   0.667195  ...  -0.865418  -1.054529\n",
              "           Visit 4   0.136789  -2.031230  ...   1.225170   0.000267\n",
              "Patient 2  Visit 1   2.103491   0.896090  ...  -0.727043  -0.580906\n",
              "...                       ...        ...  ...        ...        ...\n",
              "Patient 49 Visit 4  -1.430616   0.011135  ...   1.531468   0.264129\n",
              "Patient 50 Visit 1  -0.208637  -0.127974  ...  -0.889356   0.160558\n",
              "           Visit 2  -1.009742  -0.777867  ...   1.433321   0.915264\n",
              "           Visit 3  -1.077750   0.547783  ...  -0.913671  -0.181098\n",
              "           Visit 4  -1.118015  -1.645561  ...  -0.641026   1.008873\n",
              "\n",
              "[200 rows x 7 columns]"
            ]
          },
          "metadata": {
            "tags": []
          },
          "execution_count": 11
        }
      ]
    },
    {
      "cell_type": "markdown",
      "metadata": {
        "id": "aQfs1r3uwyc-",
        "colab_type": "text"
      },
      "source": [
        "It is important to split the data set at the patient level, that is all the visits of a given patient belong to one and only set. Why? Because in practice, you will not retrain your model everytime a patient has a new visit. You want your model to be able to generalize for new patients, not only for new visits of patients that were used when fitting the model."
      ]
    },
    {
      "cell_type": "markdown",
      "metadata": {
        "id": "1_bea74CU_i6",
        "colab_type": "text"
      },
      "source": [
        "## 2.6 Conclusion"
      ]
    },
    {
      "cell_type": "code",
      "metadata": {
        "id": "pn23q4sHgYUG",
        "colab_type": "code",
        "cellView": "form",
        "outputId": "48255502-9bcd-496c-e083-ee99070428f0",
        "colab": {
          "base_uri": "https://localhost:8080/",
          "height": 91
        }
      },
      "source": [
        "#@title\n",
        "%%html\n",
        "<div style='background-color:rgba(255,80,80,0.4); padding:20px'>\n",
        "    <b>Take-home message: You must always perform cross-validation at the patient (i.e. sample) level:\n",
        "      all the observations of a given patient must belong to one and only one set.</b>\n",
        "</div>"
      ],
      "execution_count": 0,
      "outputs": [
        {
          "output_type": "display_data",
          "data": {
            "text/html": [
              "<div style='background-color:rgba(255,80,80,0.4); padding:20px'>\n",
              "    <b>Take-home message: You must always perform cross-validation at the patient (i.e. sample) level:\n",
              "      all the observations of a given patient must belong to one and only one set.</b>\n",
              "</div>"
            ],
            "text/plain": [
              "<IPython.core.display.HTML object>"
            ]
          },
          "metadata": {
            "tags": []
          }
        }
      ]
    },
    {
      "cell_type": "markdown",
      "metadata": {
        "id": "Zqi8pZDVU_jG",
        "colab_type": "text"
      },
      "source": [
        "# 3. Interpretability"
      ]
    },
    {
      "cell_type": "markdown",
      "metadata": {
        "id": "HMS6zxqxXH0-",
        "colab_type": "text"
      },
      "source": [
        "**This section is not an exercise but rather a set of guidelines and pointers to ressources that we advise you to read at least once.**"
      ]
    },
    {
      "cell_type": "markdown",
      "metadata": {
        "id": "HWWiE1-CeFwy",
        "colab_type": "text"
      },
      "source": [
        "## 3.1 Machine learning"
      ]
    },
    {
      "cell_type": "markdown",
      "metadata": {
        "id": "dra5VWc6U_jH",
        "colab_type": "text"
      },
      "source": [
        "In many cases, especially medical applications, it is important to have an idea about what the model has learned. Depending on the type of the algorithm (generalized linear model, tree-based algorithm), you can have access to different information.\n",
        "\n",
        "**(a)** For generalized linear models (linear regression, logistic regression, SVM with a linear kernel, etc.), one can get the coefficients for each feature:\n",
        "$$ f(x) = f\\left( \\beta_0 + \\sum_{k=1}^K \\beta_k x^{(k)}  \\right) $$\n",
        "You can get them via the `intercept_` and `coef_` attributes of a fitted `scikit-learn` estimator.\n",
        "\n",
        "**(b)** For kernel methods (SVM, Kernel Ridge regression, etc.), one can get the coefficients for each sample in the training set:\n",
        "$$ f(x) = \\beta_0 + \\sum_{i=1}^n \\beta_i K(x, x_i) $$\n",
        "\n",
        "You can get them via the `intercept_` and `dual_coef_` attributes of a fitted `scikit-learn` estimator.\n",
        "\n",
        "**(c)** Tree-based estimators can compute [feature importance scores](https://scikit-learn.org/stable/modules/ensemble.html#feature-importance-evaluation) that represent how much each feature contributes to the predictions:\n",
        "\n",
        "> The relative rank (i.e. depth) of a feature used as a decision node in a tree can be used to assess the relative importance of that feature with respect to the predictability of the target variable. Features used at the top of the tree contribute to the final prediction decision of a larger fraction of the input samples. The expected fraction of the samples they contribute to can thus be used as an estimate of the relative importance of the features. In scikit-learn, the fraction of samples a feature contributes to is combined with the decrease in impurity from splitting them to create a normalized estimate of the predictive power of that feature."
      ]
    },
    {
      "cell_type": "code",
      "metadata": {
        "id": "50QUd4t7d0F8",
        "colab_type": "code",
        "cellView": "form",
        "outputId": "14e31242-4cfd-4a89-9807-c124187d68d0",
        "colab": {
          "base_uri": "https://localhost:8080/",
          "height": 74
        }
      },
      "source": [
        "#@title\n",
        "%%html\n",
        "<div style='background-color:rgba(255,80,80,0.4); padding:20px'>\n",
        "  <b>Important: The coefficients or feature importance scores depend on the entire dataset:\n",
        "    if you remove one feature or one sample, you may get different results.</b>\n",
        "</div>"
      ],
      "execution_count": 0,
      "outputs": [
        {
          "output_type": "display_data",
          "data": {
            "text/html": [
              "<div style='background-color:rgba(255,80,80,0.4); padding:20px'>\n",
              "  <b>Important: The coefficients or feature importance scores depend on the entire dataset:\n",
              "    if you remove one feature or one sample, you may get different results.</b>\n",
              "</div>"
            ],
            "text/plain": [
              "<IPython.core.display.HTML object>"
            ]
          },
          "metadata": {
            "tags": []
          }
        }
      ]
    },
    {
      "cell_type": "markdown",
      "metadata": {
        "id": "UPHJJQvOU_jH",
        "colab_type": "text"
      },
      "source": [
        "Section 4 of the user guide of `scikit-learn` provides interesting information regarding interpretability:\n",
        "* [4. Inspection](https://scikit-learn.org/stable/inspection.html)\n",
        "* [4.1. Partial dependence plots](https://scikit-learn.org/stable/modules/partial_dependence.html)\n",
        "* [4.2. Permutation feature importance](https://scikit-learn.org/stable/modules/permutation_importance.html)"
      ]
    },
    {
      "cell_type": "markdown",
      "metadata": {
        "id": "_TOX8wnweRvY",
        "colab_type": "text"
      },
      "source": [
        "## 3.2 Deep learning"
      ]
    },
    {
      "cell_type": "markdown",
      "metadata": {
        "id": "2GgULKNJgabv",
        "colab_type": "text"
      },
      "source": [
        "Many interpretability methods have been proposed to understand deep learning systems' decisions. You will find [here](https://github.com/utkuozbulak/pytorch-cnn-visualizations) some implementations in pytorch and sources. "
      ]
    },
    {
      "cell_type": "markdown",
      "metadata": {
        "id": "HCb9lySYe4Rq",
        "colab_type": "text"
      },
      "source": [
        "# 4. Optional: making your own functions/classes for cross-validation"
      ]
    },
    {
      "cell_type": "markdown",
      "metadata": {
        "id": "ApH9HCX9fJku",
        "colab_type": "text"
      },
      "source": [
        "In this lab, we used utilities from the `scikit-learn` package to perform cross-validation. Since *practice makes perfect*, it can be useful to implement some of them yourself as an exercice. In the following sections, you have to complete the functions to implement each algorithm, and some tests are provided to make sure that your implementation behaves as expected."
      ]
    },
    {
      "cell_type": "markdown",
      "metadata": {
        "id": "kVR3LHOnfSNY",
        "colab_type": "text"
      },
      "source": [
        "## 4.1 Shuffle split"
      ]
    },
    {
      "cell_type": "code",
      "metadata": {
        "id": "FUmZmGdvfKCi",
        "colab_type": "code",
        "colab": {}
      },
      "source": [
        "def shuffle_split(n_splits=10, n_samples=100, test_size=0.2, random_state=None):\n",
        "    \"\"\"Shuffle split cross-validation.\n",
        "    \n",
        "    Provides train/test indices to split data in training and test sets.\n",
        "    \n",
        "    Parameters\n",
        "    ----------\n",
        "    n_splits : int (default = 10)\n",
        "        Number of splits into training and test sets.\n",
        "\n",
        "    n_samples : int (default = 100)\n",
        "        Number of samples in the dataset.\n",
        "    \n",
        "    test_size : int (default = 0.2)\n",
        "        Proportion of the dataset to include in the test set. Must be between 0 and 1.\n",
        "    \n",
        "    random_state : None or int (default = None)\n",
        "        If int, random_state is the seed used by the random number generator.\n",
        "    \n",
        "    Returns\n",
        "    -------\n",
        "    splits : list of 2-tuple\n",
        "        Training and test indices for each split. The length of this list\n",
        "        must be equal to n_splits.\n",
        "\n",
        "    \"\"\"\n",
        "    # TODO"
      ],
      "execution_count": 0,
      "outputs": []
    },
    {
      "cell_type": "code",
      "metadata": {
        "id": "5eNA9cYUfQgo",
        "colab_type": "code",
        "colab": {}
      },
      "source": [
        "def test_shuffle_split():\n",
        "\n",
        "    # Parameters\n",
        "    n_splits = 15\n",
        "    n_samples = 200\n",
        "    test_size = 0.32\n",
        "    random_state = 42\n",
        "\n",
        "    splits = shuffle_split(n_splits, n_samples, test_size, random_state)\n",
        "\n",
        "    # Check the length of the list\n",
        "    assert len(splits) == n_splits\n",
        "\n",
        "    # For each split\n",
        "    for train_idx, test_idx in splits:\n",
        "\n",
        "        # Check the size of the training and test sets\n",
        "        assert train_idx.size == n_samples * (1 - test_size)\n",
        "        assert test_idx.size == n_samples * test_size\n",
        "\n",
        "        # Check that the intersection of both sets is empty\n",
        "        assert np.intersect1d(train_idx, test_idx).size == 0\n",
        "\n",
        "    # Check that calling a second time the function gives the same results\n",
        "    splits_new = shuffle_split(n_splits, n_samples, test_size, random_state)\n",
        "    for (train_idx, test_idx), (train_idx_new, test_idx_new) in zip(splits, splits_new):\n",
        "        np.testing.assert_array_equal(train_idx, train_idx_new)\n",
        "        np.testing.assert_array_equal(test_idx, test_idx_new)\n",
        "        \n",
        "        \n",
        "test_shuffle_split()"
      ],
      "execution_count": 0,
      "outputs": []
    },
    {
      "cell_type": "markdown",
      "metadata": {
        "id": "vxKEZpgkfNUz",
        "colab_type": "text"
      },
      "source": [
        "## 4.2 Stratified shuffle split"
      ]
    },
    {
      "cell_type": "code",
      "metadata": {
        "id": "vsffKw3pfNw_",
        "colab_type": "code",
        "colab": {}
      },
      "source": [
        "def stratified_shuffle_split(y, n_splits=10, test_size=0.2, random_state=None):\n",
        "    \"\"\"Stratified shuffle split cross-validation.\n",
        "    \n",
        "    Provides train/test indices to split data in training and test sets.\n",
        "    The distribution of the classes must be identical in the training\n",
        "    and test sets.\n",
        "    \n",
        "    Parameters\n",
        "    ----------\n",
        "    y : array, shape = (n_samples,)\n",
        "        Class labels.\n",
        "        \n",
        "    n_splits : int (default = 10)\n",
        "        Number of splits into training and test sets.\n",
        "    \n",
        "    test_size : int (default = 0.2)\n",
        "        Proportion of the dataset to include in the test set. Must be between 0 and 1.\n",
        "    \n",
        "    random_state : None or int (default = None)\n",
        "        If int, random_state is the seed used by the random number generator.\n",
        "    \n",
        "    Returns\n",
        "    -------\n",
        "    splits : list of 2-tuple\n",
        "        Training and test indices for each split. The length of this list\n",
        "        must be equal to n_splits.\n",
        "\n",
        "    \"\"\"\n",
        "    # TODO"
      ],
      "execution_count": 0,
      "outputs": []
    },
    {
      "cell_type": "code",
      "metadata": {
        "id": "xwM81IiWfUMK",
        "colab_type": "code",
        "colab": {}
      },
      "source": [
        "def test_stratified_shuffle_split():\n",
        "\n",
        "    # Parameters\n",
        "    y = np.asarray([0] * 50 + [1] * 50 + [2] * 50 + [3] * 50)\n",
        "    n_samples = y.size\n",
        "    n_splits = 15\n",
        "    test_size = 0.32\n",
        "    random_state = 42\n",
        "\n",
        "    splits = stratified_shuffle_split(y, n_splits, test_size, random_state)\n",
        "\n",
        "    # Check the length of the list\n",
        "    assert len(splits) == n_splits\n",
        "\n",
        "    # For each split\n",
        "    for train_idx, test_idx in splits:\n",
        "\n",
        "        # Check the size of the training and test sets\n",
        "        assert train_idx.size == n_samples * (1 - test_size)\n",
        "        assert test_idx.size == n_samples * test_size\n",
        "\n",
        "        # Check that the intersection of both sets is empty\n",
        "        assert np.intersect1d(train_idx, test_idx).size == 0\n",
        "        \n",
        "        # Check that all sets are stratified\n",
        "        _, freq = np.unique(y, return_counts=True)\n",
        "        _, freq_train = np.unique(y[train_idx], return_counts=True)\n",
        "        _, freq_test = np.unique(y[test_idx], return_counts=True)\n",
        "        np.testing.assert_allclose(freq_train / train_idx.size, freq_test / test_idx.size)\n",
        "        np.testing.assert_allclose(freq / y.size, freq_test / test_idx.size)\n",
        "\n",
        "    # Check that calling a second time the function gives the same results\n",
        "    splits_new = stratified_shuffle_split(y, n_splits, test_size, random_state)\n",
        "    for (train_idx, test_idx), (train_idx_new, test_idx_new) in zip(splits, splits_new):\n",
        "        np.testing.assert_array_equal(train_idx, train_idx_new)\n",
        "        np.testing.assert_array_equal(test_idx, test_idx_new)\n",
        "        \n",
        "        \n",
        "test_stratified_shuffle_split()"
      ],
      "execution_count": 0,
      "outputs": []
    },
    {
      "cell_type": "markdown",
      "metadata": {
        "id": "6jbo_n9cfOEV",
        "colab_type": "text"
      },
      "source": [
        "## 4.3 K-fold"
      ]
    },
    {
      "cell_type": "code",
      "metadata": {
        "id": "onlJpfTZfORw",
        "colab_type": "code",
        "colab": {}
      },
      "source": [
        "def kfold(n_folds=5, n_samples=100, shuffle=True, random_state=None):\n",
        "    \"\"\"K-fold cross-validation.\n",
        "    \n",
        "    Provides train/test indices to split data in training and test sets.\n",
        "    \n",
        "    Parameters\n",
        "    ----------\n",
        "    n_folds : int (default = 5)\n",
        "        Number of folds.\n",
        "    \n",
        "    n_samples : int (default = 100)\n",
        "        Number of samples in the dataset.\n",
        "    \n",
        "    shuffle : bool (default = True)\n",
        "        If True, the data set is shuffled before splitting it into k folds.\n",
        "    \n",
        "    random_state : None or int (default = None)\n",
        "        If int, random_state is the seed used by the random number generator.\n",
        "    \n",
        "    Returns\n",
        "    -------\n",
        "    splits : list of 2-tuple\n",
        "        Training and test indices for each split. The length of this list\n",
        "        must be equal to n_folds.\n",
        "\n",
        "    \"\"\"\n",
        "    # TODO"
      ],
      "execution_count": 0,
      "outputs": []
    },
    {
      "cell_type": "code",
      "metadata": {
        "id": "tCLkd2-LfUtK",
        "colab_type": "code",
        "colab": {}
      },
      "source": [
        "def test_kfold():\n",
        "\n",
        "    # Parameters\n",
        "    n_folds = 5\n",
        "    n_samples = 200\n",
        "    shuffle = True\n",
        "    random_state = 42\n",
        "\n",
        "    splits = kfold(n_folds, n_samples, shuffle, random_state)\n",
        "\n",
        "    # Check the length of the list\n",
        "    assert len(splits) == n_folds\n",
        "    \n",
        "    train_idx_all, test_idx_all = [], []\n",
        "\n",
        "    # For each split\n",
        "    for train_idx, test_idx in splits:\n",
        "        \n",
        "        train_idx_all.append(train_idx)\n",
        "        test_idx_all.append(test_idx)\n",
        "\n",
        "        # Check the size of the training and test sets\n",
        "        assert train_idx.size == n_samples * (1 - (1 / n_folds))\n",
        "        assert test_idx.size == n_samples / n_folds\n",
        "\n",
        "        # Check that the intersection of both sets is empty\n",
        "        assert np.intersect1d(train_idx, test_idx).size == 0\n",
        "    \n",
        "    # Check that each index is in the training set 4 times and in the test set 1 time\n",
        "    count_train = np.bincount(np.concatenate(train_idx_all))\n",
        "    count_test = np.bincount(np.concatenate(test_idx_all))\n",
        "    \n",
        "    np.testing.assert_array_equal(count_train, np.full(n_samples, n_folds - 1))\n",
        "    np.testing.assert_array_equal(count_test, np.ones(n_samples))\n",
        "\n",
        "    # Check that calling a second time the function gives the same results\n",
        "    splits_new = kfold(n_folds, n_samples, shuffle, random_state)\n",
        "    for (train_idx, test_idx), (train_idx_new, test_idx_new) in zip(splits, splits_new):\n",
        "        np.testing.assert_array_equal(train_idx, train_idx_new)\n",
        "        np.testing.assert_array_equal(test_idx, test_idx_new)\n",
        "        \n",
        "        \n",
        "test_kfold()"
      ],
      "execution_count": 0,
      "outputs": []
    },
    {
      "cell_type": "markdown",
      "metadata": {
        "id": "Fm0pifodfOfP",
        "colab_type": "text"
      },
      "source": [
        "## 4.4 Group K-fold"
      ]
    },
    {
      "cell_type": "code",
      "metadata": {
        "id": "Eo9InvXTfOqg",
        "colab_type": "code",
        "colab": {}
      },
      "source": [
        "def group_kfold(groups, n_folds=5, shuffle=True, random_state=None):\n",
        "    \"\"\"K-fold cross-validation.\n",
        "    \n",
        "    Provides train/test indices to split data in training and test sets.\n",
        "    \n",
        "    Parameters\n",
        "    ----------\n",
        "    groups : array, shape = (n_samples,)\n",
        "        Group each sample belongs to.\n",
        "    \n",
        "    n_folds : int (default = 5)\n",
        "        Number of folds.\n",
        "    \n",
        "    shuffle : bool (default = True)\n",
        "        If True, the data set is shuffled before splitting it into k folds.\n",
        "    \n",
        "    random_state : None or int (default = None)\n",
        "        If int, random_state is the seed used by the random number generator.\n",
        "    \n",
        "    Returns\n",
        "    -------\n",
        "    splits : list of 2-tuple\n",
        "        Training and test indices for each split. The length of this list\n",
        "        must be equal to n_folds.\n",
        "\n",
        "    \"\"\"\n",
        "    # TODO"
      ],
      "execution_count": 0,
      "outputs": []
    },
    {
      "cell_type": "code",
      "metadata": {
        "id": "qBIdAhQjfPW3",
        "colab_type": "code",
        "colab": {}
      },
      "source": [
        "def test_group_kfold():\n",
        "\n",
        "    # Parameters\n",
        "    groups = np.repeat(np.arange(20), 5)\n",
        "    n_samples = groups.size\n",
        "    n_folds = 5\n",
        "    shuffle = True\n",
        "    random_state = 42\n",
        "\n",
        "    splits = group_kfold(groups, n_folds, shuffle, random_state)\n",
        "\n",
        "    # Check the length of the list\n",
        "    assert len(splits) == n_folds\n",
        "    \n",
        "    train_idx_all, test_idx_all = [], []\n",
        "\n",
        "    # For each split\n",
        "    for train_idx, test_idx in splits:\n",
        "        \n",
        "        train_idx_all.append(train_idx)\n",
        "        test_idx_all.append(test_idx)\n",
        "\n",
        "        # Check the size of the training and test sets\n",
        "        assert train_idx.size == n_samples * (1 - (1 / n_folds))\n",
        "        assert test_idx.size == n_samples / n_folds\n",
        "\n",
        "        # Check that the intersection of both sets is empty\n",
        "        assert np.intersect1d(train_idx, test_idx).size == 0\n",
        "        \n",
        "        # Check that the inserction of both sets of groups is empty\n",
        "        assert np.intersect1d(groups[train_idx], groups[test_idx]).size == 0\n",
        "    \n",
        "    # Check that each index is in the training set 4 times and in the test set 1 time\n",
        "    count_train = np.bincount(np.concatenate(train_idx_all))\n",
        "    count_test = np.bincount(np.concatenate(test_idx_all))\n",
        "    \n",
        "    np.testing.assert_array_equal(count_train, np.full(n_samples, n_folds - 1))\n",
        "    np.testing.assert_array_equal(count_test, np.ones(n_samples))\n",
        "\n",
        "    # Check that calling a second time the function gives the same results\n",
        "    splits_new = group_kfold(groups, n_folds, shuffle, random_state)\n",
        "    for (train_idx, test_idx), (train_idx_new, test_idx_new) in zip(splits, splits_new):\n",
        "        np.testing.assert_array_equal(train_idx, train_idx_new)\n",
        "        np.testing.assert_array_equal(test_idx, test_idx_new)\n",
        "        \n",
        "        \n",
        "test_group_kfold()"
      ],
      "execution_count": 0,
      "outputs": []
    }
  ]
}