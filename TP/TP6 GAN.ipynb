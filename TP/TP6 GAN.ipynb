{
  "nbformat": 4,
  "nbformat_minor": 0,
  "metadata": {
    "colab": {
      "name": "TP - GAN (student version)",
      "provenance": [],
      "collapsed_sections": []
    },
    "kernelspec": {
      "name": "python3",
      "display_name": "Python 3"
    },
    "accelerator": "GPU"
  },
  "cells": [
    {
      "cell_type": "markdown",
      "metadata": {
        "id": "xkcfgo7mL_TW",
        "colab_type": "text"
      },
      "source": [
        "In this lab we will train a conditional generative adversarial network (cGAN) to synthesize **T2-w MRI** from **T1-w MRI**.\n",
        "\n",
        "The outline of this lab is:\n",
        "1. Create a cGAN with a given architecture for the generator and for the discriminator\n",
        "2. Train this cGAN on the [IXI dataset](https://brain-development.org/ixi-dataset/) to transform **T1-w MRI** into **T2-w MRI**.\n",
        "3. Evaluate the quality of the generated images using standard metrics.\n",
        "\n",
        "But first we will fetch the dataset and have a look at it to see what the tasks looks like."
      ]
    },
    {
      "cell_type": "markdown",
      "metadata": {
        "id": "ZUkSzEkH5WUK",
        "colab_type": "text"
      },
      "source": [
        "# 0. Fetching the dataset"
      ]
    },
    {
      "cell_type": "markdown",
      "metadata": {
        "id": "JePGT61J5cVV",
        "colab_type": "text"
      },
      "source": [
        "The dataset can be found on this [GitHub repository](https://github.com/Easternwen/IXI-dataset). In the `size64` folder, there are 1154 files: 2 images for 577 subjects. The size of each image is (64, 64).\n",
        "\n",
        "Let's clone the repository and have a look at the data."
      ]
    },
    {
      "cell_type": "code",
      "metadata": {
        "id": "KV3cmAW-3ULI",
        "colab_type": "code",
        "outputId": "e4755420-14bc-4747-eec5-8b8b5ec81ddb",
        "colab": {
          "base_uri": "https://localhost:8080/",
          "height": 34
        }
      },
      "source": [
        "# Get the dataset from the GitHub repository\n",
        "! git clone https://github.com/Easternwen/IXI-dataset.git"
      ],
      "execution_count": 0,
      "outputs": [
        {
          "output_type": "stream",
          "text": [
            "fatal: destination path 'IXI-dataset' already exists and is not an empty directory.\n"
          ],
          "name": "stdout"
        }
      ]
    },
    {
      "cell_type": "markdown",
      "metadata": {
        "id": "1_6dDqW570zt",
        "colab_type": "text"
      },
      "source": [
        "The dataset used in this lab is composed of preprocessed images from the [IXI dataset](https://brain-development.org/ixi-dataset/). Two different structural MRI modalities are comprised in this dataset:\n",
        "- T1 weighted images\n",
        "- T2 weighted images\n",
        "\n",
        "These modalities do not highlight the same tissues: for example the CSF voxels are cancelled in T1 weighted imaging whereas they are highlighted by the T2 weighted imaging."
      ]
    },
    {
      "cell_type": "code",
      "metadata": {
        "id": "BTWQREI29Rmt",
        "colab_type": "code",
        "outputId": "8e6c0133-668c-42a7-ab6a-a3df0d037219",
        "colab": {
          "base_uri": "https://localhost:8080/",
          "height": 281
        }
      },
      "source": [
        "import matplotlib.pyplot as plt\n",
        "import os\n",
        "import torch\n",
        "\n",
        "input_path = \"./IXI-dataset/size64/\"\n",
        "\n",
        "plt.figure(figsize=(12, 4))\n",
        "\n",
        "plt.subplot(1, 2, 1)\n",
        "plt.imshow(torch.load(os.path.join(input_path, 'sub-IXI002 - T1.pt')), cmap='gray', origin='lower')\n",
        "plt.title(\"T1 slice for subject 002\")\n",
        "\n",
        "plt.subplot(1, 2, 2)\n",
        "plt.imshow(torch.load(os.path.join(input_path, 'sub-IXI002 - T2.pt')), cmap='gray', origin='lower')\n",
        "plt.title(\"T2 slice for subject 002\");"
      ],
      "execution_count": 0,
      "outputs": [
        {
          "output_type": "display_data",
          "data": {
            "image/png": "[encoded data removed]",
            "text/plain": [
              "<Figure size 864x288 with 2 Axes>"
            ]
          },
          "metadata": {
            "tags": []
          }
        }
      ]
    },
    {
      "cell_type": "code",
      "metadata": {
        "id": "sisW1h7q3UWS",
        "colab_type": "code",
        "colab": {}
      },
      "source": [
        "from __future__ import print_function\n",
        "\n",
        "\n",
        "import torch\n",
        "from torch import nn\n",
        "from torch.utils.data import DataLoader\n",
        "import torch.nn.functional as F\n",
        "from torch.autograd import Variable\n",
        "\n",
        "import matplotlib.pyplot as plt\n",
        "import numpy as np\n",
        "\n",
        "import time\n",
        "from torchsummary import summary\n",
        "\n",
        "import datetime\n",
        "import sys\n",
        "from torchvision.utils import save_image"
      ],
      "execution_count": 0,
      "outputs": []
    },
    {
      "cell_type": "markdown",
      "metadata": {
        "id": "MBWLhf73MdRE",
        "colab_type": "text"
      },
      "source": [
        "Let's create a custom `MvaDataset` class to easily have access to the data.\n",
        "Here we don't use tsv files to split subjects between the training and the test set. We only set the dataset to the `train` or `test` mode to access training or test data."
      ]
    },
    {
      "cell_type": "code",
      "metadata": {
        "id": "aaVklVW83Ud5",
        "colab_type": "code",
        "colab": {}
      },
      "source": [
        "import os\n",
        "\n",
        "\n",
        "# Create the dataset\n",
        "\n",
        "class MvaDataset(torch.utils.data.Dataset):\n",
        "    \"\"\"Dataset utility class.\n",
        "\n",
        "    Parameters\n",
        "    ----------\n",
        "    root : str\n",
        "        Path of the folder with all the images.\n",
        "\n",
        "    mode : {'train' or 'test'} (default = 'train')\n",
        "        Part of the dataset that is loaded. Use 'train' to get the training set\n",
        "        and 'test' to get the test set.\n",
        "\n",
        "    \"\"\"\n",
        "    def __init__(self, root, mode=\"train\"): \n",
        "        \n",
        "        files = sorted(os.listdir(root)) \n",
        "        patient_id = list(set([i.split()[0] for i in files]))\n",
        "        \n",
        "        imgs = []\n",
        "        \n",
        "        if mode ==\"train\":   \n",
        "            for i in patient_id[:int(0.8*len(patient_id))]:\n",
        "                if os.path.isfile(os.path.join(root, i + \" - T1.pt\")) and os.path.isfile(os.path.join(root, i + \" - T2.pt\")):\n",
        "                    imgs.append((os.path.join(root, i + \" - T1.pt\"), os.path.join(root, i + \" - T2.pt\")))\n",
        "        \n",
        "        elif mode ==\"test\":\n",
        "            for i in patient_id[int(0.8*len(patient_id)):]:\n",
        "                if os.path.isfile(os.path.join(root, i + \" - T1.pt\")) and os.path.isfile(os.path.join(root, i + \" - T2.pt\")):\n",
        "                    imgs.append((os.path.join(root, i + \" - T1.pt\"), os.path.join(root, i + \" - T2.pt\")))            \n",
        "        \n",
        "        self.imgs = imgs\n",
        "        \n",
        "    def __getitem__(self, index):\n",
        "        t1_path, t2_path = self.imgs[index]\n",
        "        \n",
        "        t1 = torch.load(t1_path)[None, :, :]\n",
        "        t2 = torch.load(t2_path)[None, :, :]\n",
        "            \n",
        "        return {\"T1\": t1, \"T2\": t2}\n",
        "\n",
        "    def __len__(self):\n",
        "        return len(self.imgs)\n",
        "  "
      ],
      "execution_count": 0,
      "outputs": []
    },
    {
      "cell_type": "markdown",
      "metadata": {
        "id": "o4_sbeIaNqKt",
        "colab_type": "text"
      },
      "source": [
        "Using this class and the `DataLoader` class from `torch.utils.data`, you can easily have access to your dataset. Here is a quick\n",
        "example on how to use it:\n",
        "\n",
        "```python\n",
        "from torch.utils.data import DataLoader\n",
        "\n",
        "root = \"./IXI-dataset/size64/\"\n",
        "\n",
        "# Create a DataLoader instance for the training set\n",
        "# You will get a batch of samples from the training set\n",
        "dataloader = DataLoader(\n",
        "    MvaDataset(root, mode=\"train\"),\n",
        "    batch_size=batch,\n",
        "    shuffle=False,\n",
        ")\n",
        "\n",
        "for batch in dataloader:\n",
        "    # batch is a dictionary with two keys:\n",
        "    # - batch[\"T1\"] is a tensor with shape (batch_size, 64, 64) with the T1 images for the samples in this batch\n",
        "    # - batch[\"T2\"] is a tensor with shape (batch_size, 64, 64) with the T2 images for the samples in this batch\n",
        "```"
      ]
    },
    {
      "cell_type": "markdown",
      "metadata": {
        "id": "2NcOMlo-PUIV",
        "colab_type": "text"
      },
      "source": [
        "# 1. Creating your conditional GAN"
      ]
    },
    {
      "cell_type": "markdown",
      "metadata": {
        "id": "tzlKxGBHsNCD",
        "colab_type": "text"
      },
      "source": [
        "## 1.1 Generator = U-Net"
      ]
    },
    {
      "cell_type": "markdown",
      "metadata": {
        "id": "Z8gzaU6bwNjy",
        "colab_type": "text"
      },
      "source": [
        "For the generator we will use a U-Net where:\n",
        "* the descending blocks are convolutional layers followed by instance normalization with a LeakyReLU activation function;\n",
        "* the ascending blocks are transposed convolutional layers followed by instance normalization with a ReLU activation function.\n",
        "\n",
        "The parameters for each layer are given in the picture below."
      ]
    },
    {
      "cell_type": "markdown",
      "metadata": {
        "id": "61PLJm6YsMTL",
        "colab_type": "text"
      },
      "source": [
        "<a href=\"https://ibb.co/QXBDNy3\"><img src=\"https://i.ibb.co/g614TkL/Capture-d-cran-2020-03-02-16-04-06.png\" width=\"800\" alt=\"Capture-d-cran-2020-03-02-16-04-06\" border=\"0\"></a>"
      ]
    },
    {
      "cell_type": "code",
      "metadata": {
        "id": "7WHqr8UtDgUM",
        "colab_type": "code",
        "cellView": "form",
        "outputId": "671b1c0e-48b3-4f56-bd4b-8239139b945f",
        "colab": {
          "base_uri": "https://localhost:8080/",
          "height": 74
        }
      },
      "source": [
        "#@title\n",
        "%%html\n",
        "<div style='background-color:rgba(80,255,80,0.4); padding:20px'>\n",
        "  <b>Exercise</b>: Create a <code>GeneratorUNet</code> class to define the generator\n",
        "  with the architecture given above.\n",
        "</div>"
      ],
      "execution_count": 0,
      "outputs": [
        {
          "output_type": "display_data",
          "data": {
            "text/html": [
              "<div style='background-color:rgba(80,255,80,0.4); padding:20px'>\n",
              "  <b>Exercise</b>: Create a <code>GeneratorUNet</code> class to define the generator\n",
              "  with the architecture given above.\n",
              "</div>"
            ],
            "text/plain": [
              "<IPython.core.display.HTML object>"
            ]
          },
          "metadata": {
            "tags": []
          }
        }
      ]
    },
    {
      "cell_type": "code",
      "metadata": {
        "id": "b4hrPEusz6zU",
        "colab_type": "code",
        "colab": {}
      },
      "source": [
        "# Below are modules implemented to define the generator more easily. Feel free to use them or not !\n",
        "\n",
        "class UNetDown(nn.Module):\n",
        "    def __init__(self, in_size, out_size):\n",
        "        super(UNetDown, self).__init__()\n",
        "        self.model = nn.Sequential(\n",
        "            nn.Conv2d(in_size, out_size, kernel_size=3, stride=2, padding=1),\n",
        "            nn.InstanceNorm2d(out_size),\n",
        "            nn.LeakyReLU(0.2)\n",
        "          )\n",
        "\n",
        "    def forward(self, x):\n",
        "        return self.model(x)\n",
        "\n",
        "\n",
        "class UNetUp(nn.Module):\n",
        "    def __init__(self, in_size, out_size):\n",
        "        super(UNetUp, self).__init__()\n",
        "        self.model = nn.Sequential(\n",
        "            nn.ConvTranspose2d(in_size, out_size, kernel_size=4, stride=2, padding=1),\n",
        "            nn.InstanceNorm2d(out_size),\n",
        "            nn.ReLU(inplace=True)\n",
        "        )\n",
        "        \n",
        "    def forward(self, x, skip_input=None):\n",
        "        if skip_input is not None:\n",
        "            x = torch.cat((x, skip_input), 1) # add the skip connection\n",
        "        x = self.model(x)\n",
        "        return x\n",
        "\n",
        "class FinalLayer(nn.Module):\n",
        "    def __init__(self, in_size, out_size):\n",
        "        super(FinalLayer, self).__init__()\n",
        "        self.model = nn.Sequential(\n",
        "            nn.Upsample(scale_factor=2),\n",
        "            nn.Conv2d(in_size, out_size, kernel_size=3, padding=1),\n",
        "            nn.Tanh(),\n",
        "        )\n",
        "        \n",
        "    def forward(self, x, skip_input=None):\n",
        "        if skip_input is not None:\n",
        "            x = torch.cat((x, skip_input), 1) # add the skip connection\n",
        "        x = self.model(x)\n",
        "        return x"
      ],
      "execution_count": 0,
      "outputs": []
    },
    {
      "cell_type": "code",
      "metadata": {
        "id": "qxiIA4ab4iR5",
        "colab_type": "code",
        "colab": {}
      },
      "source": [
        "##############################\n",
        "#      Generator U-NET\n",
        "##############################\n",
        "\n",
        "class GeneratorUNet(nn.Module):\n",
        "    def __init__(self):\n",
        "        super(GeneratorUNet, self).__init__()\n",
        "        # TODO\n",
        "        self.d5 = UNetDown(1, 64)\n",
        "        self.d4 = UNetDown(64, 128)\n",
        "        self.d3 = UNetDown(128, 256)\n",
        "        self.d2 = UNetDown(256, 512)\n",
        "        self.d1 = UNetDown(512, 512)\n",
        "\n",
        "        self.u1 = UNetUp(512, 512)\n",
        "        self.u2 = UNetUp(1024, 256)\n",
        "        self.u3 = UNetUp(512, 128)\n",
        "        self.u4 = UNetUp(256, 64)\n",
        "\n",
        "        self.final = FinalLayer(128, 1)\n",
        "\n",
        "    def forward(self, x):\n",
        "        # TODO\n",
        "        d5 = self.d5(x)\n",
        "        d4 = self.d4(d5)\n",
        "        d3 = self.d3(d4)\n",
        "        d2 = self.d2(d3)\n",
        "        d1 = self.d1(d2)\n",
        "\n",
        "        u1 = self.u1(d1)\n",
        "        u2 = self.u2(u1, d2)\n",
        "        u3 = self.u3(u2, d3)\n",
        "        u4 = self.u4(u3, d4)\n",
        "\n",
        "        final = self.final(u4, d5)\n",
        "\n",
        "        return final"
      ],
      "execution_count": 0,
      "outputs": []
    },
    {
      "cell_type": "code",
      "metadata": {
        "id": "vqis-YL30eef",
        "colab_type": "code",
        "outputId": "07ebdc54-ca65-444f-dc44-eb5d52d61f32",
        "colab": {
          "base_uri": "https://localhost:8080/",
          "height": 918
        }
      },
      "source": [
        "# Summary of the generator \n",
        "G = GeneratorUNet().cuda()\n",
        "summary(G, (1, 64, 64) )"
      ],
      "execution_count": 0,
      "outputs": [
        {
          "output_type": "stream",
          "text": [
            "----------------------------------------------------------------\n",
            "        Layer (type)               Output Shape         Param #\n",
            "================================================================\n",
            "            Conv2d-1           [-1, 64, 32, 32]             640\n",
            "    InstanceNorm2d-2           [-1, 64, 32, 32]               0\n",
            "         LeakyReLU-3           [-1, 64, 32, 32]               0\n",
            "          UNetDown-4           [-1, 64, 32, 32]               0\n",
            "            Conv2d-5          [-1, 128, 16, 16]          73,856\n",
            "    InstanceNorm2d-6          [-1, 128, 16, 16]               0\n",
            "         LeakyReLU-7          [-1, 128, 16, 16]               0\n",
            "          UNetDown-8          [-1, 128, 16, 16]               0\n",
            "            Conv2d-9            [-1, 256, 8, 8]         295,168\n",
            "   InstanceNorm2d-10            [-1, 256, 8, 8]               0\n",
            "        LeakyReLU-11            [-1, 256, 8, 8]               0\n",
            "         UNetDown-12            [-1, 256, 8, 8]               0\n",
            "           Conv2d-13            [-1, 512, 4, 4]       1,180,160\n",
            "   InstanceNorm2d-14            [-1, 512, 4, 4]               0\n",
            "        LeakyReLU-15            [-1, 512, 4, 4]               0\n",
            "         UNetDown-16            [-1, 512, 4, 4]               0\n",
            "           Conv2d-17            [-1, 512, 2, 2]       2,359,808\n",
            "   InstanceNorm2d-18            [-1, 512, 2, 2]               0\n",
            "        LeakyReLU-19            [-1, 512, 2, 2]               0\n",
            "         UNetDown-20            [-1, 512, 2, 2]               0\n",
            "  ConvTranspose2d-21            [-1, 512, 4, 4]       4,194,816\n",
            "   InstanceNorm2d-22            [-1, 512, 4, 4]               0\n",
            "             ReLU-23            [-1, 512, 4, 4]               0\n",
            "           UNetUp-24            [-1, 512, 4, 4]               0\n",
            "  ConvTranspose2d-25            [-1, 256, 8, 8]       4,194,560\n",
            "   InstanceNorm2d-26            [-1, 256, 8, 8]               0\n",
            "             ReLU-27            [-1, 256, 8, 8]               0\n",
            "           UNetUp-28            [-1, 256, 8, 8]               0\n",
            "  ConvTranspose2d-29          [-1, 128, 16, 16]       1,048,704\n",
            "   InstanceNorm2d-30          [-1, 128, 16, 16]               0\n",
            "             ReLU-31          [-1, 128, 16, 16]               0\n",
            "           UNetUp-32          [-1, 128, 16, 16]               0\n",
            "  ConvTranspose2d-33           [-1, 64, 32, 32]         262,208\n",
            "   InstanceNorm2d-34           [-1, 64, 32, 32]               0\n",
            "             ReLU-35           [-1, 64, 32, 32]               0\n",
            "           UNetUp-36           [-1, 64, 32, 32]               0\n",
            "         Upsample-37          [-1, 128, 64, 64]               0\n",
            "           Conv2d-38            [-1, 1, 64, 64]           1,153\n",
            "             Tanh-39            [-1, 1, 64, 64]               0\n",
            "       FinalLayer-40            [-1, 1, 64, 64]               0\n",
            "================================================================\n",
            "Total params: 13,611,073\n",
            "Trainable params: 13,611,073\n",
            "Non-trainable params: 0\n",
            "----------------------------------------------------------------\n",
            "Input size (MB): 0.02\n",
            "Forward/backward pass size (MB): 11.66\n",
            "Params size (MB): 51.92\n",
            "Estimated Total Size (MB): 63.59\n",
            "----------------------------------------------------------------\n"
          ],
          "name": "stdout"
        }
      ]
    },
    {
      "cell_type": "markdown",
      "metadata": {
        "id": "bU5ENsZntx9r",
        "colab_type": "text"
      },
      "source": [
        "## 1.2 Discriminator = 2D-CNN\n",
        "\n",
        "For the discriminator we will use a two-dimensional convolutional neural network with 5 layers:\n",
        "* the first 4 layers are 2D-convolutional layers with a LeakyReLU activation function.\n",
        "* the last layer is a 2D-convolutional layer.\n",
        "\n",
        "The parameters for each layer are given in the figure below. Don't forget that the input of the discriminator will be the generated image and the true image since we are using a conditional GAN. Therefore, the number of input channels for the first layer will be two (one for each image)."
      ]
    },
    {
      "cell_type": "markdown",
      "metadata": {
        "id": "OFaEREph42Ud",
        "colab_type": "text"
      },
      "source": [
        "<a href=\"https://ibb.co/9b2jF0V\"><img src=\"https://i.ibb.co/hBHvPNZ/Capture-d-cran-2020-03-02-16-04-14.png\" width=\"800\" alt=\"Capture-d-cran-2020-03-02-16-04-14\" border=\"0\"></a>"
      ]
    },
    {
      "cell_type": "code",
      "metadata": {
        "id": "i7UADZ7TC5qC",
        "colab_type": "code",
        "cellView": "form",
        "outputId": "287755fc-1d17-46ae-cac4-5fa6c9191ac3",
        "colab": {
          "base_uri": "https://localhost:8080/",
          "height": 74
        }
      },
      "source": [
        "#@title\n",
        "%%html\n",
        "<div style='background-color:rgba(80,255,80,0.4); padding:20px'>\n",
        "  <b>Exercise</b>: Create a <code>Discriminator</code> class to define the discriminator\n",
        "  with the architecture given above.\n",
        "</div>"
      ],
      "execution_count": 0,
      "outputs": [
        {
          "output_type": "display_data",
          "data": {
            "text/html": [
              "<div style='background-color:rgba(80,255,80,0.4); padding:20px'>\n",
              "  <b>Exercise</b>: Create a <code>Discriminator</code> class to define the discriminator\n",
              "  with the architecture given above.\n",
              "</div>"
            ],
            "text/plain": [
              "<IPython.core.display.HTML object>"
            ]
          },
          "metadata": {
            "tags": []
          }
        }
      ]
    },
    {
      "cell_type": "code",
      "metadata": {
        "id": "RAB91T9M4kd4",
        "colab_type": "code",
        "colab": {}
      },
      "source": [
        "# Define the blocks used for the discriminator \n",
        "\n",
        "def discriminator_block(in_filters, out_filters, normalization=False):\n",
        "    \"\"\"Returns downsampling layers of each discriminator block\"\"\"\n",
        "    layers = [nn.Conv2d(in_filters, out_filters, 3, stride=2, padding=1)]\n",
        "    if normalization:\n",
        "        layers.append(nn.InstanceNorm2d(out_filters))\n",
        "    layers.append(nn.LeakyReLU(0.2, inplace=True))\n",
        "    return layers\n",
        "\n",
        "#############################\n",
        "#        Discriminator\n",
        "##############################\n",
        "\n",
        "class Discriminator(nn.Module):\n",
        "    def __init__(self):\n",
        "        super(Discriminator, self).__init__()\n",
        "        # TODO\n",
        "        layers = []\n",
        "        layers.extend(discriminator_block(2, 64))\n",
        "        layers.extend(discriminator_block(64, 128))\n",
        "        layers.extend(discriminator_block(128, 256))\n",
        "        layers.extend(discriminator_block(256, 512))\n",
        "        layers.append(nn.Conv2d(512, 1, 4, padding=0))\n",
        "        self.model = nn.Sequential(*layers)\n",
        "\n",
        "    def forward(self, T1_img, T2_img):\n",
        "        # TODO\n",
        "        img_input = torch.cat((T1_img, T2_img), 1)\n",
        "        return self.model(img_input)"
      ],
      "execution_count": 0,
      "outputs": []
    },
    {
      "cell_type": "code",
      "metadata": {
        "id": "99IcSN3H4nDw",
        "colab_type": "code",
        "outputId": "1e410849-bb9a-438b-e9cf-5997db6c4d4b",
        "colab": {
          "base_uri": "https://localhost:8080/",
          "height": 391
        }
      },
      "source": [
        "# Summary of the discriminator \n",
        "D = Discriminator().cuda()\n",
        "summary(D, [(1, 64, 64), (1, 64, 64)])"
      ],
      "execution_count": 0,
      "outputs": [
        {
          "output_type": "stream",
          "text": [
            "----------------------------------------------------------------\n",
            "        Layer (type)               Output Shape         Param #\n",
            "================================================================\n",
            "            Conv2d-1           [-1, 64, 32, 32]           1,216\n",
            "         LeakyReLU-2           [-1, 64, 32, 32]               0\n",
            "            Conv2d-3          [-1, 128, 16, 16]          73,856\n",
            "         LeakyReLU-4          [-1, 128, 16, 16]               0\n",
            "            Conv2d-5            [-1, 256, 8, 8]         295,168\n",
            "         LeakyReLU-6            [-1, 256, 8, 8]               0\n",
            "            Conv2d-7            [-1, 512, 4, 4]       1,180,160\n",
            "         LeakyReLU-8            [-1, 512, 4, 4]               0\n",
            "            Conv2d-9              [-1, 1, 1, 1]           8,193\n",
            "================================================================\n",
            "Total params: 1,558,593\n",
            "Trainable params: 1,558,593\n",
            "Non-trainable params: 0\n",
            "----------------------------------------------------------------\n",
            "Input size (MB): 64.00\n",
            "Forward/backward pass size (MB): 1.88\n",
            "Params size (MB): 5.95\n",
            "Estimated Total Size (MB): 71.82\n",
            "----------------------------------------------------------------\n"
          ],
          "name": "stdout"
        }
      ]
    },
    {
      "cell_type": "markdown",
      "metadata": {
        "id": "ae7iv26v5ngy",
        "colab_type": "text"
      },
      "source": [
        "# 2. Training our conditional GAN\n",
        "\n",
        "Now that we have created our generator and our discriminator, we have to train them on the dataset.\n",
        "\n",
        "**Notations**\n",
        "\n",
        "* $X_{T1}$: true T1 image;\n",
        "* $X_{T2}$: true T2 image;\n",
        "* $\\tilde{X}_{T2}$: generated T2 image from $X_{T1}$;\n",
        "* $\\hat{y}_{X}$: probability returned by the discriminator that the ${X}_{T2}$ is real;\n",
        "* $\\hat{y}_{\\tilde{X}}$: probability returned by the discriminator that the $\\tilde{X}_{T2}$ is real.\n",
        "\n",
        "**Training the generator**\n",
        "\n",
        "The loss for the generator is the sum of:\n",
        "* the binary cross-entropy loss between the predicted probabilities of the generated images and positive labels,\n",
        "* the pixel-wise mean absolute error between the generated image and the true image.\n",
        "\n",
        "For one sample, it is then:\n",
        "$$\n",
        "\\ell_G = - \\log(\\hat{y}_{\\tilde{X}}) + \\lambda * \\text{MAE}(X_{T2}, \\tilde{X}_{T2})\n",
        "$$\n",
        "\n",
        "**Training the discriminator**\n",
        "\n",
        "The loss for the generator is the mean of:\n",
        "* the binary cross-entropy loss between the predicted probabilities of the generated images and negative labels,\n",
        "* the binary cross-entropy loss between the predicted probabilities of the true images and positive labels.\n",
        "\n",
        "For one sample, it is then:\n",
        "$$\n",
        "\\ell_D = - 0.5 * \\log(\\hat{y}_{X}) - 0.5 * \\log(1 - \\hat{y}_{\\tilde{X}})\n",
        "$$\n",
        "\n",
        "**Training phase**\n",
        "\n",
        "The generator and the discriminator are trained simultaneously, which makes the training phase look like this:\n",
        "\n",
        "```\n",
        "# For each epoch\n",
        "\n",
        "    # For each batch\n",
        "\n",
        "        # Generate fake images for all the images in this batch\n",
        "\n",
        "        # Compute the loss for the generator and perform one optimization step\n",
        "\n",
        "        # Compute the loss for the discriminator and perform one optimization step\n",
        "```"
      ]
    },
    {
      "cell_type": "code",
      "metadata": {
        "id": "SmezSS4UCXoL",
        "colab_type": "code",
        "cellView": "form",
        "outputId": "9597f4cb-25b6-4ceb-c919-632833f769f8",
        "colab": {
          "base_uri": "https://localhost:8080/",
          "height": 74
        }
      },
      "source": [
        "#@title\n",
        "%%html\n",
        "<div style='background-color:rgba(80,255,80,0.4); padding:20px'>\n",
        "  <b>Exercise</b>: We provide below a template to train our conditional GAN\n",
        "  on the dataset. Fill in the missing parts and look at the generated images.\n",
        "</div>"
      ],
      "execution_count": 0,
      "outputs": [
        {
          "output_type": "display_data",
          "data": {
            "text/html": [
              "<div style='background-color:rgba(80,255,80,0.4); padding:20px'>\n",
              "  <b>Exercise</b>: We provide below a template to train our conditional GAN\n",
              "  on the dataset. Fill in the missing parts and look at the generated images.\n",
              "</div>"
            ],
            "text/plain": [
              "<IPython.core.display.HTML object>"
            ]
          },
          "metadata": {
            "tags": []
          }
        }
      ]
    },
    {
      "cell_type": "code",
      "metadata": {
        "id": "jQLCXcWT4pPD",
        "colab_type": "code",
        "colab": {}
      },
      "source": [
        "def train(train_loader, test_loader, num_epoch=500,\n",
        "          lr=0.0001, beta1=0.9, beta2=0.999):\n",
        "    \"\"\"\n",
        "    Method used to train a generator in an adversarial framework.\n",
        "    \n",
        "    Args:\n",
        "        train_loader: (DataLoader) a DataLoader wrapping a the training dataset\n",
        "        test_loader: (DataLoader) a DataLoader wrapping a the training dataset\n",
        "        num_epoch: (int) number of epochs performed during training\n",
        "        lr: (float) learning rate of the discriminator and generator Adam optimizers\n",
        "        beta1: (float) beta1 coefficient of the discriminator and generator Adam optimizers\n",
        "        beta2: (float) beta1 coefficient of the discriminator and generator Adam optimizers\n",
        "\n",
        "    Returns:\n",
        "        generator: (nn.Module) the trained generator\n",
        "    \"\"\"\n",
        "\n",
        "    cuda = True if torch.cuda.is_available() else False\n",
        "    print(\"cuda %s\"%(cuda))  # check if GPU is used \n",
        "\n",
        "    # Tensor type (put everything on GPU if possible)\n",
        "    Tensor = torch.cuda.FloatTensor if cuda else torch.FloatTensor \n",
        "\n",
        "    # Output folder \n",
        "    if not os.path.exists(\"./images\"):\n",
        "        os.makedirs(\"./images\")\n",
        "     \n",
        "    # Loss functions\n",
        "    criterion_GAN = torch.nn.BCEWithLogitsLoss() # A loss adapted to binary classification like torch.nn.BCEWithLogitsLoss\n",
        "    criterion_pixelwise = torch.nn.L1Loss() # A loss for a voxel-wise comparison of images like torch.nn.L1Loss\n",
        "\n",
        "    lambda_GAN  = 1 # Weights criterion_GAN in the generator loss\n",
        "    lambda_pixel = 0 # Weights criterion_pixelwise in the generator loss\n",
        "\n",
        "    # Initialize generator and discriminator\n",
        "    generator = GeneratorUNet()\n",
        "    discriminator = Discriminator()\n",
        "\n",
        "    if cuda:\n",
        "        generator = generator.cuda()\n",
        "        discriminator = discriminator.cuda()\n",
        "        criterion_GAN.cuda()\n",
        "        criterion_pixelwise.cuda()\n",
        "\n",
        "    # Optimizers\n",
        "    optimizer_G = torch.optim.Adam(generator.parameters(), lr=lr, betas=(beta1, beta2))\n",
        "    optimizer_D = torch.optim.Adam(discriminator.parameters(), lr=lr, betas=(beta1, beta2))  \n",
        "     \n",
        "    def sample_images(epoch):\n",
        "        \"\"\"Saves a generated sample from the validation set\"\"\"\n",
        "        imgs = next(iter(test_loader))\n",
        "        real_A = Variable(imgs[\"T1\"].type(Tensor))\n",
        "        real_B = Variable(imgs[\"T2\"].type(Tensor))\n",
        "        fake_B = generator(real_A)\n",
        "        img_sample = torch.cat((real_A.data, fake_B.data, real_B.data), -2)\n",
        "        save_image(img_sample, \"./images/epoch-%s.png\" % epoch, nrow=5, normalize=True)\n",
        "        \n",
        "    # ----------\n",
        "    #  Training\n",
        "    # ----------\n",
        "\n",
        "    prev_time = time.time()\n",
        "    \n",
        "    for epoch in range(num_epoch):\n",
        "        for i, batch in enumerate(train_loader):\n",
        "\n",
        "            # Inputs T1-w and T2-w\n",
        "            real_A = Variable(batch[\"T1\"].type(Tensor))\n",
        "            real_B = Variable(batch[\"T2\"].type(Tensor))\n",
        "            \n",
        "            # Create labels\n",
        "            valid = Variable(Tensor(np.ones((real_B.size(0), 1, 1, 1))), requires_grad=False)\n",
        "            fake = Variable(Tensor(np.zeros((real_B.size(0), 1, 1, 1))), requires_grad=False)\n",
        "            \n",
        "            # ------------------\n",
        "            #  Train Generators\n",
        "            # ------------------\n",
        "            optimizer_G.zero_grad()\n",
        "\n",
        "            # GAN loss\n",
        "            fake_B = generator(real_A)\n",
        "            pred_fake = discriminator(fake_B, real_A)\n",
        "            loss_GAN = criterion_GAN(pred_fake, valid)\n",
        "            loss_pixel = criterion_pixelwise(fake_B, real_B)\n",
        "\n",
        "            # Total loss\n",
        "            loss_G = lambda_GAN * loss_GAN + lambda_pixel * loss_pixel\n",
        "\n",
        "            loss_G.backward()\n",
        "            optimizer_G.step()\n",
        "                            \n",
        "                            \n",
        "            # ---------------------\n",
        "            #  Train Discriminator\n",
        "            # ---------------------\n",
        "\n",
        "            optimizer_D.zero_grad()\n",
        "\n",
        "            # Real loss\n",
        "            pred_real = discriminator(real_B, real_A)\n",
        "            loss_real = criterion_GAN(pred_real, valid) # loss on real inputs\n",
        "\n",
        "            # Fake loss\n",
        "            pred_fake = discriminator(fake_B.detach(), real_A)\n",
        "            loss_fake = criterion_GAN(pred_fake, fake) # loss on generated inputs\n",
        "\n",
        "            # Total loss\n",
        "            loss_D = 0.5 * (loss_real + loss_fake)\n",
        "\n",
        "            loss_D.backward()\n",
        "            optimizer_D.step()\n",
        "                            \n",
        "            # --------------\n",
        "            #  Log Progress\n",
        "            # --------------\n",
        "\n",
        "            # Determine approximate time left\n",
        "            batches_done = epoch * len(train_loader) + i\n",
        "            batches_left = num_epoch * len(train_loader) - batches_done\n",
        "            time_left = datetime.timedelta(seconds=batches_left * (time.time() - prev_time))\n",
        "            prev_time = time.time()\n",
        "                            \n",
        "            # Print log\n",
        "            sys.stdout.write(\n",
        "                \"\\r[Epoch %d/%d] [Batch %d/%d] [D loss: %f] [G loss: %f, pixel: %f, adv: %f] ETA: %s\"\n",
        "                % (\n",
        "                    epoch,\n",
        "                    num_epoch,\n",
        "                    i,\n",
        "                    len(train_loader),\n",
        "                    loss_D.item(),\n",
        "                    loss_G.item(),\n",
        "                    loss_pixel.item(),\n",
        "                    loss_GAN.item(),\n",
        "                    time_left,\n",
        "                )\n",
        "            )            \n",
        "                            \n",
        "        # Save images at the end of each epoch\n",
        "        sample_images(epoch)\n",
        "\n",
        "    return generator"
      ],
      "execution_count": 0,
      "outputs": []
    },
    {
      "cell_type": "code",
      "metadata": {
        "id": "uv48odyq4tUA",
        "colab_type": "code",
        "outputId": "2f16e86a-c8be-4cfc-b61b-ec833067a58a",
        "colab": {
          "base_uri": "https://localhost:8080/",
          "height": 51
        }
      },
      "source": [
        "root = \"./IXI-dataset/size64/\"\n",
        "\n",
        "# Parameters for Adam optimizer\n",
        "lr = 0.0002\n",
        "beta1 = 0.5\n",
        "beta2 = 0.999\n",
        "\n",
        "# Create dataloaders\n",
        "batch_size = 40\n",
        "train_loader = DataLoader(MvaDataset(root, mode=\"train\"),\n",
        "                          batch_size=batch_size,\n",
        "\t\t\t\t\t\t\t\t\t\t\t\t\tshuffle=True,\n",
        "\t\t\t\t\t\t\t\t\t\t\t\t\t)\n",
        "\n",
        "test_loader = DataLoader(MvaDataset(root, mode=\"test\"),\n",
        "                         batch_size=5,\n",
        "\t\t\t\t\t\t\t\t\t\t\t\t shuffle=False,\n",
        "\t\t\t\t\t\t\t\t\t\t\t\t )\n",
        "\n",
        "num_epoch = 20\n",
        "\n",
        "generator = train(train_loader, test_loader, num_epoch=num_epoch, lr=lr, beta1=beta1, beta2=beta2)"
      ],
      "execution_count": 0,
      "outputs": [
        {
          "output_type": "stream",
          "text": [
            "cuda True\n",
            "[Epoch 19/20] [Batch 11/12] [D loss: 0.694072] [G loss: 0.692156, pixel: 0.086291, adv: 0.692156] ETA: 0:00:00.127055"
          ],
          "name": "stdout"
        }
      ]
    },
    {
      "cell_type": "code",
      "metadata": {
        "id": "W4l8dClo5A49",
        "colab_type": "code",
        "outputId": "38c7e7c2-a528-4e38-de20-68150f855079",
        "colab": {
          "base_uri": "https://localhost:8080/",
          "height": 1000
        }
      },
      "source": [
        "import matplotlib.pyplot as plt \n",
        "import matplotlib.image as img \n",
        "\n",
        "plt.figure(figsize=(20,20))\n",
        "# reading png image file \n",
        "im = img.imread('./images/epoch-%s.png' % (num_epoch - 1))\n",
        "plt.imshow(np.swapaxes(im,0,1))\n",
        "plt.gca().invert_yaxis()\n",
        "plt.show()"
      ],
      "execution_count": 0,
      "outputs": [
        {
          "output_type": "display_data",
          "data": {
            "image/png": "[encoded data removed]",
            "text/plain": [
              "<Figure size 1440x1440 with 1 Axes>"
            ]
          },
          "metadata": {
            "tags": []
          }
        }
      ]
    },
    {
      "cell_type": "markdown",
      "metadata": {
        "id": "82Wfypp4Ei_P",
        "colab_type": "text"
      },
      "source": [
        "# 3. Evaluating the quality of the generated images\n",
        "\n",
        "After doing visual quality control, it is a good idea to quantify the quality of the generated images using specific metrics. The most popular metrics are Mean Squared Error (MSE), Peak Signal-to-Noise Ratio (PSNR) and Structural Similarity index (SSIM):\n",
        "* MSE = $ \\frac{1}{nm} \\sum_{i=1}^n \\sum_{j=1}^m (T_{ij} - G_{ij}) $\n",
        "\n",
        "* PSNR = $10 \\log_{10\u001f} \\left( \\frac{MAX_I^2}{MSE} \\right) $ where $MAX_I^2$ is the maximum possible value of the image (equal to 1 in our case since the images are scaled in range $[-1, 1]$). The higher, the better. \n",
        "\n",
        "* SSIM = $ \\frac{(2 \\mu_T \\mu_G + C_1)(2 \\sigma_{TG} + C_2)}{(\\mu_T^2 + \\mu_G^2 + C_1)(\\sigma_T^2 + \\sigma_G^2 + C2)} $ where $\\mu$ and $\\sigma$ are the mean value and standard deviation of an image respectively and $C_1$ and $C_2$ are two positive constants (one can take $C_1=0.01$ and $C_2=0.03$).\n",
        "\n",
        "To better understand the differences between metrics: https://www.pyimagesearch.com/2014/09/15/python-compare-two-images/"
      ]
    },
    {
      "cell_type": "code",
      "metadata": {
        "id": "QMnEX2hUI5X7",
        "colab_type": "code",
        "cellView": "form",
        "outputId": "8d1c4c36-eeee-489d-d923-8d17cd023835",
        "colab": {
          "base_uri": "https://localhost:8080/",
          "height": 91
        }
      },
      "source": [
        "#@title\n",
        "%%html\n",
        "<div style='background-color:rgba(80,255,80,0.4); padding:20px'>\n",
        "  <b>Exercise</b>: Define a function for each metric mentioned above and\n",
        "  evaluate the quality of the generated images on the training and test\n",
        "  sets. Compute the metrics for each image individually and find the best\n",
        "  and worst generated images according to these metrics.\n",
        "</div>"
      ],
      "execution_count": 0,
      "outputs": [
        {
          "output_type": "display_data",
          "data": {
            "text/html": [
              "<div style='background-color:rgba(80,255,80,0.4); padding:20px'>\n",
              "  <b>Exercise</b>: Define a function for each metric mentioned above and\n",
              "  evaluate the quality of the generated images on the training and test\n",
              "  sets. Compute the metrics for each image individually and find the best\n",
              "  and worst generated images according to these metrics.\n",
              "</div>"
            ],
            "text/plain": [
              "<IPython.core.display.HTML object>"
            ]
          },
          "metadata": {
            "tags": []
          }
        }
      ]
    },
    {
      "cell_type": "code",
      "metadata": {
        "id": "IlvFSxv4Je7z",
        "colab_type": "code",
        "colab": {}
      },
      "source": [
        "def MSE(image_true, image_generated):\n",
        "    return ((image_true - image_generated) ** 2).mean()\n",
        "\n",
        "\n",
        "def PSNR(image_true, image_generated):\n",
        "    mse = MSE(image_true, image_generated).cpu()\n",
        "    return -10 * np.log10(mse)\n",
        "\n",
        "\n",
        "def SSIM(image_true, image_generated, C1=0.01, C2=0.03):\n",
        "    mean_true = image_true.mean()\n",
        "    mean_generated = image_generated.mean()\n",
        "    std_true = image_true.std()\n",
        "    std_generated = image_generated.std()\n",
        "    covariance = ((image_true - mean_true) * (image_generated - mean_generated)).mean()\n",
        "\n",
        "    numerator = (2 * mean_true * mean_generated + C1) * (2 * covariance + C2)\n",
        "    denominator = (mean_true ** 2 + mean_generated ** 2 + C1) * (std_true ** 2 + std_generated ** 2 + C2)\n",
        "    return numerator / denominator"
      ],
      "execution_count": 0,
      "outputs": []
    },
    {
      "cell_type": "code",
      "metadata": {
        "id": "0NR07IsNWkc6",
        "colab_type": "code",
        "colab": {}
      },
      "source": [
        "import pandas as pd\n",
        "\n",
        "def evaluate_metrics(dataloader):\n",
        "\n",
        "    res = []\n",
        "\n",
        "    cuda = True if torch.cuda.is_available() else False\n",
        "    Tensor = torch.cuda.FloatTensor if cuda else torch.FloatTensor \n",
        "\n",
        "    for i, batch in enumerate(dataloader):\n",
        "\n",
        "        # Inputs T1-w and T2-w\n",
        "        real_A = Variable(batch[\"T1\"].type(Tensor), requires_grad=False)\n",
        "        real_B = Variable(batch[\"T2\"].type(Tensor), requires_grad=False)\n",
        "        fake_B = Variable(generator(real_A), requires_grad=False)\n",
        "\n",
        "        mse = MSE(real_B, fake_B).item()\n",
        "        psnr = PSNR(real_B, fake_B).item()\n",
        "        ssim = SSIM(real_B, fake_B).item()\n",
        "\n",
        "        res.append([mse, psnr, ssim])\n",
        "\n",
        "    df = pd.DataFrame(res, columns=['MSE', 'PSNR', 'SSIM'])\n",
        "    return df"
      ],
      "execution_count": 0,
      "outputs": []
    },
    {
      "cell_type": "code",
      "metadata": {
        "id": "jNUJV17LJ65f",
        "colab_type": "code",
        "colab": {}
      },
      "source": [
        "train_loader = DataLoader(\n",
        "    MvaDataset(root=root, mode=\"train\"),\n",
        "    batch_size=1,\n",
        "    shuffle=False,\n",
        ")\n",
        "\n",
        "test_dataloader = DataLoader(\n",
        "    MvaDataset(root=root, mode=\"test\"),\n",
        "    batch_size=1,\n",
        "    shuffle=False,\n",
        ")\n",
        "\n",
        "df_train = evaluate_metrics(train_loader)\n",
        "df_test = evaluate_metrics(test_loader)"
      ],
      "execution_count": 0,
      "outputs": []
    },
    {
      "cell_type": "code",
      "metadata": {
        "id": "jFe9cGBnnuwX",
        "colab_type": "code",
        "outputId": "0021d7c4-23b0-44e6-8269-9117aa51a674",
        "colab": {
          "base_uri": "https://localhost:8080/",
          "height": 419
        }
      },
      "source": [
        "df_train"
      ],
      "execution_count": 0,
      "outputs": [
        {
          "output_type": "execute_result",
          "data": {
            "text/html": [
              "<div>\n",
              "<style scoped>\n",
              "    .dataframe tbody tr th:only-of-type {\n",
              "        vertical-align: middle;\n",
              "    }\n",
              "\n",
              "    .dataframe tbody tr th {\n",
              "        vertical-align: top;\n",
              "    }\n",
              "\n",
              "    .dataframe thead th {\n",
              "        text-align: right;\n",
              "    }\n",
              "</style>\n",
              "<table border=\"1\" class=\"dataframe\">\n",
              "  <thead>\n",
              "    <tr style=\"text-align: right;\">\n",
              "      <th></th>\n",
              "      <th>MSE</th>\n",
              "      <th>PSNR</th>\n",
              "      <th>SSIM</th>\n",
              "    </tr>\n",
              "  </thead>\n",
              "  <tbody>\n",
              "    <tr>\n",
              "      <th>0</th>\n",
              "      <td>0.027602</td>\n",
              "      <td>15.590602</td>\n",
              "      <td>0.896102</td>\n",
              "    </tr>\n",
              "    <tr>\n",
              "      <th>1</th>\n",
              "      <td>0.025271</td>\n",
              "      <td>15.973754</td>\n",
              "      <td>0.911109</td>\n",
              "    </tr>\n",
              "    <tr>\n",
              "      <th>2</th>\n",
              "      <td>0.025364</td>\n",
              "      <td>15.957851</td>\n",
              "      <td>0.932440</td>\n",
              "    </tr>\n",
              "    <tr>\n",
              "      <th>3</th>\n",
              "      <td>0.022533</td>\n",
              "      <td>16.471813</td>\n",
              "      <td>0.920176</td>\n",
              "    </tr>\n",
              "    <tr>\n",
              "      <th>4</th>\n",
              "      <td>0.035025</td>\n",
              "      <td>14.556244</td>\n",
              "      <td>0.888277</td>\n",
              "    </tr>\n",
              "    <tr>\n",
              "      <th>...</th>\n",
              "      <td>...</td>\n",
              "      <td>...</td>\n",
              "      <td>...</td>\n",
              "    </tr>\n",
              "    <tr>\n",
              "      <th>456</th>\n",
              "      <td>0.030919</td>\n",
              "      <td>15.097797</td>\n",
              "      <td>0.897559</td>\n",
              "    </tr>\n",
              "    <tr>\n",
              "      <th>457</th>\n",
              "      <td>0.025564</td>\n",
              "      <td>15.923655</td>\n",
              "      <td>0.900665</td>\n",
              "    </tr>\n",
              "    <tr>\n",
              "      <th>458</th>\n",
              "      <td>0.036177</td>\n",
              "      <td>14.415691</td>\n",
              "      <td>0.896038</td>\n",
              "    </tr>\n",
              "    <tr>\n",
              "      <th>459</th>\n",
              "      <td>0.030292</td>\n",
              "      <td>15.186700</td>\n",
              "      <td>0.908964</td>\n",
              "    </tr>\n",
              "    <tr>\n",
              "      <th>460</th>\n",
              "      <td>0.038196</td>\n",
              "      <td>14.179842</td>\n",
              "      <td>0.879783</td>\n",
              "    </tr>\n",
              "  </tbody>\n",
              "</table>\n",
              "<p>461 rows × 3 columns</p>\n",
              "</div>"
            ],
            "text/plain": [
              "          MSE       PSNR      SSIM\n",
              "0    0.027602  15.590602  0.896102\n",
              "1    0.025271  15.973754  0.911109\n",
              "2    0.025364  15.957851  0.932440\n",
              "3    0.022533  16.471813  0.920176\n",
              "4    0.035025  14.556244  0.888277\n",
              "..        ...        ...       ...\n",
              "456  0.030919  15.097797  0.897559\n",
              "457  0.025564  15.923655  0.900665\n",
              "458  0.036177  14.415691  0.896038\n",
              "459  0.030292  15.186700  0.908964\n",
              "460  0.038196  14.179842  0.879783\n",
              "\n",
              "[461 rows x 3 columns]"
            ]
          },
          "metadata": {
            "tags": []
          },
          "execution_count": 40
        }
      ]
    },
    {
      "cell_type": "code",
      "metadata": {
        "id": "eb_oUO2znu5I",
        "colab_type": "code",
        "outputId": "db34fe00-7a09-4ca3-ce0d-239ccbbe12ab",
        "colab": {
          "base_uri": "https://localhost:8080/",
          "height": 793
        }
      },
      "source": [
        "df_test"
      ],
      "execution_count": 0,
      "outputs": [
        {
          "output_type": "execute_result",
          "data": {
            "text/html": [
              "<div>\n",
              "<style scoped>\n",
              "    .dataframe tbody tr th:only-of-type {\n",
              "        vertical-align: middle;\n",
              "    }\n",
              "\n",
              "    .dataframe tbody tr th {\n",
              "        vertical-align: top;\n",
              "    }\n",
              "\n",
              "    .dataframe thead th {\n",
              "        text-align: right;\n",
              "    }\n",
              "</style>\n",
              "<table border=\"1\" class=\"dataframe\">\n",
              "  <thead>\n",
              "    <tr style=\"text-align: right;\">\n",
              "      <th></th>\n",
              "      <th>MSE</th>\n",
              "      <th>PSNR</th>\n",
              "      <th>SSIM</th>\n",
              "    </tr>\n",
              "  </thead>\n",
              "  <tbody>\n",
              "    <tr>\n",
              "      <th>0</th>\n",
              "      <td>0.029004</td>\n",
              "      <td>15.375368</td>\n",
              "      <td>0.905485</td>\n",
              "    </tr>\n",
              "    <tr>\n",
              "      <th>1</th>\n",
              "      <td>0.031089</td>\n",
              "      <td>15.073905</td>\n",
              "      <td>0.902661</td>\n",
              "    </tr>\n",
              "    <tr>\n",
              "      <th>2</th>\n",
              "      <td>0.029720</td>\n",
              "      <td>15.269526</td>\n",
              "      <td>0.894119</td>\n",
              "    </tr>\n",
              "    <tr>\n",
              "      <th>3</th>\n",
              "      <td>0.029147</td>\n",
              "      <td>15.354100</td>\n",
              "      <td>0.897958</td>\n",
              "    </tr>\n",
              "    <tr>\n",
              "      <th>4</th>\n",
              "      <td>0.028657</td>\n",
              "      <td>15.427718</td>\n",
              "      <td>0.904822</td>\n",
              "    </tr>\n",
              "    <tr>\n",
              "      <th>5</th>\n",
              "      <td>0.032086</td>\n",
              "      <td>14.936862</td>\n",
              "      <td>0.888220</td>\n",
              "    </tr>\n",
              "    <tr>\n",
              "      <th>6</th>\n",
              "      <td>0.029097</td>\n",
              "      <td>15.361565</td>\n",
              "      <td>0.908176</td>\n",
              "    </tr>\n",
              "    <tr>\n",
              "      <th>7</th>\n",
              "      <td>0.024882</td>\n",
              "      <td>16.041128</td>\n",
              "      <td>0.903723</td>\n",
              "    </tr>\n",
              "    <tr>\n",
              "      <th>8</th>\n",
              "      <td>0.026833</td>\n",
              "      <td>15.713253</td>\n",
              "      <td>0.903234</td>\n",
              "    </tr>\n",
              "    <tr>\n",
              "      <th>9</th>\n",
              "      <td>0.030373</td>\n",
              "      <td>15.175135</td>\n",
              "      <td>0.899046</td>\n",
              "    </tr>\n",
              "    <tr>\n",
              "      <th>10</th>\n",
              "      <td>0.030891</td>\n",
              "      <td>15.101658</td>\n",
              "      <td>0.887616</td>\n",
              "    </tr>\n",
              "    <tr>\n",
              "      <th>11</th>\n",
              "      <td>0.027667</td>\n",
              "      <td>15.580385</td>\n",
              "      <td>0.910446</td>\n",
              "    </tr>\n",
              "    <tr>\n",
              "      <th>12</th>\n",
              "      <td>0.030476</td>\n",
              "      <td>15.160393</td>\n",
              "      <td>0.897197</td>\n",
              "    </tr>\n",
              "    <tr>\n",
              "      <th>13</th>\n",
              "      <td>0.035921</td>\n",
              "      <td>14.446540</td>\n",
              "      <td>0.893494</td>\n",
              "    </tr>\n",
              "    <tr>\n",
              "      <th>14</th>\n",
              "      <td>0.028913</td>\n",
              "      <td>15.389009</td>\n",
              "      <td>0.904543</td>\n",
              "    </tr>\n",
              "    <tr>\n",
              "      <th>15</th>\n",
              "      <td>0.024484</td>\n",
              "      <td>16.111235</td>\n",
              "      <td>0.909404</td>\n",
              "    </tr>\n",
              "    <tr>\n",
              "      <th>16</th>\n",
              "      <td>0.026396</td>\n",
              "      <td>15.784588</td>\n",
              "      <td>0.903351</td>\n",
              "    </tr>\n",
              "    <tr>\n",
              "      <th>17</th>\n",
              "      <td>0.029475</td>\n",
              "      <td>15.305424</td>\n",
              "      <td>0.902141</td>\n",
              "    </tr>\n",
              "    <tr>\n",
              "      <th>18</th>\n",
              "      <td>0.023510</td>\n",
              "      <td>16.287428</td>\n",
              "      <td>0.911323</td>\n",
              "    </tr>\n",
              "    <tr>\n",
              "      <th>19</th>\n",
              "      <td>0.029847</td>\n",
              "      <td>15.251020</td>\n",
              "      <td>0.901769</td>\n",
              "    </tr>\n",
              "    <tr>\n",
              "      <th>20</th>\n",
              "      <td>0.030459</td>\n",
              "      <td>15.162830</td>\n",
              "      <td>0.910043</td>\n",
              "    </tr>\n",
              "    <tr>\n",
              "      <th>21</th>\n",
              "      <td>0.034595</td>\n",
              "      <td>14.609886</td>\n",
              "      <td>0.891562</td>\n",
              "    </tr>\n",
              "    <tr>\n",
              "      <th>22</th>\n",
              "      <td>0.032041</td>\n",
              "      <td>14.942905</td>\n",
              "      <td>0.890965</td>\n",
              "    </tr>\n",
              "    <tr>\n",
              "      <th>23</th>\n",
              "      <td>0.046022</td>\n",
              "      <td>13.370378</td>\n",
              "      <td>0.856644</td>\n",
              "    </tr>\n",
              "  </tbody>\n",
              "</table>\n",
              "</div>"
            ],
            "text/plain": [
              "         MSE       PSNR      SSIM\n",
              "0   0.029004  15.375368  0.905485\n",
              "1   0.031089  15.073905  0.902661\n",
              "2   0.029720  15.269526  0.894119\n",
              "3   0.029147  15.354100  0.897958\n",
              "4   0.028657  15.427718  0.904822\n",
              "5   0.032086  14.936862  0.888220\n",
              "6   0.029097  15.361565  0.908176\n",
              "7   0.024882  16.041128  0.903723\n",
              "8   0.026833  15.713253  0.903234\n",
              "9   0.030373  15.175135  0.899046\n",
              "10  0.030891  15.101658  0.887616\n",
              "11  0.027667  15.580385  0.910446\n",
              "12  0.030476  15.160393  0.897197\n",
              "13  0.035921  14.446540  0.893494\n",
              "14  0.028913  15.389009  0.904543\n",
              "15  0.024484  16.111235  0.909404\n",
              "16  0.026396  15.784588  0.903351\n",
              "17  0.029475  15.305424  0.902141\n",
              "18  0.023510  16.287428  0.911323\n",
              "19  0.029847  15.251020  0.901769\n",
              "20  0.030459  15.162830  0.910043\n",
              "21  0.034595  14.609886  0.891562\n",
              "22  0.032041  14.942905  0.890965\n",
              "23  0.046022  13.370378  0.856644"
            ]
          },
          "metadata": {
            "tags": []
          },
          "execution_count": 41
        }
      ]
    }
  ]
}